{
  "cells": [
    {
      "cell_type": "markdown",
      "metadata": {
        "id": "view-in-github",
        "colab_type": "text"
      },
      "source": [
        "<a href=\"https://colab.research.google.com/github/micheusch/sagemaker/blob/main/binary_classifier_pt.ipynb\" target=\"_parent\"><img src=\"https://colab.research.google.com/assets/colab-badge.svg\" alt=\"Open In Colab\"/></a>"
      ]
    },
    {
      "cell_type": "code",
      "source": [
        "import numpy as np\n",
        "import pandas as pd\n",
        "import seaborn as sns\n",
        "import matplotlib.pyplot as plt\n",
        "\n",
        "import torch\n",
        "import torch.nn as nn\n",
        "import torch.optim as optim\n",
        "from torch.utils.data import Dataset, DataLoader\n",
        "\n",
        "from sklearn.preprocessing import StandardScaler    \n",
        "from sklearn.model_selection import train_test_split\n",
        "from sklearn.metrics import confusion_matrix, classification_report"
      ],
      "metadata": {
        "id": "FIm3QLs6BuIw"
      },
      "execution_count": 1,
      "outputs": []
    },
    {
      "cell_type": "code",
      "source": [
        "!wget https://archive.ics.uci.edu/ml/machine-learning-databases/00350/default%20of%20credit%20card%20clients.xls"
      ],
      "metadata": {
        "id": "9d0Hb77ZCYpc"
      },
      "execution_count": null,
      "outputs": []
    },
    {
      "cell_type": "code",
      "source": [
        "import os\n",
        "\n",
        "OUTPUT_DIR = './outdir'\n",
        "if not os.path.exists(OUTPUT_DIR):\n",
        "    os.makedirs(OUTPUT_DIR)"
      ],
      "metadata": {
        "id": "9dLIgzuH1EYk"
      },
      "execution_count": 192,
      "outputs": []
    },
    {
      "cell_type": "code",
      "source": [
        "!pip install -U xlrd\n",
        "df = pd.read_excel(open('default of credit card clients.xls' ,'rb'), header =1, index_col=0)"
      ],
      "metadata": {
        "colab": {
          "base_uri": "https://localhost:8080/"
        },
        "id": "ldtbhNtYDP6D",
        "outputId": "2a38f46f-203d-4219-c7a4-71f30fc8e808"
      },
      "execution_count": 5,
      "outputs": [
        {
          "output_type": "stream",
          "name": "stdout",
          "text": [
            "Requirement already satisfied: xlrd in /usr/local/lib/python3.7/dist-packages (2.0.1)\n"
          ]
        }
      ]
    },
    {
      "cell_type": "code",
      "source": [
        "X = df.iloc[:, 0:-1]\n",
        "y = df.iloc[:, -1]\n",
        "X_train, X_valid, y_train, y_valid = train_test_split(X, y, test_size=0.33, random_state=42)"
      ],
      "metadata": {
        "id": "JAlYGBbkCnBE"
      },
      "execution_count": 62,
      "outputs": []
    },
    {
      "cell_type": "markdown",
      "source": [
        "## EDA"
      ],
      "metadata": {
        "id": "M3XjKabLtPRz"
      }
    },
    {
      "cell_type": "code",
      "source": [
        "# Analysis of class imbalance\n",
        "y.value_counts()/len(y)"
      ],
      "metadata": {
        "colab": {
          "base_uri": "https://localhost:8080/"
        },
        "id": "vFJB2ED5ihzi",
        "outputId": "2ad22b21-f513-47bf-d2ae-47052ac5a912"
      },
      "execution_count": 118,
      "outputs": [
        {
          "output_type": "execute_result",
          "data": {
            "text/plain": [
              "0    0.7788\n",
              "1    0.2212\n",
              "Name: default payment next month, dtype: float64"
            ]
          },
          "metadata": {},
          "execution_count": 118
        }
      ]
    },
    {
      "cell_type": "markdown",
      "source": [
        "## Building a minimal baseline"
      ],
      "metadata": {
        "id": "YQJDczCRkUgg"
      }
    },
    {
      "cell_type": "code",
      "source": [
        "from sklearn.dummy import DummyClassifier\n",
        "dummy_clf = DummyClassifier(strategy=\"most_frequent\")\n",
        "dummy_clf.fit(X_train, y_train)\n",
        "\n",
        "dummy_clf.predict(X_valid)\n",
        "dummy_clf.score(X_valid, y_valid)"
      ],
      "metadata": {
        "colab": {
          "base_uri": "https://localhost:8080/"
        },
        "id": "58YegcHVi4SJ",
        "outputId": "5ed5adfe-40e0-4a2b-dace-50a8e2a310c9"
      },
      "execution_count": 123,
      "outputs": [
        {
          "output_type": "execute_result",
          "data": {
            "text/plain": [
              "0.78"
            ]
          },
          "metadata": {},
          "execution_count": 123
        }
      ]
    },
    {
      "cell_type": "markdown",
      "source": [
        "## Build a NN model"
      ],
      "metadata": {
        "id": "QnDpyql2koXU"
      }
    },
    {
      "cell_type": "markdown",
      "source": [
        "### First, we need to configure the network to be able to overfit our training data"
      ],
      "metadata": {
        "id": "wM1xxnckt3fR"
      }
    },
    {
      "cell_type": "code",
      "source": [
        "scaler = StandardScaler()\n",
        "X_train = scaler.fit_transform(X_train)\n",
        "X_valid = scaler.transform(X_valid)\n",
        "EPOCHS = 20\n",
        "HIDDEN_STATES = 100\n",
        "FEATURES = X.shape[1]\n",
        "BATCH_SIZE = 64\n",
        "LEARNING_RATE = 0.001\n",
        "DROPOUT = 0.000"
      ],
      "metadata": {
        "id": "6r3Gfn97B1iP"
      },
      "execution_count": 171,
      "outputs": []
    },
    {
      "cell_type": "code",
      "source": [
        "class TrainData(Dataset):\n",
        "    \n",
        "    def __init__(self, X_data, y_data):\n",
        "        self.X_data = X_data\n",
        "        self.y_data = y_data\n",
        "        \n",
        "    def __getitem__(self, index):\n",
        "        return self.X_data[index], self.y_data[index]\n",
        "        \n",
        "    def __len__ (self):\n",
        "        return len(self.X_data)\n",
        "\n",
        "\n",
        "train_data = TrainData(torch.FloatTensor(X_train), \n",
        "                       torch.FloatTensor(y_train.values))\n",
        "valid_data = TrainData(torch.FloatTensor(X_valid), \n",
        "                       torch.FloatTensor(y_valid.values))"
      ],
      "metadata": {
        "id": "7PRcG4MGB7-S"
      },
      "execution_count": 172,
      "outputs": []
    },
    {
      "cell_type": "code",
      "source": [
        "train_loader = DataLoader(dataset=train_data, batch_size=BATCH_SIZE, shuffle=True)\n",
        "valid_loader = DataLoader(dataset=valid_data, batch_size=BATCH_SIZE, shuffle=True)"
      ],
      "metadata": {
        "id": "BLp2QR59B-Wz"
      },
      "execution_count": 173,
      "outputs": []
    },
    {
      "cell_type": "code",
      "source": [
        "class BinaryClassification(nn.Module):\n",
        "    def __init__(self):\n",
        "        super(BinaryClassification, self).__init__()\n",
        "        self.layer_1 = nn.Linear(FEATURES, HIDDEN_STATES) \n",
        "        self.layer_2 = nn.Linear(HIDDEN_STATES, HIDDEN_STATES)\n",
        "        self.layer_out = nn.Linear(HIDDEN_STATES, 1) \n",
        "        self.sig = nn.Sigmoid()\n",
        "        \n",
        "        self.relu = nn.ReLU()\n",
        "        self.dropout = nn.Dropout(p=DROPOUT)\n",
        "        self.batchnorm1 = nn.BatchNorm1d(HIDDEN_STATES)\n",
        "        self.batchnorm2 = nn.BatchNorm1d(HIDDEN_STATES)\n",
        "        \n",
        "    def forward(self, inputs):\n",
        "        x = self.relu(self.layer_1(inputs))\n",
        "        x = self.batchnorm1(x)\n",
        "        x = self.relu(self.layer_2(x))\n",
        "        x = self.batchnorm2(x)\n",
        "        x = self.dropout(x)\n",
        "        x = self.layer_out(x)\n",
        "        # x = self.sig(x)\n",
        "        return x"
      ],
      "metadata": {
        "id": "OI86dK1UCA58"
      },
      "execution_count": 179,
      "outputs": []
    },
    {
      "cell_type": "code",
      "source": [
        "class AverageMeter(object):\n",
        "    \"\"\"Computes and stores the average and current value\"\"\"\n",
        "    def __init__(self):\n",
        "        self.reset()\n",
        "\n",
        "    def reset(self):\n",
        "        self.val = 0\n",
        "        self.avg = 0\n",
        "        self.sum = 0\n",
        "        self.count = 0\n",
        "\n",
        "    def update(self, val, n=1):\n",
        "        self.val = val\n",
        "        self.sum += val * n\n",
        "        self.count += n\n",
        "        self.avg = self.sum / self.count\n",
        "\n",
        "def train_fn(train_loader, model, criterion, optimizer, epoch, device):\n",
        "    model.train()\n",
        "    losses = AverageMeter()\n",
        "\n",
        "    for X_batch, y_batch in train_loader:\n",
        "        X_batch, y_batch = X_batch.to(device), y_batch.to(device)\n",
        "        batch_size = y_batch.size(0)\n",
        "\n",
        "        optimizer.zero_grad()       \n",
        "        y_pred = model(X_batch)        \n",
        "        loss = criterion(y_pred, y_batch.unsqueeze(1))\n",
        "        losses.update(loss.item(), batch_size)\n",
        "\n",
        "        loss.backward()\n",
        "        optimizer.step()\n",
        "\n",
        "    return losses.avg\n",
        "  \n",
        "def valid_fn(valid_loader, model, criterion, optimizer, epoch, device):\n",
        "    model.eval()\n",
        "    losses = AverageMeter()\n",
        "    preds = []\n",
        "\n",
        "    for X_batch, y_batch in valid_loader:\n",
        "        X_batch, y_batch = X_batch.to(device), y_batch.to(device)\n",
        "        batch_size = y_batch.size(0)\n",
        "        \n",
        "        with torch.no_grad():\n",
        "          y_pred = model(X_batch)        \n",
        "        loss = criterion(y_pred, y_batch.unsqueeze(1))\n",
        "        losses.update(loss.item(), batch_size)\n",
        "\n",
        "        preds.append(y_pred.sigmoid().to('cpu').numpy())\n",
        "      \n",
        "    predictions = np.concatenate(preds)\n",
        "    return losses.avg, predictions"
      ],
      "metadata": {
        "id": "Y6nA80BFGR3L"
      },
      "execution_count": 180,
      "outputs": []
    },
    {
      "cell_type": "code",
      "source": [
        "def binary_acc(y_pred, y_test):\n",
        "    y_pred_tag = torch.round(torch.sigmoid(y_pred))\n",
        "\n",
        "    correct_results_sum = (y_pred_tag == y_test).sum().float()\n",
        "    acc = correct_results_sum/y_test.shape[0]\n",
        "    acc = torch.round(acc * 100)\n",
        "    \n",
        "    return acc\n",
        "\n",
        "from sklearn.metrics import accuracy_score"
      ],
      "metadata": {
        "id": "0SBYDp5sCKeK"
      },
      "execution_count": 181,
      "outputs": []
    },
    {
      "cell_type": "code",
      "source": [
        "train_loss = []\n",
        "valid_loss = []\n",
        "best_score = 0.\n",
        "\n",
        "device = torch.device(\"cuda:0\" if torch.cuda.is_available() else \"cpu\")\n",
        "model = BinaryClassification()\n",
        "model.to(device)\n",
        "criterion = nn.BCEWithLogitsLoss()\n",
        "optimizer = optim.Adam(model.parameters(), lr=LEARNING_RATE)\n",
        "\n",
        "for e in range(1, EPOCHS+1):\n",
        "\n",
        "    avg_train_loss = \\\n",
        "      train_fn(train_loader, model, criterion, optimizer, e, device)\n",
        "    avg_valid_loss, predictions = \\\n",
        "      valid_fn(valid_loader, model, criterion, optimizer, e, device)\n",
        "    \n",
        "    train_loss.append(avg_train_loss)\n",
        "    valid_loss.append(avg_valid_loss)\n",
        "\n",
        "    acc = accuracy_score(np.round(predictions[:,0]), y_valid.values)\n",
        "    if best_score < acc:\n",
        "      best_score = acc\n",
        "      torch.save({'model': model.state_dict(),\n",
        "                  'predictions': predictions},\n",
        "                  OUTPUT_DIR + f\"model_best.pth\")      \n",
        "    print(f'Epoch {e+0:03}: | Loss: {avg_train_loss:.5f} | ' +\n",
        "          f'Val Loss: {avg_valid_loss:.5f} | Acc: {acc:.5f}')   \n",
        "\n",
        "print(f'BestAcc {best_score:.3f}')\n"
      ],
      "metadata": {
        "id": "yUVzQcqECPnn",
        "colab": {
          "base_uri": "https://localhost:8080/"
        },
        "outputId": "843d8e0f-5d1b-44e0-a31f-7a853bb54d11"
      },
      "execution_count": 193,
      "outputs": [
        {
          "output_type": "stream",
          "name": "stdout",
          "text": [
            "Epoch 001: | Loss: 0.49807 | Val Loss: 0.45245 | Acc: 0.70778\n",
            "Epoch 002: | Loss: 0.43909 | Val Loss: 0.45076 | Acc: 0.70111\n",
            "Epoch 003: | Loss: 0.43354 | Val Loss: 0.44587 | Acc: 0.70838\n",
            "Epoch 004: | Loss: 0.43041 | Val Loss: 0.44259 | Acc: 0.70485\n",
            "Epoch 005: | Loss: 0.42714 | Val Loss: 0.44048 | Acc: 0.72495\n",
            "Epoch 006: | Loss: 0.42584 | Val Loss: 0.44246 | Acc: 0.70131\n",
            "Epoch 007: | Loss: 0.42410 | Val Loss: 0.43663 | Acc: 0.71212\n",
            "Epoch 008: | Loss: 0.42240 | Val Loss: 0.43609 | Acc: 0.71990\n",
            "Epoch 009: | Loss: 0.42109 | Val Loss: 0.43536 | Acc: 0.70616\n",
            "Epoch 010: | Loss: 0.42042 | Val Loss: 0.43593 | Acc: 0.71606\n",
            "Epoch 011: | Loss: 0.41924 | Val Loss: 0.43261 | Acc: 0.71859\n",
            "Epoch 012: | Loss: 0.41701 | Val Loss: 0.43622 | Acc: 0.71616\n",
            "Epoch 013: | Loss: 0.41577 | Val Loss: 0.43841 | Acc: 0.71051\n",
            "Epoch 014: | Loss: 0.41258 | Val Loss: 0.43702 | Acc: 0.71556\n",
            "Epoch 015: | Loss: 0.41190 | Val Loss: 0.44126 | Acc: 0.71687\n",
            "Epoch 016: | Loss: 0.41134 | Val Loss: 0.44813 | Acc: 0.71869\n",
            "Epoch 017: | Loss: 0.41064 | Val Loss: 0.44159 | Acc: 0.69828\n",
            "Epoch 018: | Loss: 0.40977 | Val Loss: 0.44195 | Acc: 0.71697\n",
            "Epoch 019: | Loss: 0.41028 | Val Loss: 0.43753 | Acc: 0.71616\n",
            "Epoch 020: | Loss: 0.40811 | Val Loss: 0.44413 | Acc: 0.71030\n",
            "BestAcc 0.725\n"
          ]
        }
      ]
    },
    {
      "cell_type": "code",
      "source": [
        "plt.plot(range(EPOCHS),train_loss)\n",
        "plt.plot(range(EPOCHS),valid_loss);"
      ],
      "metadata": {
        "colab": {
          "base_uri": "https://localhost:8080/",
          "height": 265
        },
        "id": "VN5AHmRocZoQ",
        "outputId": "18aa6404-4e2b-4af4-b88f-0757709dae60"
      },
      "execution_count": 194,
      "outputs": [
        {
          "output_type": "display_data",
          "data": {
            "text/plain": [
              "<Figure size 432x288 with 1 Axes>"
            ],
            "image/png": "[encoded data removed]"
          },
          "metadata": {
            "needs_background": "light"
          }
        }
      ]
    },
    {
      "cell_type": "code",
      "source": [
        ""
      ],
      "metadata": {
        "id": "h0S62cTzfHbV"
      },
      "execution_count": 141,
      "outputs": []
    }
  ],
  "metadata": {
    "colab": {
      "collapsed_sections": [],
      "name": "Welcome to Colaboratory",
      "provenance": [],
      "include_colab_link": true
    },
    "kernelspec": {
      "display_name": "Python 3",
      "name": "python3"
    }
  },
  "nbformat": 4,
  "nbformat_minor": 0
}