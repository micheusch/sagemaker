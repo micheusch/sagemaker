{
  "nbformat": 4,
  "nbformat_minor": 0,
  "metadata": {
    "colab": {
      "name": "Live Music News_API.ipynb",
      "provenance": [],
      "collapsed_sections": [
        "XnQwgFNl-KZ0",
        "Zf4Rgm3yZWxN",
        "nhTjz64APkHC"
      ],
      "authorship_tag": "ABX9TyMHx6GDC6js91yrzeQc/J6x"
    },
    "kernelspec": {
      "name": "python3",
      "display_name": "Python 3"
    }
  },
  "cells": [
    {
      "cell_type": "code",
      "metadata": {
        "id": "jqtkdq6SQ6ID",
        "colab": {
          "base_uri": "https://localhost:8080/"
        },
        "outputId": "45a41455-6922-49cf-9fc6-3783f283b6a3"
      },
      "source": [
        "import pandas as pd\n",
        "import numpy as np\n",
        "import spacy\n",
        "from sklearn.decomposition import LatentDirichletAllocation\n",
        "from sklearn.feature_extraction.text import CountVectorizer\n",
        "import tqdm\n",
        "import requests\n",
        "from bs4 import BeautifulSoup\n",
        "from google.colab import drive\n",
        "import datetime\n",
        "import json\n",
        "import os\n",
        "drive.mount('/content/gdrive')"
      ],
      "execution_count": 1,
      "outputs": [
        {
          "output_type": "stream",
          "name": "stdout",
          "text": [
            "Mounted at /content/gdrive\n"
          ]
        }
      ]
    },
    {
      "cell_type": "code",
      "metadata": {
        "id": "PqEgbiygPF-f"
      },
      "source": [
        "# Get Topic news\n",
        "# url = ('http://newsapi.org/v2/top-headlines?sources=bbc-news&apiKey=110b7657f0fc4f60954b82bc2c8f78a3')\n",
        "# url = ('http://newsapi.org/v2/top-headlines?country=us&apiKey=110b7657f0fc4f60954b82bc2c8f78a3')\n",
        "url = ('http://newsapi.org/v2/everything?pageSize=100&apiKey=110b7657f0fc4f60954b82bc2c8f78a3&q=')\n",
        "topics = ['live music']\n",
        "df = pd.DataFrame()\n",
        "for t in topics:\n",
        "  response = requests.get(url + t)\n",
        "  r = response.json()\n",
        "  # print(r)\n",
        "  tdf = pd.DataFrame(r['articles'])\n",
        "  tdf['topic'] = t\n",
        "  df = pd.concat([df, tdf], ignore_index=True)\n",
        "\n",
        "df['content_clean'] = df['content'].fillna('no results').map(lambda x: x[:-7])\n",
        "all_texts = df['content_clean']"
      ],
      "execution_count": 3,
      "outputs": []
    },
    {
      "cell_type": "code",
      "metadata": {
        "colab": {
          "base_uri": "https://localhost:8080/",
          "height": 589
        },
        "id": "E-edgrtmb21b",
        "outputId": "71512cbf-868e-4fae-aa0f-8811e2fccb1e"
      },
      "source": [
        "df"
      ],
      "execution_count": 13,
      "outputs": [
        {
          "output_type": "execute_result",
          "data": {
            "text/html": [
              "<div>\n",
              "<style scoped>\n",
              "    .dataframe tbody tr th:only-of-type {\n",
              "        vertical-align: middle;\n",
              "    }\n",
              "\n",
              "    .dataframe tbody tr th {\n",
              "        vertical-align: top;\n",
              "    }\n",
              "\n",
              "    .dataframe thead th {\n",
              "        text-align: right;\n",
              "    }\n",
              "</style>\n",
              "<table border=\"1\" class=\"dataframe\">\n",
              "  <thead>\n",
              "    <tr style=\"text-align: right;\">\n",
              "      <th></th>\n",
              "      <th>source</th>\n",
              "      <th>author</th>\n",
              "      <th>title</th>\n",
              "      <th>description</th>\n",
              "      <th>url</th>\n",
              "      <th>urlToImage</th>\n",
              "      <th>publishedAt</th>\n",
              "      <th>content</th>\n",
              "    </tr>\n",
              "  </thead>\n",
              "  <tbody>\n",
              "    <tr>\n",
              "      <th>0</th>\n",
              "      <td>{'id': None, 'name': 'New York Times'}</td>\n",
              "      <td>Jon Pareles</td>\n",
              "      <td>Globalfest Moves Online, Showcasing World Musi...</td>\n",
              "      <td>With 16 bands over four nights, the festival e...</td>\n",
              "      <td>https://www.nytimes.com/2021/01/15/arts/music/...</td>\n",
              "      <td>https://static01.nyt.com/images/2021/01/15/art...</td>\n",
              "      <td>2021-01-16T00:27:08Z</td>\n",
              "      <td>Minyo Crusaders set an old Japanese song, from...</td>\n",
              "    </tr>\n",
              "    <tr>\n",
              "      <th>1</th>\n",
              "      <td>{'id': 'engadget', 'name': 'Engadget'}</td>\n",
              "      <td>Chris Velazco</td>\n",
              "      <td>Spotify just started testing its live lyrics f...</td>\n",
              "      <td>Do you miss all the time you used to spend cra...</td>\n",
              "      <td>https://www.engadget.com/spotify-live-lyrics-u...</td>\n",
              "      <td>https://s.yimg.com/os/creatr-uploaded-images/2...</td>\n",
              "      <td>2021-02-09T14:00:45Z</td>\n",
              "      <td>Do you miss all the time you used to spend cra...</td>\n",
              "    </tr>\n",
              "    <tr>\n",
              "      <th>2</th>\n",
              "      <td>{'id': 'techcrunch', 'name': 'TechCrunch'}</td>\n",
              "      <td>Sarah Perez</td>\n",
              "      <td>Spotify confirms it’s (finally) testing a lyri...</td>\n",
              "      <td>Spotify this morning confirmed it’s testing a ...</td>\n",
              "      <td>http://techcrunch.com/2021/02/09/spotify-confi...</td>\n",
              "      <td>https://techcrunch.com/wp-content/uploads/2019...</td>\n",
              "      <td>2021-02-09T17:00:54Z</td>\n",
              "      <td>Spotify this morning confirmed it’s testing a ...</td>\n",
              "    </tr>\n",
              "    <tr>\n",
              "      <th>3</th>\n",
              "      <td>{'id': 'bbc-news', 'name': 'BBC News'}</td>\n",
              "      <td>None</td>\n",
              "      <td>Covid vaccine patients treated to live organ m...</td>\n",
              "      <td>People listened to the likes of Bach and Hande...</td>\n",
              "      <td>https://www.bbc.co.uk/news/av/uk-55692690</td>\n",
              "      <td>https://ichef.bbci.co.uk/images/ic/400xn/p0947...</td>\n",
              "      <td>2021-01-16T23:31:17Z</td>\n",
              "      <td>About a thousand people over the age of 80 hav...</td>\n",
              "    </tr>\n",
              "    <tr>\n",
              "      <th>4</th>\n",
              "      <td>{'id': 'mashable', 'name': 'Mashable'}</td>\n",
              "      <td>Joseph Green</td>\n",
              "      <td>Mix your own music with a lifetime subscriptio...</td>\n",
              "      <td>TL;DR: A lifetime subscription to the Ableton ...</td>\n",
              "      <td>https://mashable.com/uk/shopping/jan-21-ableto...</td>\n",
              "      <td>https://mondrian.mashable.com/2021%252F01%252F...</td>\n",
              "      <td>2021-01-21T05:05:00Z</td>\n",
              "      <td>TL;DR: A lifetime subscription to the Ableton ...</td>\n",
              "    </tr>\n",
              "    <tr>\n",
              "      <th>...</th>\n",
              "      <td>...</td>\n",
              "      <td>...</td>\n",
              "      <td>...</td>\n",
              "      <td>...</td>\n",
              "      <td>...</td>\n",
              "      <td>...</td>\n",
              "      <td>...</td>\n",
              "      <td>...</td>\n",
              "    </tr>\n",
              "    <tr>\n",
              "      <th>895</th>\n",
              "      <td>{'id': None, 'name': 'Slashdot.org'}</td>\n",
              "      <td>EditorDavid</td>\n",
              "      <td>The Rolling Stones Recreate 'Start Me Up' Vide...</td>\n",
              "      <td>Long-time Slashdot reader destinyland writes: ...</td>\n",
              "      <td>https://hardware.slashdot.org/story/21/10/31/0...</td>\n",
              "      <td>https://a.fsdn.com/sd/topics/advertising_64.png</td>\n",
              "      <td>2021-10-31T01:34:00Z</td>\n",
              "      <td>40 years ago the Rolling Stones released the s...</td>\n",
              "    </tr>\n",
              "    <tr>\n",
              "      <th>896</th>\n",
              "      <td>{'id': None, 'name': 'The Guardian'}</td>\n",
              "      <td>by Dalya Alberge</td>\n",
              "      <td>In Britten’s footsteps, Nitin Sawhney’s requie...</td>\n",
              "      <td>Composer says his music for 60th anniversary o...</td>\n",
              "      <td>https://amp.theguardian.com/music/2021/nov/07/...</td>\n",
              "      <td>https://i.guim.co.uk/img/media/1d8e309be66e6cf...</td>\n",
              "      <td>2021-11-07T08:30:13Z</td>\n",
              "      <td>The 1962 premiere of Benjamin Brittens War Req...</td>\n",
              "    </tr>\n",
              "    <tr>\n",
              "      <th>897</th>\n",
              "      <td>{'id': None, 'name': 'Yahoo Entertainment'}</td>\n",
              "      <td>Associated Press Videos</td>\n",
              "      <td>Cardinal Dolan blessing of the animals, Rockettes</td>\n",
              "      <td>Cardinal Timothy Dolan kicked off the holiday ...</td>\n",
              "      <td>https://news.yahoo.com/cardinal-dolan-blessing...</td>\n",
              "      <td>https://s.yimg.com/ny/api/res/1.2/DDleoZWKV1dn...</td>\n",
              "      <td>2021-11-02T17:46:10Z</td>\n",
              "      <td>Instagram/Tarrant County Sheriffs OfficeA man ...</td>\n",
              "    </tr>\n",
              "    <tr>\n",
              "      <th>898</th>\n",
              "      <td>{'id': None, 'name': 'CP24 Toronto's Breaking ...</td>\n",
              "      <td>None</td>\n",
              "      <td>9-year-old Dallas boy dies after Astroworld fe...</td>\n",
              "      <td>&lt;ol&gt;&lt;li&gt;9-year-old Dallas boy dies after Astro...</td>\n",
              "      <td>https://www.cp24.com/entertainment-news/9-year...</td>\n",
              "      <td>https://www.cp24.com/polopoly_fs/1.5666074.163...</td>\n",
              "      <td>2021-11-15T03:16:00Z</td>\n",
              "      <td>HOUSTON (AP) - A 9-year-old Dallas boy has bec...</td>\n",
              "    </tr>\n",
              "    <tr>\n",
              "      <th>899</th>\n",
              "      <td>{'id': None, 'name': 'Ctvnews.ca'}</td>\n",
              "      <td>None</td>\n",
              "      <td>Astroworld: 10th person dies after festival - ...</td>\n",
              "      <td>&lt;ol&gt;&lt;li&gt;Astroworld: 10th person dies after fes...</td>\n",
              "      <td>https://www.ctvnews.ca/world/9-year-old-dallas...</td>\n",
              "      <td>https://www.ctvnews.ca/polopoly_fs/1.5656437.1...</td>\n",
              "      <td>2021-11-15T03:23:00Z</td>\n",
              "      <td>HOUSTON -- \\r\\nA 9-year-old Dallas boy has bec...</td>\n",
              "    </tr>\n",
              "  </tbody>\n",
              "</table>\n",
              "<p>900 rows × 8 columns</p>\n",
              "</div>"
            ],
            "text/plain": [
              "                                                source  ...                                            content\n",
              "0               {'id': None, 'name': 'New York Times'}  ...  Minyo Crusaders set an old Japanese song, from...\n",
              "1               {'id': 'engadget', 'name': 'Engadget'}  ...  Do you miss all the time you used to spend cra...\n",
              "2           {'id': 'techcrunch', 'name': 'TechCrunch'}  ...  Spotify this morning confirmed it’s testing a ...\n",
              "3               {'id': 'bbc-news', 'name': 'BBC News'}  ...  About a thousand people over the age of 80 hav...\n",
              "4               {'id': 'mashable', 'name': 'Mashable'}  ...  TL;DR: A lifetime subscription to the Ableton ...\n",
              "..                                                 ...  ...                                                ...\n",
              "895               {'id': None, 'name': 'Slashdot.org'}  ...  40 years ago the Rolling Stones released the s...\n",
              "896               {'id': None, 'name': 'The Guardian'}  ...  The 1962 premiere of Benjamin Brittens War Req...\n",
              "897        {'id': None, 'name': 'Yahoo Entertainment'}  ...  Instagram/Tarrant County Sheriffs OfficeA man ...\n",
              "898  {'id': None, 'name': 'CP24 Toronto's Breaking ...  ...  HOUSTON (AP) - A 9-year-old Dallas boy has bec...\n",
              "899                 {'id': None, 'name': 'Ctvnews.ca'}  ...  HOUSTON -- \\r\\nA 9-year-old Dallas boy has bec...\n",
              "\n",
              "[900 rows x 8 columns]"
            ]
          },
          "metadata": {},
          "execution_count": 13
        }
      ]
    },
    {
      "cell_type": "code",
      "metadata": {
        "colab": {
          "base_uri": "https://localhost:8080/"
        },
        "id": "5K57MbteD2o4",
        "outputId": "2deaac01-19fc-4698-d4a6-16cf3a81b8c2"
      },
      "source": [
        "# dump json in data_dir\n",
        "data_dir = 'gdrive/MyDrive/news_archive/'\n",
        "with open(data_dir + str(datetime.date.today()) + '-' + '_'.join(t.split()) + '.json', 'w') as outfile:\n",
        "  json.dump(r, outfile)\n",
        "os.listdir(data_dir)"
      ],
      "execution_count": 4,
      "outputs": [
        {
          "output_type": "execute_result",
          "data": {
            "text/plain": [
              "['2021-02-14-live_music.json',\n",
              " '2021-02-17-live_music.json',\n",
              " '2021-02-18-live_music.json',\n",
              " '2021-02-21-live_music.json',\n",
              " '2021-02-22-live_music.json',\n",
              " '2021-05-22-live_music.json',\n",
              " '2021-05-23-live_music.json',\n",
              " '2021-10-31-live_music.json',\n",
              " '2021-11-19-live_music.json',\n",
              " '2021-11-20-live_music.json']"
            ]
          },
          "metadata": {},
          "execution_count": 4
        }
      ]
    },
    {
      "cell_type": "code",
      "metadata": {
        "id": "VvK_MRphDCgG"
      },
      "source": [
        "# df.to_csv(data_dir + 'df.csv')"
      ],
      "execution_count": 8,
      "outputs": []
    },
    {
      "cell_type": "code",
      "metadata": {
        "colab": {
          "base_uri": "https://localhost:8080/"
        },
        "id": "00_O_PK1YHuz",
        "outputId": "502561f4-aad8-463c-8f39-aa08740e1999"
      },
      "source": [
        "os.listdir(data_dir)"
      ],
      "execution_count": 9,
      "outputs": [
        {
          "output_type": "execute_result",
          "data": {
            "text/plain": [
              "['2021-02-14-live_music.json',\n",
              " '2021-02-17-live_music.json',\n",
              " '2021-02-18-live_music.json',\n",
              " '2021-02-21-live_music.json',\n",
              " '2021-02-22-live_music.json',\n",
              " '2021-05-22-live_music.json',\n",
              " '2021-05-23-live_music.json',\n",
              " '2021-10-31-live_music.json',\n",
              " '2021-11-19-live_music.json']"
            ]
          },
          "metadata": {},
          "execution_count": 9
        }
      ]
    },
    {
      "cell_type": "code",
      "metadata": {
        "colab": {
          "base_uri": "https://localhost:8080/"
        },
        "id": "U1mjRK9umoFI",
        "outputId": "f36a39cb-0f41-4736-d3a2-4260fd4458ed"
      },
      "source": [
        "with open(data_dir + '2021-11-20-live_music.json') as fp:\n",
        "  j = json.loads(fp.read())"
      ],
      "execution_count": 15,
      "outputs": [
        {
          "output_type": "execute_result",
          "data": {
            "text/plain": [
              "{'articles': [{'author': 'Kris Holt',\n",
              "   'content': 'Amazon\\r\\n is said to be working on a live audio app that sounds like it will let anyone be the DJ of their own radio show including music. Project Mic, as the app is currently known, will reportedly f… [+1708 chars]',\n",
              "   'description': 'Amazon\\r\\n is said to be working on a live audio app that sounds like it will let anyone be the DJ of their own radio show — including music. Project Mic, as the app is currently known, will reportedly focus on the US market at first, though the launch timeline…',\n",
              "   'publishedAt': '2021-10-26T14:25:34Z',\n",
              "   'source': {'id': 'engadget', 'name': 'Engadget'},\n",
              "   'title': 'Amazon’s Clubhouse competitor may let you DJ your own radio show',\n",
              "   'url': 'https://www.engadget.com/amazon-clubhouse-competitor-project-mic-music-dj-142534929.html',\n",
              "   'urlToImage': 'https://s.yimg.com/os/creatr-images/2019-10/f9c12d10-f1a7-11e9-b6af-9a9954dc8d2d'},\n",
              "  {'author': 'Ashley Carman',\n",
              "   'content': 'A new app is in the works\\r\\nIllustration by Alex Castro\\r\\nAmazon is next on the list of companies getting into the live audio game. The company is building a new app, codenamed Project Mic, that gives … [+2808 chars]',\n",
              "   'description': 'Amazon is working on a new live audio app, internally called Project Mic. The app will allow hosts and listeners to interact, and show hosts can build programming around music.',\n",
              "   'publishedAt': '2021-10-26T12:30:00Z',\n",
              "   'source': {'id': 'the-verge', 'name': 'The Verge'},\n",
              "   'title': 'Amazon is building a Clubhouse competitor that turns hosts into DJs',\n",
              "   'url': 'https://www.theverge.com/2021/10/26/22744585/amazon-project-mic-launch-live-audio-app',\n",
              "   'urlToImage': 'https://cdn.vox-cdn.com/thumbor/bJHLWH-k-S9cXaT5jWBHiRZhUM4=/0x146:2040x1214/fit-in/1200x630/cdn.vox-cdn.com/uploads/chorus_asset/file/22954158/acastro_211024_1777_amazonMusic_0001.jpg'},\n",
              "  {'author': \"Cecilia D'Anastasio\",\n",
              "   'content': 'In bold L.E.D. lettering, the word PORN broadcasts itself behind a rooftop fight scene early on in Netflixs new live-action Cowboy Bebopeach letter a different color and shape, like a cutout from a t… [+3261 chars]',\n",
              "   'description': 'The live-action adaptation is an overwrought performance of the beloved anime rather than a bold reimagining.',\n",
              "   'publishedAt': '2021-11-19T17:06:19Z',\n",
              "   'source': {'id': 'wired', 'name': 'Wired'},\n",
              "   'title': 'Netflix’s Cowboy Bebop Fails',\n",
              "   'url': 'https://www.wired.com/story/cowboy-bebop-fails/',\n",
              "   'urlToImage': 'https://media.wired.com/photos/619699ed1b20fb43d6500d9f/191:100/w_1280,c_limit/Culture_COWBOYBEB_Unit_06047RC3.jpg'},\n",
              "  {'author': 'Aria Bracci',\n",
              "   'content': 'Illustration by Alex Castro / The Verge\\r\\n\\n \\n\\n\\n It ain’t over ‘til the podcaster sings In the podcast series Forever Is a Long Time, listeners hear a man gently ask his relatives about the details of … [+6778 chars]',\n",
              "   'description': 'Music has always helped bring podcast stories to life in the background, but now, it’s a major part of some shows. Songs debut exclusively on podcasts and then become available to stream elsewhere.',\n",
              "   'publishedAt': '2021-11-09T13:45:00Z',\n",
              "   'source': {'id': 'the-verge', 'name': 'The Verge'},\n",
              "   'title': 'Podcasts always had instrumental music — now some have singing, too',\n",
              "   'url': 'https://www.theverge.com/2021/11/9/22765104/podcast-music-forever-is-a-long-time-hot-pod',\n",
              "   'urlToImage': 'https://cdn.vox-cdn.com/thumbor/he4E8dIrIQFikx1ARpo7HqCJPqc=/0x146:2040x1214/fit-in/1200x630/cdn.vox-cdn.com/uploads/chorus_asset/file/22996583/4867_podcastSinging.jpg'},\n",
              "  {'author': 'Leigh-Ann Jackson',\n",
              "   'content': 'Since the recording started in April, it was a really tight time frame. Wed have to finish the score for one episode in two weeks. It was a really hard sprint, so I didnt have the luxury to take time… [+1881 chars]',\n",
              "   'description': 'Yoko Kanno has become one of Japan’s foremost composers since she created the eclectic score for the anime series “Cowboy Bebop.” She returned for Netflix’s live-action version.',\n",
              "   'publishedAt': '2021-11-17T21:04:57Z',\n",
              "   'source': {'id': None, 'name': 'New York Times'},\n",
              "   'title': \"Yoko Kanno composed the eclectic score for 'Cowboy Bebop'\",\n",
              "   'url': 'https://www.nytimes.com/2021/11/17/arts/television/cowboy-bebop-yoko-kanno.html',\n",
              "   'urlToImage': 'https://static01.nyt.com/images/2021/11/18/arts/17KANNO1/17KANNO1-facebookJumbo.jpg'},\n",
              "  {'author': 'Ash Parrish',\n",
              "   'content': 'GEOFFREY SHORT/NETFLIX\\r\\n\\n \\n\\n The official trailer for Netflix’s live-action Cowboy Bebop series is finally here. Released during a live countdown event featuring appearances from stars John Cho, Dani… [+1506 chars]',\n",
              "   'description': 'Netflix released a new trailer for Cowboy Bebop, the live-action adaptation of the popular anime series featuring John Cho as Spike Spiegel and the theatrical debut of Ein the Corgi.',\n",
              "   'publishedAt': '2021-10-26T23:23:08Z',\n",
              "   'source': {'id': 'the-verge', 'name': 'The Verge'},\n",
              "   'title': 'Cowboy Bebop’s first proper trailer has slick noir action and an adorable corgi',\n",
              "   'url': 'https://www.theverge.com/2021/10/26/22747655/netflix-cowboy-bebop-trailer-premier',\n",
              "   'urlToImage': 'https://cdn.vox-cdn.com/thumbor/W87qgHu9ig5769N5QVmo8YakLyU=/0x258:3600x2143/fit-in/1200x630/cdn.vox-cdn.com/uploads/chorus_asset/file/22958083/COWBOYBEB_Unit_08114RC4.jpeg'},\n",
              "  {'author': 'Germain Lussier',\n",
              "   'content': 'If Yoko Kanno didnt return to write the music for Netflixs new live-action adaptation of Cowboy Bebop, there really wouldnt have been a reason to do it. Her jazz-infused score practically defines Cow… [+1546 chars]',\n",
              "   'description': 'If Yoko Kanno didn’t return to write the music for Netflix’s new live-action adaptation of Cowboy Bebop, there really wouldn’t have been a reason to do it. Her jazz-infused score practically defines Cowboy Bebop as much as Spike, Faye, Jet Black, and Ein comb…',\n",
              "   'publishedAt': '2021-11-16T00:00:00Z',\n",
              "   'source': {'id': None, 'name': 'Gizmodo.com'},\n",
              "   'title': \"Cowboy Bebop's Musicians Jam Out in a New Behind-the-Scenes Video\",\n",
              "   'url': 'https://gizmodo.com/cowboy-bebops-musicians-jam-out-in-a-new-behind-the-sce-1848062187',\n",
              "   'urlToImage': 'https://i.kinja-img.com/gawker-media/image/upload/c_fill,f_auto,fl_progressive,g_center,h_675,pg_1,q_80,w_1200/efe8cb31abf5846a9ebd377a4d48795d.png'},\n",
              "  {'author': 'Jon Fingas',\n",
              "   'content': 'This holiday might be a prime opportunity to build your music software library. Arturia has launched an early Black Friday sale that offers at least 50 percent off software from now through December … [+1076 chars]',\n",
              "   'description': 'This holiday might be a prime opportunity to build your music software library. Arturia has launched an early Black Friday sale that offers at least 50 percent off software from now through December 8th. The FX Collection 2 vintage plugin set has dropped to $…',\n",
              "   'publishedAt': '2021-11-16T16:00:39Z',\n",
              "   'source': {'id': 'engadget', 'name': 'Engadget'},\n",
              "   'title': 'Arturia offers 50 percent discount on its soft synths and effects',\n",
              "   'url': 'https://www.engadget.com/arturia-black-friday-sale-music-software-160039679.html',\n",
              "   'urlToImage': 'https://s.yimg.com/os/creatr-uploaded-images/2021-11/dfee3b30-46f0-11ec-bffe-d834a8b03b98'},\n",
              "  {'author': 'The New York Times',\n",
              "   'content': 'At least eight people were killed and dozens more were injured at a music festival in Houston on Friday night after a large crowd began pushing toward the front of the stage, the citys fire chief sai… [+3187 chars]',\n",
              "   'description': 'Dozens of other people who attended a Travis Scott concert at the Astroworld music festival were injured, Houston’s fire chief said. Here’s the latest.',\n",
              "   'publishedAt': '2021-11-06T12:13:37Z',\n",
              "   'source': {'id': None, 'name': 'New York Times'},\n",
              "   'title': 'At Least 8 Dead at Houston Music Festival After Crowd Surge Caused ‘Panic’',\n",
              "   'url': 'https://www.nytimes.com/live/2021/11/06/us/houston-astroworld-festival',\n",
              "   'urlToImage': 'https://static01.nyt.com/images/2021/11/06/world/06houston-festival-sub/06houston-festival-sub-facebookJumbo.jpg'},\n",
              "  {'author': 'Neil Genzlinger',\n",
              "   'content': 'Jazz is a way of life, he said. Its not an idiom of music. Jazz is spontaneous improvisation. If you ever leave your house with nowhere to go, and just walk for pleasure, observing and looking around… [+1647 chars]',\n",
              "   'description': 'He was one of the genre’s most acclaimed players when brain surgery left him with no memory. But he recovered and made music for another three decades.',\n",
              "   'publishedAt': '2021-11-02T22:58:32Z',\n",
              "   'source': {'id': None, 'name': 'New York Times'},\n",
              "   'title': 'Pat Martino, Jazz Guitarist Who Overcame Amnesia, Dies at 77',\n",
              "   'url': 'https://www.nytimes.com/2021/11/02/arts/music/pat-martino-jazz-guitarist-who-overcame-amnesia-dies-at-77.html',\n",
              "   'urlToImage': 'https://static01.nyt.com/images/2021/11/03/obituaries/02Martin02/02Martin02-facebookJumbo.jpg'},\n",
              "  {'author': 'Alex Vadukul',\n",
              "   'content': 'In addition to his brother, he is survived by his mother; a sister, Tara Papadopoulos; a daughter, Nikki Ziolkowski; a son, Charlie Papadopoulos; and a granddaughter. Two marriages, to Elizabeth Vogd… [+1374 chars]',\n",
              "   'description': 'Initially known for his tight and soulful playing with the celebrated post-punk band Bush Tetras, he later became an entrepreneur of avant-garde music.',\n",
              "   'publishedAt': '2021-10-24T21:37:43Z',\n",
              "   'source': {'id': None, 'name': 'New York Times'},\n",
              "   'title': 'Dee Pop, Drummer and Downtown New York Fixture, Dies at 65',\n",
              "   'url': 'https://www.nytimes.com/2021/10/24/arts/music/dee-pop-dead.html',\n",
              "   'urlToImage': 'https://static01.nyt.com/images/2021/10/21/obituaries/21Pop2/21Pop2-facebookJumbo.jpg'},\n",
              "  {'author': 'Parker Hall',\n",
              "   'content': 'This is where Beats steps away from its parent company: It opens up the ecosystem a bit for people who use different hardware or who like a bit more customizability to their style. Beats has a great … [+2904 chars]',\n",
              "   'description': 'The latest Beats in-ears are by far the best everyday headphones for iPhone owners.',\n",
              "   'publishedAt': '2021-11-11T13:00:00Z',\n",
              "   'source': {'id': 'wired', 'name': 'Wired'},\n",
              "   'title': \"The Beats Fit Pro Are Apple's Best Earbuds Ever\",\n",
              "   'url': 'https://www.wired.com/review/beats-fit-pro/',\n",
              "   'urlToImage': 'https://media.wired.com/photos/618c00da12143eb34d938e26/191:100/w_1280,c_limit/Gear-Beats-Fit-Pro-top.jpg'},\n",
              "  {'author': 'Vivien Schweitzer',\n",
              "   'content': 'Bernard Johan Herman Haitink was born on March 4, 1929, into a well-off family in Amsterdam. His father, Willem Haitink, was a civil servant, and his mother, Anna Clara Verschaffelt, worked for the F… [+1734 chars]',\n",
              "   'description': 'Mr. Haitink, who was closely identified with the Royal Concertgebouw Orchestra in Amsterdam, drew direct, unaffected interpretations of symphonic works and opera.',\n",
              "   'publishedAt': '2021-10-23T02:17:01Z',\n",
              "   'source': {'id': None, 'name': 'New York Times'},\n",
              "   'title': 'Bernard Haitink, Conductor Who Let Music Speak for Itself, Dies at 92',\n",
              "   'url': 'https://www.nytimes.com/2021/10/21/arts/music/bernard-haitink-dead.html',\n",
              "   'urlToImage': 'https://static01.nyt.com/images/2021/10/21/obituaries/00Haitink1/00Haitink1-facebookJumbo.jpg'},\n",
              "  {'author': 'Cheryl Eddy',\n",
              "   'content': 'After two Wonder Woman movies (and a third on the way), its hard to see Gal Gadot as anything but a beaming, benevolent superhero. But shell be putting her shield and superpowers aside for an equally… [+1693 chars]',\n",
              "   'description': 'After two Wonder Woman movies (and a third on the way), it’s hard to see Gal Gadot as anything but a beaming, benevolent superhero. But she’ll be putting her shield and superpowers aside for an equally juicy role with a bit more of a poisonous bite: the Evil …',\n",
              "   'publishedAt': '2021-11-04T00:00:00Z',\n",
              "   'source': {'id': None, 'name': 'Gizmodo.com'},\n",
              "   'title': 'Gal Gadot Will Shift From DC Hero to Disney Villain in the Live-Action Snow White',\n",
              "   'url': 'https://gizmodo.com/gal-gadot-will-shift-from-dc-hero-to-disney-villain-in-1847993192',\n",
              "   'urlToImage': 'https://i.kinja-img.com/gawker-media/image/upload/c_fill,f_auto,fl_progressive,g_center,h_675,pg_1,q_80,w_1200/1270015a5555fbc36bb854d02248ecaa.jpg'},\n",
              "  {'author': 'Jon Fingas',\n",
              "   'content': \"You won't have to buy a Lucid Air if you want a car with more immersive Dolby Atmos. Mercedes will equip its cars with Atmos audio on all models that use both its latest MBUX interface (introduced wi… [+892 chars]\",\n",
              "   'description': \"You won't have to buy a Lucid Air if you want a car with more immersive Dolby Atmos. Mercedes will equip its cars with Atmos audio on all models that use both its latest MBUX interface (introduced with the latest S-Class) and an optional Burmester 3D or 4D so…\",\n",
              "   'publishedAt': '2021-10-28T20:45:55Z',\n",
              "   'source': {'id': 'engadget', 'name': 'Engadget'},\n",
              "   'title': 'Mercedes cars will have optional Dolby Atmos audio starting in 2022',\n",
              "   'url': 'https://www.engadget.com/mercedes-benz-dolby-atmos-music-204555703.html',\n",
              "   'urlToImage': 'https://s.yimg.com/os/creatr-uploaded-images/2021-10/2204b7d0-3826-11ec-befb-aac911ca15fe'},\n",
              "  {'author': None,\n",
              "   'content': '55th Annual Country Music Association (CMA) Awards - Photo Room - Nashville, Tennessee, U.S., 10/11/21 - Chris Stapleton poses with his awards for Male Vocalist of the Year, Album of the Year, Single… [+2615 chars]',\n",
              "   'description': 'Fiery performances and nods to diversity gave the 55th Annual Country Music Association Awards renewed energy as the event came back to a live audience for the first time since the COVID-19 pandemic began.',\n",
              "   'publishedAt': '2021-11-11T06:04:00Z',\n",
              "   'source': {'id': 'reuters', 'name': 'Reuters'},\n",
              "   'title': 'Chris Stapleton wins big, diversity recognized at Country Music Association Awards - Reuters',\n",
              "   'url': 'https://www.reuters.com/business/media-telecom/chris-stapleton-wins-big-diversity-recognized-country-music-association-awards-2021-11-11/',\n",
              "   'urlToImage': 'https://www.reuters.com/resizer/LS-Yu-eQTjJODz73CfxUrWn4FmQ=/1200x628/smart/filters:quality(80)/cloudfront-us-east-2.images.arcpublishing.com/reuters/OSTZDYZTERMHVKAX4RSD4ELUTY.jpg'},\n",
              "  {'author': None,\n",
              "   'content': 'BUDAPEST, Nov 14 (Reuters) - English singer-songwriter Ed Sheeran won best artist and best song for \"Bad Habits\", while K-pop stars BTS snatched four awards at MTV\\'s Europe Music Awards, which return… [+3353 chars]',\n",
              "   'description': 'English singer-songwriter Ed Sheeran won best artist and best song for \"Bad Habits\", while K-pop stars BTS snatched four awards at MTV\\'s Europe Music Awards, which returned as an in-person event after a virtual 2020 edition due to the pandemic.',\n",
              "   'publishedAt': '2021-11-14T22:08:00Z',\n",
              "   'source': {'id': 'reuters', 'name': 'Reuters'},\n",
              "   'title': 'Ed Sheeran wins best artist as MTV Europe Music Awards returns to live format - Reuters',\n",
              "   'url': 'https://www.reuters.com/lifestyle/ed-sheeran-wins-best-artist-mtv-europe-music-awards-returns-live-format-2021-11-14/',\n",
              "   'urlToImage': 'https://www.reuters.com/resizer/SHGhn9DVsG6ov3iPCUIquO0lNms=/1200x628/smart/filters:quality(80)/cloudfront-us-east-2.images.arcpublishing.com/reuters/A63XJCXSX5LRPO4RS2MBEJEXDQ.jpg'},\n",
              "  {'author': None,\n",
              "   'content': \"The logo of China's Tencent Music Entertainment Group is seen next to an earphone in this illustration picture taken March 22, 2021. REUTERS/Florence Lo/Illustration/File Photo GLOBAL BUSINESS WEEK A… [+1014 chars]\",\n",
              "   'description': 'China\\'s Tencent Music Entertainment Group <a href=\"https://www.reuters.com/companies/TME.N\" target=\"_blank\">(TME.N)</a> reported a 3% rise in quarterly revenue on Monday, as efforts to bolster content attracted more paying users to its Spotify-like music stre…',\n",
              "   'publishedAt': '2021-11-08T21:14:00Z',\n",
              "   'source': {'id': 'reuters', 'name': 'Reuters'},\n",
              "   'title': 'Tencent Music revenue rises 3% as content push brings in listeners - Reuters Canada',\n",
              "   'url': 'https://www.reuters.com/technology/tencent-music-revenue-rises-3-content-push-brings-listeners-2021-11-08/',\n",
              "   'urlToImage': 'https://www.reuters.com/resizer/hUCNKGja4iZgfYz-lX_MZDIDXa4=/1200x628/smart/filters:quality(80)/cloudfront-us-east-2.images.arcpublishing.com/reuters/GO4R2JGWMFJB3DTRBDMAETM55Q.jpg'},\n",
              "  {'author': None,\n",
              "   'content': \"MELBOURNE, Oct 23 (Reuters) - Melbourne, Australia's second-biggest city, began its first weekend out of the world's longest string of COVID-19 lockdowns with spontaneous street parties, live music a… [+2233 chars]\",\n",
              "   'description': \"Melbourne, Australia's second-biggest city, began its first weekend out of the world's longest string of COVID-19 lockdowns with spontaneous street parties, live music and packed pubs, bars and restaurants.\",\n",
              "   'publishedAt': '2021-10-23T03:24:00Z',\n",
              "   'source': {'id': 'reuters', 'name': 'Reuters'},\n",
              "   'title': \"Australia's Melbourne enjoys weekend of eased COVID curbs after long lockdown - Reuters\",\n",
              "   'url': 'https://www.reuters.com/world/asia-pacific/australias-melbourne-enjoys-weekend-eased-covid-curbs-after-long-lockdown-2021-10-23/',\n",
              "   'urlToImage': 'https://www.reuters.com/resizer/IpB71pVDm-yBW8anQKGRDUGU-Q4=/1200x628/smart/filters:quality(80)/cloudfront-us-east-2.images.arcpublishing.com/reuters/V5KMLK3XIZOIRLFROFQDJ2KMV4.jpg'},\n",
              "  {'author': 'Giovanni Russonello',\n",
              "   'content': 'But on A Love Supreme: Live in Seattle, he pushes in both directions. Its clear from the recording that these musicians hadnt rehearsed the suite, and some didnt know it by heart. He gives verbal cue… [+2069 chars]',\n",
              "   'description': 'A long-buried private recording of the suite, captured in October 1965, allows listeners to experience more sides of the musician than some major albums in his catalog.',\n",
              "   'publishedAt': '2021-10-19T16:30:07Z',\n",
              "   'source': {'id': None, 'name': 'New York Times'},\n",
              "   'title': 'What a Rare, Live ‘A Love Supreme’ Reveals About John Coltrane',\n",
              "   'url': 'https://www.nytimes.com/2021/10/19/arts/music/john-coltrane-a-love-supreme-live-in-seattle.html',\n",
              "   'urlToImage': 'https://static01.nyt.com/images/2021/10/22/arts/21coltrane1/21coltrane1-facebookJumbo.jpg'},\n",
              "  {'author': 'Kris Holt',\n",
              "   'content': \"Apple has at long last released the latest major version of its Mac operating system, macOS Monterey\\r\\n. While it's perhaps a more modest update than in previous years, there are some significant chan… [+1317 chars]\",\n",
              "   'description': \"Apple has at long last released the latest major version of its Mac operating system, macOS Monterey\\r\\n. While it's perhaps a more modest update than in previous years, there are some significant changes\\r\\n in some areas of the OS.The redesigned Safari might be…\",\n",
              "   'publishedAt': '2021-10-25T17:11:02Z',\n",
              "   'source': {'id': 'engadget', 'name': 'Engadget'},\n",
              "   'title': 'macOS Monterey is out now without SharePlay',\n",
              "   'url': 'https://www.engadget.com/apple-macos-monterey-release-facetime-safari-shareplay-171102479.html',\n",
              "   'urlToImage': 'https://s.yimg.com/os/creatr-uploaded-images/2021-07/3d437b60-da9f-11eb-b6d2-c27c02f86e65'},\n",
              "  {'author': None,\n",
              "   'content': \"Thompson-Herah's compatriot Usain Bolt is the only other athlete to defend an Olympic sprint double\\r\\nLast summer, two weeks before the Jamaican Olympic trials, Elaine Thompson-Herah's Achilles was hu… [+5905 chars]\",\n",
              "   'description': 'Elaine Thompson-Herah on how prayer, music and a list on her phone helped tame the demons to help her claim a historic sprint double in Tokyo.',\n",
              "   'publishedAt': '2021-10-20T05:13:13Z',\n",
              "   'source': {'id': 'bbc-news', 'name': 'BBC News'},\n",
              "   'title': \"'I had to change that talk in my head' - how Thompson-Herah made history in Tokyo\",\n",
              "   'url': 'https://www.bbc.co.uk/sport/athletics/58920272',\n",
              "   'urlToImage': 'https://ichef.bbci.co.uk/live-experience/cps/624/cpsprodpb/137B6/production/_121089797_eth_getty.jpg'},\n",
              "  {'author': 'Vimal Patel and Sophie Kasakove',\n",
              "   'content': 'For several seconds, there was no music. Mr. Scott looked toward the crowd and the red and blue lights of an ambulance could be seen amid the sea of people.\\r\\nThen, Mr. Scott said, If everybody good, … [+1066 chars]',\n",
              "   'description': 'Eight people were killed at a Travis Scott concert in Houston. Investigators said a crowd surged toward the stage, but the cause remains unknown.',\n",
              "   'publishedAt': '2021-11-07T01:45:15Z',\n",
              "   'source': {'id': None, 'name': 'New York Times'},\n",
              "   'title': 'What to Know About the Houston Astroworld Tragedy',\n",
              "   'url': 'https://www.nytimes.com/article/astroworld-festival-what-to-know.html',\n",
              "   'urlToImage': 'https://static01.nyt.com/images/2021/11/07/lens/07weekend-briefing-houston/07weekend-briefing-houston-facebookJumbo.jpg'},\n",
              "  {'author': None,\n",
              "   'content': 'LONDON, Oct 21 (Reuters) - Historic London music venue KOKO, where the likes of Madonna, Prince, Amy Winehouse and Coldplay have performed, will re-open next spring following a $100 million revamp.\\r\\n… [+1624 chars]',\n",
              "   'description': 'Historic London music venue KOKO, where the likes of Madonna, Prince, Amy Winehouse and Coldplay have performed, will re-open next spring following a $100 million revamp.',\n",
              "   'publishedAt': '2021-10-20T23:07:00Z',\n",
              "   'source': {'id': 'reuters', 'name': 'Reuters'},\n",
              "   'title': 'London music venue Koko to re-open next spring after $96 mln revamp - Reuters',\n",
              "   'url': 'https://www.reuters.com/business/media-telecom/london-music-venue-koko-re-open-next-spring-after-96-mln-revamp-2021-10-20/',\n",
              "   'urlToImage': 'https://www.reuters.com/resizer/OyzMv81p_mWWFQYSDOlZyBIfE40=/1200x628/smart/filters:quality(80)/cloudfront-us-east-2.images.arcpublishing.com/reuters/6QNCL3CFMJJUVN24B2O55QKQYI.jpg'},\n",
              "  {'author': 'Meikhel Philogene',\n",
              "   'content': 'Musicians and music professionals, such as managers and executives, tend to focus solely on music streaming numbers. Although streaming numbers are extremely important, especially with more platforms… [+6427 chars]',\n",
              "   'description': \"Streams are important, but music streaming isn't the end all be all to proliferating in the music industry.\",\n",
              "   'publishedAt': '2021-11-19T15:30:00Z',\n",
              "   'source': {'id': None, 'name': 'Entrepreneur'},\n",
              "   'title': '5 Revenue Streams Music Professionals Often Neglect',\n",
              "   'url': 'https://www.entrepreneur.com/article/395199',\n",
              "   'urlToImage': 'https://assets.entrepreneur.com/content/3x2/2000/1637079950-shutterstock-1037503036.jpg'},\n",
              "  {'author': 'Vimal Patel and Jesus Jiménez',\n",
              "   'content': 'Mr. Tylers path to the show was fortuitous. While working as an actual barista at a real-life coffee shop, he was asked if he would be interested in being an extra on Friends. For the first season, h… [+1020 chars]',\n",
              "   'description': 'A real barista who was cast as a Central Perk co-worker of his crush, Jennifer Aniston’s character, he appeared in 150 episodes of the hit show.',\n",
              "   'publishedAt': '2021-10-25T01:32:33Z',\n",
              "   'source': {'id': None, 'name': 'New York Times'},\n",
              "   'title': 'James Michael Tyler, Who Played Gunther on ‘Friends,’ Dies at 59',\n",
              "   'url': 'https://www.nytimes.com/2021/10/24/arts/television/james-michael-tyler-dead.html',\n",
              "   'urlToImage': 'https://static01.nyt.com/images/2021/10/24/us/24-Gunter-obit-2/24-Gunter-obit-2-facebookJumbo.jpg'},\n",
              "  {'author': None,\n",
              "   'content': 'Nov 19 (Reuters) - Pillow fighting is moving out of the bedroom and into the boxing ring when Pillow Fight Championship (PFC) holds its first live, pay-per-view event in Florida on Jan. 29.\\r\\nSteve Wi… [+1593 chars]',\n",
              "   'description': 'Pillow fighting is moving out of the bedroom and into the boxing ring when Pillow Fight Championship (PFC) holds its first live, pay-per-view event in Florida on Jan. 29.',\n",
              "   'publishedAt': '2021-11-19T23:41:00Z',\n",
              "   'source': {'id': 'reuters', 'name': 'Reuters'},\n",
              "   'title': \"'Don't get caught napping' - pillow fighting enters combat sports arena - Reuters\",\n",
              "   'url': 'https://www.reuters.com/lifestyle/oddly-enough/dont-get-caught-napping-pillow-fighting-enters-combat-sports-arena-2021-11-19/',\n",
              "   'urlToImage': 'https://www.reuters.com/resizer/POGpPV-N-a8d7v-Jyd3qIMWkJFU=/800x419/smart/filters:quality(80)/cloudfront-us-east-2.images.arcpublishing.com/reuters/AW6ER765VNOXLGFP2FBLGCKS2E.jpg'},\n",
              "  {'author': None,\n",
              "   'content': 'Hosts Maya Jama and Marvin Humes onstage at MOBO Awards 2017, in Leeds, Britain November 29, 2017 in this handout image. Picture taken November 29, 2017. Courtesy of MOBO Organisation/Nick Redman/Han… [+1149 chars]',\n",
              "   'description': \"Britain's MOBO Awards will return later this year with a live show, their first since 2017, organisers said on Thursday.\",\n",
              "   'publishedAt': '2021-10-28T12:42:00Z',\n",
              "   'source': {'id': 'reuters', 'name': 'Reuters'},\n",
              "   'title': \"Britain's MOBO awards to host first live show since 2017 - Reuters\",\n",
              "   'url': 'https://www.reuters.com/world/uk/britains-mobo-awards-host-first-live-show-since-2017-2021-10-28/',\n",
              "   'urlToImage': 'https://www.reuters.com/resizer/S7qJnKde_FyMuQ25C443Vh-Tabg=/1200x628/smart/filters:quality(80)/cloudfront-us-east-2.images.arcpublishing.com/reuters/7OTQX2MGMJKWFOKA6TA7E474VY.jpg'},\n",
              "  {'author': 'Reuters Staff',\n",
              "   'content': 'By Reuters Staff\\r\\n(Reuters) - Travis Scotts Astroworld concert on Friday was meant to signal the resurgence of his hometown with an epic live event after the global pandemic paused the popular annual… [+2589 chars]',\n",
              "   'description': \"Travis Scott's Astroworld concert on Friday was meant to signal the resurgence of his hometown with an epic live event after the global pandemic paused the popular annual hip hop festival.\",\n",
              "   'publishedAt': '2021-11-06T17:05:00Z',\n",
              "   'source': {'id': 'reuters', 'name': 'Reuters'},\n",
              "   'title': \"Travis Scott's Astroworld concert pauses then restarts amid deaths, injuries - Reuters.com\",\n",
              "   'url': 'https://www.reuters.com/article/us-texas-security-socialmedia-idUSKBN2HR0ED',\n",
              "   'urlToImage': 'https://static.reuters.com/resources/r/?m=02&d=20211106&t=2&i=1580482464&r=LYNXMPEHA506Y&w=800'},\n",
              "  {'author': 'Harish Jonnalagadda',\n",
              "   'content': 'Samsung makes some of the best wireless earbuds you can buy today, and the manufacturer is already starting to kick off deals ahead of Black Friday. The Galaxy Buds Live launched last year alongside … [+1956 chars]',\n",
              "   'description': 'Samsung makes some of the best wireless earbuds you can buy today, and the manufacturer is already starting to kick off deals ahead of Black Friday. The Galaxy Buds Live launched last year alongside the Note 20 series and immediately got a lot of attention fo…',\n",
              "   'publishedAt': '2021-11-11T14:25:06Z',\n",
              "   'source': {'id': None, 'name': 'Android Central'},\n",
              "   'title': \"Samsung's best-selling Galaxy Buds Live are down to their lowest price yet\",\n",
              "   'url': 'https://www.androidcentral.com/samsungs-best-selling-galaxy-buds-live-are-down-their-lowest-price-yet',\n",
              "   'urlToImage': 'https://www.androidcentral.com/sites/androidcentral.com/files/styles/large/public/article_images/2020/08/galaxy-buds-live-review-10.jpeg'},\n",
              "  {'author': 'John Leland',\n",
              "   'content': 'Though still obsessed with Warhol, in 1963 she met and married John Palmer, a co-director of Warhols Empire, the eight-hour silent movie of the Empire State Building. Their short marriage produced tw… [+1169 chars]',\n",
              "   'description': 'She blazed through 1950s Europe as a top fashion model and then became a part of the 1960s Warhol crowd in New York before falling on hard times.',\n",
              "   'publishedAt': '2021-11-05T16:10:44Z',\n",
              "   'source': {'id': None, 'name': 'New York Times'},\n",
              "   'title': 'Ivy Nicholson, Model and Warhol Factory Star, Dies at 88',\n",
              "   'url': 'https://www.nytimes.com/2021/11/04/arts/ivy-nicholson-dead.html',\n",
              "   'urlToImage': 'https://static01.nyt.com/images/2021/11/03/obituaries/03Nicholson/03Nicholson-facebookJumbo.jpg'},\n",
              "  {'author': 'Jay Bonggolto',\n",
              "   'content': 'Amazon is reportedly dabbling in the live audio segment, a space currently dominated by Clubhouse, with other tech giants such as Facebook and Twitter following suit later with their own similar offe… [+2075 chars]',\n",
              "   'description': 'Amazon might be developing a new app that aims to \"democratize\" the radio.\\n\\nWhat you need to know\\n\\n\\nAmazon is rumored to be working on a new app that allows everyone to become a DJ.\\nThe new app is codenamed \"Project Mic\" with the goal of democratizing the rad…',\n",
              "   'publishedAt': '2021-10-26T15:44:44Z',\n",
              "   'source': {'id': None, 'name': 'Android Central'},\n",
              "   'title': \"Amazon's rumored Clubhouse-like app could let you host your own radio show\",\n",
              "   'url': 'https://www.androidcentral.com/amazon-project-mic-clubhouse-challenger',\n",
              "   'urlToImage': 'https://www.androidcentral.com/sites/androidcentral.com/files/styles/large/public/article_images/2018/09/amazon-logo-wall-grey.jpg'},\n",
              "  {'author': 'Katie Hawthorne',\n",
              "   'content': 'We cant see you, but were so glad you can see us, beams Jungkook, breathing heavily. BTS the worlds biggest pop group have just opened their performance at Seouls Olympic stadium in typically flat-ou… [+3002 chars]',\n",
              "   'description': 'Live stream from Seoul Olympic stadiumHow do you perform a stadium-sized show without an audience? Over eight years’ worth of milestone singles, the K-pop stars show how it’s done “We can’t see you, but we’re so glad you can see us,” beams Jungkook, breathing…',\n",
              "   'publishedAt': '2021-10-24T16:54:18Z',\n",
              "   'source': {'id': None, 'name': 'The Guardian'},\n",
              "   'title': 'BTS review – charisma and confidence from the world’s biggest pop group',\n",
              "   'url': 'https://amp.theguardian.com/music/2021/oct/24/bts-review-live-stream-seoul-olympic-stadium',\n",
              "   'urlToImage': 'https://i.guim.co.uk/img/media/68d5d06d7a88ba85c2d027f174d4c571ce976296/0_96_2000_1200/master/2000.jpg?width=1200&height=630&quality=85&auto=format&fit=crop&overlay-align=bottom%2Cleft&overlay-width=100p&overlay-base64=L2ltZy9zdGF0aWMvb3ZlcmxheXMvdGctcmV2aWV3LTQucG5n&enable=upscale&s=f4cbcd644fd86abd0cb40e3a5fcdc5e6'},\n",
              "  {'author': 'msmash',\n",
              "   'content': 'The Fine Print: The following comments are owned by whoever posted them. We are not responsible for them in any way.',\n",
              "   'description': 'Amazon is next on the list of companies getting into the live audio game. The company is building a new app, codenamed \"Project Mic,\" that gives anyone the ability to make and distribute a live radio show, complete with music, according to a presentation view…',\n",
              "   'publishedAt': '2021-10-26T14:55:00Z',\n",
              "   'source': {'id': None, 'name': 'Slashdot.org'},\n",
              "   'title': 'Amazon is Building a Clubhouse Competitor That Turns Hosts Into DJs',\n",
              "   'url': 'https://entertainment.slashdot.org/story/21/10/26/1455225/amazon-is-building-a-clubhouse-competitor-that-turns-hosts-into-djs',\n",
              "   'urlToImage': 'https://a.fsdn.com/sd/topics/music_64.png'},\n",
              "  {'author': None,\n",
              "   'content': 'BOGOTA, Nov 11 (Reuters) - Walt Disney\\'s (DIS.N) latest film \"Encanto\" celebrates Colombia\\'s diversity, its people, and its music, and sends a message about overcoming challenges, said singer and com… [+1381 chars]',\n",
              "   'description': 'Walt Disney\\'s <a href=\"https://www.reuters.com/companies/DIS.N\" target=\"_blank\">(DIS.N)</a> latest film \"Encanto\" celebrates Colombia\\'s diversity, its people, and its music, and sends a message about overcoming challenges, said singer and composer Carlos Vive…',\n",
              "   'publishedAt': '2021-11-11T15:25:00Z',\n",
              "   'source': {'id': 'reuters', 'name': 'Reuters'},\n",
              "   'title': \"Disney's Encanto celebrates Colombia's diversity, says musician Carlos Vives - Reuters\",\n",
              "   'url': 'https://www.reuters.com/world/americas/disneys-encanto-celebrates-colombias-diversity-says-musician-carlos-vives-2021-11-11/',\n",
              "   'urlToImage': 'https://www.reuters.com/resizer/NwuAk6tvuf844qwLXgyuDXwaC6g=/1200x628/smart/filters:quality(80)/cloudfront-us-east-2.images.arcpublishing.com/reuters/S2RJS3FY2BLFPEWLIVSJBVP2AM.jpg'},\n",
              "  {'author': 'Mark-Anthony Turnage',\n",
              "   'content': 'I started having piano lessons aged six in 1966. The year the England mens football team won the World Cup. Its a fanciful notion, but maybe these two significant events in my life were for ever entw… [+6371 chars]',\n",
              "   'description': 'It was one of the most thrilling nights of his life. Composer Mark-Anthony Turnage explains why he wrote a soundtrack, full of terrace chants, to a legendary Gunners victory over LiverpoolI started having piano lessons aged six in 1966. The year the England m…',\n",
              "   'publishedAt': '2021-11-02T13:49:24Z',\n",
              "   'source': {'id': None, 'name': 'The Guardian'},\n",
              "   'title': 'They shoot, he scores! The composer who set a legendary Arsenal match to music',\n",
              "   'url': 'https://amp.theguardian.com/music/2021/nov/02/composer-mark-anthony-turnage-arsenal-liverpool-up-for-grabs',\n",
              "   'urlToImage': 'https://i.guim.co.uk/img/media/08d320a494c0b6feffb1f1a75e85d31430af76b8/542_389_4166_2499/master/4166.jpg?width=1200&height=630&quality=85&auto=format&fit=crop&overlay-align=bottom%2Cleft&overlay-width=100p&overlay-base64=L2ltZy9zdGF0aWMvb3ZlcmxheXMvdGctZGVmYXVsdC5wbmc&enable=upscale&s=ba051e1ef06c9e990a916e5675313fca'},\n",
              "  {'author': 'Mike Szczys',\n",
              "   'content': 'Remoticon is almost here, but by Saturday night it’ll be gone! The best sendoff we can think of is with a party, and DJ Jackalope is playing a live set to make that happen.\\r\\nDJ Jackalope [Photo credi… [+1117 chars]',\n",
              "   'description': 'Remoticon is almost here, but by Saturday night it’ll be gone! The best sendoff we can think of is with a party, and DJ Jackalope is playing a live set to make that happen. We’ve been l…',\n",
              "   'publishedAt': '2021-11-15T18:01:16Z',\n",
              "   'source': {'id': None, 'name': 'Hackaday'},\n",
              "   'title': 'DJ Jackalope Live Set will Close Out Hackaday Remoticon',\n",
              "   'url': 'https://hackaday.com/2021/11/15/dj-jackalope-live-set-will-close-out-hackaday-remoticon/',\n",
              "   'urlToImage': 'https://hackaday.com/wp-content/uploads/2021/11/DJ-Jackalope-live-set-at-Hackaday-Supercon.jpg'},\n",
              "  {'author': None,\n",
              "   'content': 'Nov 19 - Welcome to the home for real-time coverage of markets brought to you by Reuters reporters. You can share your thoughts with us at markets.research@thomsonreuters.com\\r\\nLOCKDOWN-INDUCED ROTATI… [+7053 chars]',\n",
              "   'description': 'Welcome to the home for real-time coverage of markets brought to you by Reuters reporters. You can share your thoughts with us at <a href=\"mailto:markets.research@thomsonreuters.com\" target=\"_blank\">markets.research@thomsonreuters.com</a>',\n",
              "   'publishedAt': '2021-11-19T11:56:00Z',\n",
              "   'source': {'id': 'reuters', 'name': 'Reuters'},\n",
              "   'title': 'LIVE MARKETS Lockdown-induced rotation - Reuters',\n",
              "   'url': 'https://www.reuters.com/markets/stocks/live-markets-lockdown-induced-rotation-2021-11-19/',\n",
              "   'urlToImage': 'https://www.reuters.com/pf/resources/images/reuters/reuters-default.png?d=59'},\n",
              "  {'author': 'Daniel Colombo',\n",
              "   'content': 'Our brain has plasticity until the last day of life. That is why we can change everything you propose, as long as you want.\\r\\n This process is known as neuroplasticity , and it is the ability to modif… [+4231 chars]',\n",
              "   'description': 'This feature allows you to improve your skills in any area, such as sports, music or language.',\n",
              "   'publishedAt': '2021-11-08T11:00:00Z',\n",
              "   'source': {'id': None, 'name': 'Entrepreneur'},\n",
              "   'title': 'The agile brain: What is neuroplasticity and how we can use it to our advantage',\n",
              "   'url': 'https://www.entrepreneur.com/article/395868',\n",
              "   'urlToImage': 'https://assets.entrepreneur.com/content/3x2/2000/1636152763-Cerebro.jpg'},\n",
              "  {'author': 'trains@insider.com (Taylor Rains)',\n",
              "   'content': 'Live entertainment has officially returned since the start of the pandemic, and people are eager to see performers on stage once again.\\r\\nIn March 2020, live events like concerts, musicals, festivals,… [+3558 chars]',\n",
              "   'description': 'Live entertainment has officially returned since the start of the pandemic, and people are eager to see performers on stage once again.',\n",
              "   'publishedAt': '2021-10-31T12:07:00Z',\n",
              "   'source': {'id': 'business-insider', 'name': 'Business Insider'},\n",
              "   'title': 'I went to a concert for the first time since the pandemic started as live entertainment makes its comeback',\n",
              "   'url': 'https://www.businessinsider.com/live-entertainment-is-back-with-no-masks-or-social-distancing-2021-9',\n",
              "   'urlToImage': 'https://i.insider.com/614a12a6c2c9630018f59efd?width=1200&format=jpeg'},\n",
              "  {'author': 'Igor Bonifacic',\n",
              "   'content': 'Google may have announced the Pixel 6 and 6 Pro in August, but we had to wait more than three months to get the full story on its latest phones. On Tuesday, the company did just that, detailing nearl… [+2766 chars]',\n",
              "   'description': 'Google may have announced the Pixel 6 and 6 Pro in August, but we had to wait more than three months to get the full story on its latest phones. On Tuesday, the company did just that, detailing nearly every aspect of their design and software.\\xa0Pixel 6 and 6 P…',\n",
              "   'publishedAt': '2021-10-19T19:22:45Z',\n",
              "   'source': {'id': 'engadget', 'name': 'Engadget'},\n",
              "   'title': \"Here's everything Google announced at its Pixel 6 event\",\n",
              "   'url': 'https://www.engadget.com/google-pixel-6-event-2021-highlights-192245034.html',\n",
              "   'urlToImage': 'https://s.yimg.com/os/creatr-uploaded-images/2021-10/91a42bf0-305d-11ec-9f9f-636d29742095'},\n",
              "  {'author': 'https://www.facebook.com/bbcnews',\n",
              "   'content': \"By Mark SavageBBC Music Correspondent\\r\\nImage source, Jordan Rossi\\r\\nImage caption, The star thinks her future tours will always include a virtual element\\r\\nPop star Zara Larsson says she's made a seven… [+5510 chars]\",\n",
              "   'description': 'The Lush Life singer has sold thousands of items of virtual merchandise inside the game.',\n",
              "   'publishedAt': '2021-11-05T01:25:08Z',\n",
              "   'source': {'id': 'bbc-news', 'name': 'BBC News'},\n",
              "   'title': 'How pop star Zara Larsson made a seven-figure sum on Roblox',\n",
              "   'url': 'https://www.bbc.co.uk/news/entertainment-arts-59163449',\n",
              "   'urlToImage': 'https://ichef.bbci.co.uk/news/1024/branded_news/B39E/production/_121428954_zara-larsson-2021-press-cr-jordan-rossi-billboard-1548-1614271599-compressed.jpg'},\n",
              "  {'author': 'Chris Michael',\n",
              "   'content': 'Greta Thunberg isnt the only one singing at Cop26.\\r\\nSong of the Year: A History of Cool, by the Canadian musician Parvati, aims to be a refreshing ray of hope in an overheated world. The songs releas… [+1690 chars]',\n",
              "   'description': 'Follow events at the climate summit in Glasgow for day five<ul><li>‘Luxury carbon consumption’ of top 1% threatens 1.5C global heating limit</li><li>Cop26 pledges could limit warming to 1.8C, says energy agency boss</li></ul>Doctors staged another “die-in” ou…',\n",
              "   'publishedAt': '2021-11-05T11:33:02Z',\n",
              "   'source': {'id': None, 'name': 'The Guardian'},\n",
              "   'title': 'Cop26: Promised $100bn will arrive next year, says John Kerry – day five live',\n",
              "   'url': 'https://www.theguardian.com/environment/live/2021/nov/05/cop26-richest-1-will-account-for-16-of-total-emissions-by-2030-day-five-live',\n",
              "   'urlToImage': 'https://i.guim.co.uk/img/media/8a0878b81d00eae420ba84a4dcd446d42e1c10fb/0_46_3500_2102/master/3500.jpg?width=1200&height=630&quality=85&auto=format&fit=crop&overlay-align=bottom%2Cleft&overlay-width=100p&overlay-base64=L2ltZy9zdGF0aWMvb3ZlcmxheXMvdGctbGl2ZS5wbmc&enable=upscale&s=91203db54cf422efc9e6f56cf62f0446'},\n",
              "  {'author': 'Matt Patches',\n",
              "   'content': 'KIRSTY GRIFFIN/NETFLIX\\r\\n\\n \\n\\n Watch jazz, man\\n \\n Continue reading…',\n",
              "   'description': 'The Cowboy Bebop soundtrack is renowned, and the Netflix live-action remake brings most of the score from Seatbelts back. In a new feature for the show, composer Yoko Kanno explains the jazz process.',\n",
              "   'publishedAt': '2021-11-16T00:04:17Z',\n",
              "   'source': {'id': 'polygon', 'name': 'Polygon'},\n",
              "   'title': 'Go behind the scenes of Cowboy Bebop’s music with the singular Yoko Kanno',\n",
              "   'url': 'https://www.polygon.com/22783964/cowboy-bebop-music-yoko-kanno-soundtrack-behind-the-scenes',\n",
              "   'urlToImage': 'https://cdn.vox-cdn.com/thumbor/u50XV0dPsovFAaQvDJ2KEUreNdw=/0x177:2320x1392/fit-in/1200x630/cdn.vox-cdn.com/uploads/chorus_asset/file/23017148/COWBOYBEB_Unit_00445RC.jpg'},\n",
              "  {'author': 'Emma G. Fitzsimmons',\n",
              "   'content': 'We have the votes, he told them. Everything is fine.\\r\\nAt a labor event with the mayor-elect two days later, Mr. Garrido said that Mr. Brannan might survive, but that his tight race in southwest Brook… [+1454 chars]',\n",
              "   'description': 'The contest for City Council speaker was in high gear at a political gathering in Puerto Rico, where candidates politicked among the palm trees.',\n",
              "   'publishedAt': '2021-11-13T08:00:07Z',\n",
              "   'source': {'id': None, 'name': 'New York Times'},\n",
              "   'title': 'Under Caribbean Skies, New York Power Brokers Shape a Crucial Race',\n",
              "   'url': 'https://www.nytimes.com/2021/11/13/nyregion/city-council-speaker-nyc.html',\n",
              "   'urlToImage': 'https://static01.nyt.com/images/2021/11/11/nyregion/00nyc-speaker4/00nyc-speaker4-facebookJumbo.jpg'},\n",
              "  {'author': 'Hayley Hynes',\n",
              "   'content': 'Those who are attending\\xa0Travis Scotts Astroworld Festival this weekend have a lot to look forward to. The Houston native shared two new tracks today, one of which includes a brief appearance from Wet… [+1320 chars]',\n",
              "   'description': '<ol><li>Travis Scott’s New Song “MAFIA” Includes An Unexpected J. Cole Feature\\xa0\\xa0HotNewHipHop\\r\\n</li><li>Astroworld: Eight killed after crowd surge at US music festival\\xa0\\xa0BBC News\\r\\n</li><li>Travis Scott Drops \"ESCAPE PLAN\" Music Video\\xa0\\xa0HYPEBEAST\\r\\n</li><li>Travis…',\n",
              "   'publishedAt': '2021-11-05T17:00:00Z',\n",
              "   'source': {'id': None, 'name': 'HotNewHipHop'},\n",
              "   'title': 'Travis Scott’s New Song “MAFIA” Includes An Unexpected J. Cole Feature - HotNewHipHop',\n",
              "   'url': 'https://www.hotnewhiphop.com/travis-scott-s-new-song-mafia-includes-an-unexpected-j-cole-feature-new-song.1993192.html',\n",
              "   'urlToImage': 'https://www.hotnewhiphop.com/image/740x416/cover/1636130218_3fb54ffb236c4cd2e89cb9d94b0b4cf4.jpg/fcbd78ce0a6a93440bb6b0cbf597655f/1636130218_ccabadf2cdbf0dea984c3ce8d0a987df.jpeg'},\n",
              "  {'author': 'Gwilym Mumford',\n",
              "   'content': 'It is a strange time for live culture at the moment. On the surface, much of the industry seems to have returned to something close to normal: heads are being banged at gigs, popcorn scarfed down in … [+8089 chars]',\n",
              "   'description': 'Gigs and cinemas are packed, but with Covid cases rising have things really returned to normal? Four critics take the temperature of live performance● Don’t get the Guide delivered to your inbox? Sign up hereIt is a strange time for live culture at the moment…',\n",
              "   'publishedAt': '2021-10-29T10:29:24Z',\n",
              "   'source': {'id': None, 'name': 'The Guardian'},\n",
              "   'title': 'Giddy thrills and heightened fears: critics on what it’s like to be back at live shows',\n",
              "   'url': 'https://amp.theguardian.com/culture/2021/oct/29/giddy-thrills-and-heightened-fears-critics-on-what-its-like-the-guide-to-be-back-at-live-shows-the-guide',\n",
              "   'urlToImage': 'https://i.guim.co.uk/img/media/6469f8e9af0e5e10ed1230b201ed5fa44c04cf75/0_128_3910_2344/master/3910.jpg?width=1200&height=630&quality=85&auto=format&fit=crop&overlay-align=bottom%2Cleft&overlay-width=100p&overlay-base64=L2ltZy9zdGF0aWMvb3ZlcmxheXMvdGctZGVmYXVsdC5wbmc&enable=upscale&s=f84e33e774262bc9bb22f254bdfb2d4b'},\n",
              "  {'author': 'https://www.facebook.com/bbcnews',\n",
              "   'content': 'By Mark SavageBBC Music Correspondent\\r\\nImage source, Getty Images\\r\\nImage caption, Scott was performing in front of his home crowd in Houston, Texas\\r\\nFor almost 40 minutes after Houston police and fir… [+9534 chars]',\n",
              "   'description': \"Concerns were raised before Travis Scott's fatal festival show. Could the tragedy have been averted?\",\n",
              "   'publishedAt': '2021-11-09T00:15:18Z',\n",
              "   'source': {'id': 'bbc-news', 'name': 'BBC News'},\n",
              "   'title': 'Travis Scott festival tragedy: Were warning signs missed at Astroworld?',\n",
              "   'url': 'https://www.bbc.co.uk/news/entertainment-arts-59205840',\n",
              "   'urlToImage': 'https://ichef.bbci.co.uk/news/1024/branded_news/17258/production/_121480849_scott_getty.jpg'},\n",
              "  {'author': None,\n",
              "   'content': 'Nov 8 (Reuters) - A crush of fans pushing toward the stage while rap star Travis Scott performed at a Houston-area music festival last week has left eight people dead and hundreds injured. read more … [+3855 chars]',\n",
              "   'description': 'A crush of fans pushing toward the stage while rap star Travis Scott performed at a Houston-area music festival last week has left <a href=\"https://www.reuters.com/world/us/investigations-widen-into-deadly-stampede-houston-rap-concert-2021-11-07\" target=\"_bla…',\n",
              "   'publishedAt': '2021-11-08T19:05:00Z',\n",
              "   'source': {'id': 'reuters', 'name': 'Reuters'},\n",
              "   'title': 'Eight killed in Texas music festival stampede include college, high school students - Reuters',\n",
              "   'url': 'https://www.reuters.com/world/us/eight-killed-texas-music-festival-stampede-include-college-high-school-students-2021-11-08/',\n",
              "   'urlToImage': 'https://www.reuters.com/pf/resources/images/reuters/reuters-default.png?d=56'},\n",
              "  {'author': 'https://www.facebook.com/bbcnews',\n",
              "   'content': \"Image source, Getty Images\\r\\nImage caption, Hundreds were injured during rapper Travis Scott's headline show\\r\\nDozens more lawsuits have been filed on behalf of people who say they were injured at the … [+2138 chars]\",\n",
              "   'description': 'A woman who was at the festival told reporters that said didn\\'t know she was buying a \"death ticket\".',\n",
              "   'publishedAt': '2021-11-12T21:39:48Z',\n",
              "   'source': {'id': 'bbc-news', 'name': 'BBC News'},\n",
              "   'title': 'Astroworld: Dozens more lawsuits filed over deadly festival crush',\n",
              "   'url': 'https://www.bbc.co.uk/news/world-us-canada-59266213',\n",
              "   'urlToImage': 'https://ichef.bbci.co.uk/news/1024/branded_news/151FC/production/_121542568_mediaitem121539084.jpg'},\n",
              "  {'author': 'Tudor Leonte',\n",
              "   'content': 'Star-Lord Rocks 80s Music in Marvels Guardians of the Galaxy Promo\\r\\nToday is the big day when the\\xa0Marvels Guardians of the Galaxy\\xa0video game finally hits the stores. To celebrate the occasion, Marvel… [+1567 chars]',\n",
              "   'description': \"<ol><li>Star-Lord Rocks ’80s Music in Marvel’s Guardians of the Galaxy Promo\\xa0\\xa0Superherohype.com\\r\\n</li><li>Marvel's Guardians of the Galaxy | Critical Consensus\\xa0\\xa0GamesIndustry.biz\\r\\n</li><li>Guardians of the Galaxy - Before You Buy\\xa0\\xa0gameranx\\r\\n</li><li>Five Thin…\",\n",
              "   'publishedAt': '2021-10-26T16:41:15Z',\n",
              "   'source': {'id': None, 'name': 'Superherohype.com'},\n",
              "   'title': 'Star-Lord Rocks ’80s Music in Marvel’s Guardians of the Galaxy Promo - Superherohype.com',\n",
              "   'url': 'https://www.superherohype.com/video-games/506760-star-lord-rocks-80s-music-in-marvels-guardians-of-the-galaxy-promo',\n",
              "   'urlToImage': 'https://cdn1-www.superherohype.com/assets/uploads/2021/10/Promo-for-Guardians-of-the-Galaxy.jpg'},\n",
              "  {'author': 'Annie Hutchinson',\n",
              "   'content': 'Artist Annie Hutchinson has fallen in love with Glasgow since moving there to live and work three years ago. \\r\\nFood\\r\\nThe West End is one of the glitziest bits of the city, and the Finnieston area is … [+3766 chars]',\n",
              "   'description': 'With Cop26 shining a spotlight on the city, our guide shares her love of its steamy pubs, magical markets … and deep-fried foodArtist Annie Hutchinson has fallen in love with Glasgow since moving there to live and work three years ago. Continue reading...',\n",
              "   'publishedAt': '2021-10-23T12:00:40Z',\n",
              "   'source': {'id': None, 'name': 'The Guardian'},\n",
              "   'title': 'A local’s guide to Glasgow: five great things to do',\n",
              "   'url': 'https://amp.theguardian.com/travel/2021/oct/23/a-locals-guide-to-glasgow-five-great-things-to-do',\n",
              "   'urlToImage': 'https://i.guim.co.uk/img/media/6ff9a2c7244a966ae1598e4d2fa433c03cf4105d/0_331_2067_1240/master/2067.jpg?width=1200&height=630&quality=85&auto=format&fit=crop&overlay-align=bottom%2Cleft&overlay-width=100p&overlay-base64=L2ltZy9zdGF0aWMvb3ZlcmxheXMvdGctZGVmYXVsdC5wbmc&enable=upscale&s=438b2ee11c47eed2930afa5584376ae7'},\n",
              "  {'author': 'José Adorno',\n",
              "   'content': 'For over a year, Spotify has been testing the Apple Music-style live lyrics feature. After expanding it to the US at the beginning of the year, it’s now being rolled out globally. According to TechCr… [+2132 chars]',\n",
              "   'description': 'For over a year, Spotify has been testing the Apple Music-style live lyrics feature. After expanding it to the US at the beginning of the year, it’s now being rolled out globally. According to TechCrunch, Spotify will use lyrics provided by Musixmatch to expa…',\n",
              "   'publishedAt': '2021-11-18T13:35:04Z',\n",
              "   'source': {'id': None, 'name': '9to5Mac'},\n",
              "   'title': 'Spotify expands Apple Music-style live lyrics feature globally',\n",
              "   'url': 'https://9to5mac.com/2021/11/18/spotify-expands-apple-music-style-live-lyrics-feature-globally/',\n",
              "   'urlToImage': 'https://i1.wp.com/9to5mac.com/wp-content/uploads/sites/6/2021/02/Screen-Shot-2021-02-09-at-9.31.36-AM.jpeg?resize=1200%2C628&quality=82&strip=all&ssl=1'},\n",
              "  {'author': 'https://www.facebook.com/bbcnews',\n",
              "   'content': \"Image caption, Marília Mendonça's songs were famous for focusing on women's experiences with failed relationships\\r\\nMarília Mendonça, one of Brazil's most popular contemporary singers, has been killed… [+1565 chars]\",\n",
              "   'description': \"Marília Mendonça, one of Brazil's most famous singers, was known for her songs focussing on women.\",\n",
              "   'publishedAt': '2021-11-05T22:46:57Z',\n",
              "   'source': {'id': 'bbc-news', 'name': 'BBC News'},\n",
              "   'title': 'Marilia Mendonca: Popular Brazil singer dies in plane crash at 26',\n",
              "   'url': 'https://www.bbc.co.uk/news/world-latin-america-59186654',\n",
              "   'urlToImage': 'https://ichef.bbci.co.uk/news/1024/branded_news/7387/production/_121457592_3978f207-6b99-4fbe-aba4-47d99ed18715.jpg'},\n",
              "  {'author': None,\n",
              "   'content': 'HOUSTON, Nov 6 (Reuters) - Crowds surging forward as the main performer took to the stage at the Astroworld Festival led to chaos and crushed bodies in the darkness of the outdoor concert, say attend… [+2536 chars]',\n",
              "   'description': 'Crowds surging forward as the main performer took to the stage at the Astroworld Festival led to chaos and crushed bodies in the darkness of the outdoor concert, say attendees who escaped <a href=\"https://www.reuters.com/world/us/least-8-dead-many-injured-tex…',\n",
              "   'publishedAt': '2021-11-06T21:10:00Z',\n",
              "   'source': {'id': 'reuters', 'name': 'Reuters'},\n",
              "   'title': 'Countdown clock, choke points led to chaos at Houston rap concert - Reuters',\n",
              "   'url': 'https://www.reuters.com/world/us/countdown-clock-choke-points-led-chaos-houston-rap-concert-2021-11-06/',\n",
              "   'urlToImage': 'https://www.reuters.com/resizer/RcuYEK8uOtxZ8o8lKiJn0cZ1IU0=/1200x628/smart/filters:quality(80)/cloudfront-us-east-2.images.arcpublishing.com/reuters/ZEULEKSZONNFBKI3KAGLUDIGAQ.jpg'},\n",
              "  {'author': 'Phil Tsekouras',\n",
              "   'content': 'TORONTO -- \\r\\nToronto rapper Drake is among those named in a lawsuit after he made a guest appearance at a music festival in Houston Friday night where eight people were killed and hundreds of others … [+2162 chars]',\n",
              "   'description': \"<ol><li>Drake named in lawsuit following Travis Scott's deadly music festival in Houston\\xa0\\xa0CTV News Toronto\\r\\n</li><li>Travis Scott, Drake sued over deadly Astroworld concert crush\\xa0\\xa0Global News\\r\\n</li><li>Travis Scott cancels Day N Vegas Festival appearance as o…\",\n",
              "   'publishedAt': '2021-11-08T17:46:00Z',\n",
              "   'source': {'id': None, 'name': 'Ctvnews.ca'},\n",
              "   'title': \"Drake named in lawsuit following Travis Scott's deadly music festival in Houston - CTV News Toronto\",\n",
              "   'url': 'https://toronto.ctvnews.ca/drake-named-in-lawsuit-following-travis-scott-s-deadly-music-festival-in-houston-1.5656837',\n",
              "   'urlToImage': 'https://www.ctvnews.ca/polopoly_fs/1.5213745.1606927597!/httpImage/image.jpg_gen/derivatives/landscape_620/image.jpg'},\n",
              "  {'author': 'Ryan Miller',\n",
              "   'content': 'It is the view of a lifetime: a sea of 8,488 expectant faces, their collective gaze converging to a single point, which happens to be exactly where I’m standing. Behind me sit about 60 members of the… [+6081 chars]',\n",
              "   'description': 'What it’s been like to witness the crumbling, momentary resurgence, and near-instantaneous re-crumbling of live music',\n",
              "   'publishedAt': '2021-11-15T12:00:00Z',\n",
              "   'source': {'id': None, 'name': 'The Atlantic'},\n",
              "   'title': 'A Touring Musician on the Magical, Fleeting Return of Live Concerts',\n",
              "   'url': 'https://www.theatlantic.com/culture/archive/2021/11/guster-ryan-miller-concert-pandemic/620691/?utm_source=feed',\n",
              "   'urlToImage': None},\n",
              "  {'author': None,\n",
              "   'content': 'SAO PAULO/RIO DE JANEIRO, Nov 5 (Reuters) - Brazilian country singer Marilia Mendonca was killed on Friday along with her manager and aide when the small airplane they were traveling in crashed in th… [+1237 chars]',\n",
              "   'description': 'Brazilian country singer Marilia Mendonca was killed on Friday along with her manager and aide when the small airplane they were traveling in crashed in the state of Minas Gerais.',\n",
              "   'publishedAt': '2021-11-05T22:52:00Z',\n",
              "   'source': {'id': 'reuters', 'name': 'Reuters'},\n",
              "   'title': 'Brazil country singer Marilia Mendonca killed in small airplane crash - Reuters',\n",
              "   'url': 'https://www.reuters.com/world/americas/brazil-country-singer-marilia-mendonca-killed-small-airplane-crash-2021-11-05/',\n",
              "   'urlToImage': 'https://www.reuters.com/pf/resources/images/reuters/reuters-default.png?d=56'},\n",
              "  {'author': 'Sharon Pruitt-Young',\n",
              "   'content': 'Travis Scott arrives at the 2021 MTV Video Music Awards in New York in September.\\r\\nAngela Weiss/AFP via Getty Images\\r\\nNike has set back the launch of their Travis Scott collaboration after 10 people … [+2237 chars]',\n",
              "   'description': 'With the passing of 9-year-old Ezra Blount, the Astroworld death toll has risen to 10. Scott and Live Nation, the organizers of the festival, have been sued by numerous parties.',\n",
              "   'publishedAt': '2021-11-16T19:19:22Z',\n",
              "   'source': {'id': None, 'name': 'NPR'},\n",
              "   'title': 'The Travis Scott shoe is postponed by Nike after the Astroworld deaths',\n",
              "   'url': 'https://www.npr.org/2021/11/16/1056198682/nike-travis-scott-shoe-astroworld-deaths-delayed',\n",
              "   'urlToImage': 'https://media.npr.org/assets/img/2021/11/16/gettyimages-1235223332_wide-29efde0be51f5048f40b1720af5c154069aaa399.jpg?s=1400'},\n",
              "  {'author': 'Tim Ashley',\n",
              "   'content': 'Joyce DiDonatos Barbican recital with Craig Terry took its name, In My Solitude, from a Duke Ellington song that featured in its second half. Programmed with great care, the evening was partly a refl… [+1995 chars]',\n",
              "   'description': 'Barbican, LondonThe mezzo-soprano’s affecting recital celebrated the liberating immediacy of live performance with music from Handel to Berlioz, Mahler and Edith PiafJoyce DiDonato’s Barbican recital with Craig Terry took its name, In My Solitude, from a Duke…',\n",
              "   'publishedAt': '2021-10-27T11:32:40Z',\n",
              "   'source': {'id': None, 'name': 'The Guardian'},\n",
              "   'title': 'Joyce DiDonato/Craig Terry review – thoughtful programme of panache and fierce beauty',\n",
              "   'url': 'https://amp.theguardian.com/music/2021/oct/27/joyce-didonato-craig-terry-review-barbican-london',\n",
              "   'urlToImage': 'https://i.guim.co.uk/img/media/7aedd7d82d2f0d139b4ace59a34d1962761f0021/133_180_3867_2319/master/3867.jpg?width=1200&height=630&quality=85&auto=format&fit=crop&overlay-align=bottom%2Cleft&overlay-width=100p&overlay-base64=L2ltZy9zdGF0aWMvb3ZlcmxheXMvdGctcmV2aWV3LTQucG5n&enable=upscale&s=fc9f12e5cee186abcd557467f7cd9ae6'},\n",
              "  {'author': 'Michael Kunzelman, Juan Lozano',\n",
              "   'content': 'Matthew Shelton, Diego Rivera, Anthony Perez and Juan Carillo place flowers on a gate to NRG Park in Houston, Texas, on Nov. 6, 2021, after a deadly crush of fans during a performance the night befor… [+7221 chars]',\n",
              "   'description': \"<ol><li>Astroworld music festival deaths spur calls for independent review\\xa0\\xa0The Globe and Mail\\r\\n</li><li>Drake, Travis Scott sued over deadly Astroworld festival crowd crush\\xa0\\xa0CTV News\\r\\n</li><li>Concert victims included 9th-grader, 'life of the party'\\xa0\\xa0CP24 To…\",\n",
              "   'publishedAt': '2021-11-08T22:44:26Z',\n",
              "   'source': {'id': 'the-globe-and-mail', 'name': 'The Globe And Mail'},\n",
              "   'title': 'Astroworld music festival deaths spur calls for independent review - The Globe and Mail',\n",
              "   'url': 'https://www.theglobeandmail.com/world/article-astroworld-music-festival-deaths-spur-calls-for-independent-review/',\n",
              "   'urlToImage': 'https://www.theglobeandmail.com/resizer/XCIRUDdZXZyqmv3t5XhLJMg35V0=/1200x800/filters:quality(80)/cloudfront-us-east-1.images.arcpublishing.com/tgam/6MO4Q7NNLZK33GPXKAFH3YNW4Y.JPG'},\n",
              "  {'author': 'Phil Tsekouras',\n",
              "   'content': 'Toronto rapper Drake is among those named in a lawsuit after he made a guest appearance at a music festival in Houston Friday night where eight people were killed and hundreds of others were injured … [+2793 chars]',\n",
              "   'description': \"<ol><li>Drake named in lawsuit following Travis Scott's deadly music festival in Houston\\xa0\\xa0CP24 Toronto's Breaking News\\r\\n</li><li>Drake, Travis Scott sued over deadly Astroworld festival crowd crush\\xa0\\xa0CTV News\\r\\n</li><li>Travis Scott and Drake sued for $1 millio…\",\n",
              "   'publishedAt': '2021-11-08T20:40:00Z',\n",
              "   'source': {'id': None, 'name': \"CP24 Toronto's Breaking News\"},\n",
              "   'title': \"Drake named in lawsuit following Travis Scott's deadly music festival in Houston - CP24 Toronto's Breaking News\",\n",
              "   'url': 'https://www.cp24.com/news/drake-named-in-lawsuit-following-travis-scott-s-deadly-music-festival-in-houston-1.5657125',\n",
              "   'urlToImage': 'https://www.cp24.com/polopoly_fs/1.5213745.1606927597!/httpImage/image.jpg_gen/derivatives/landscape_620/image.jpg'},\n",
              "  {'author': 'Aya Elamroussi',\n",
              "   'content': \"The funeral for one of the youngest victims of last week's Astroworld Festival was held Saturday morning in Houston, as families and friends remember loved ones who died a week ago at the high-energy… [+6699 chars]\",\n",
              "   'description': \"<ol><li>Funeral services underway for Astroworld Festival victims as dozens of lawsuits are filed over the tragedy\\xa0\\xa0CTV News\\r\\n</li><li>Laid to rest: Brianna Rodriguez, Heights HS junior killed in Astroworld tragedy, remembered in funer\\xa0\\xa0KHOU 11\\r\\n</li><li>'She…\",\n",
              "   'publishedAt': '2021-11-13T19:09:39Z',\n",
              "   'source': {'id': None, 'name': 'Ctvnews.ca'},\n",
              "   'title': 'Funeral services underway for Astroworld Festival victims as dozens of lawsuits are filed over the tragedy - CTV News',\n",
              "   'url': 'https://www.ctvnews.ca/entertainment/funeral-services-underway-for-astroworld-festival-victims-as-dozens-of-lawsuits-are-filed-over-the-tragedy-1.5665063',\n",
              "   'urlToImage': 'https://www.ctvnews.ca/polopoly_fs/1.5665066.1636830538!/httpImage/image.jpg_gen/derivatives/landscape_620/image.jpg'},\n",
              "  {'author': 'Jason Weisberger',\n",
              "   'content': \"This Sunday evening, November 14th, I'll be joining an audience for the first time in several years! I am really looking forward to seeing the latest edition of Pop-Up Magazine. Pop-Up Magazine is a … [+1622 chars]\",\n",
              "   'description': \"This Sunday evening, November 14th, I'll be joining an audience for the first time in several years! I am really looking forward to seeing the latest edition of Pop-Up Magazine. \\n\\n\\n\\nPop-Up Magazine is a live stage show where rather than write a few thousand w…\",\n",
              "   'publishedAt': '2021-11-11T15:15:23Z',\n",
              "   'source': {'id': None, 'name': 'Boing Boing'},\n",
              "   'title': \"Pop-Up Magazine's fall tour hits Los Angeles this Sunday, 11/14\",\n",
              "   'url': 'https://boingboing.net/2021/11/11/pop-up-magazines-fall-tour-hits-los-angeles-this-sunday.html',\n",
              "   'urlToImage': 'https://i2.wp.com/boingboing.net/wp-content/uploads/2021/11/2020_0212_NY_JustinKaneps_CeceliaAldarondo_2-1-scaled.jpg?fit=1200%2C900&ssl=1'},\n",
              "  {'author': 'Agencies',\n",
              "   'content': 'The Dutch conductor Bernard Haitink a former principal conductor of the London Philharmonic Orchestra has died aged 92.\\r\\nHaitink was among the most revered conductors of his generation, having starte… [+2284 chars]',\n",
              "   'description': 'Former principal conductor of London Philharmonic Orchestra was among most revered of his generationThe Dutch conductor Bernard Haitink – a former principal conductor of the London Philharmonic Orchestra – has died aged 92.Haitink was among the most revered c…',\n",
              "   'publishedAt': '2021-10-22T07:26:34Z',\n",
              "   'source': {'id': None, 'name': 'The Guardian'},\n",
              "   'title': 'Celebrated conductor Bernard Haitink dies aged 92',\n",
              "   'url': 'https://amp.theguardian.com/music/2021/oct/22/celebrated-conductor-bernard-haitink-dies-aged-92',\n",
              "   'urlToImage': 'https://i.guim.co.uk/img/media/5c3c09c526ffbae7666686464403f6d980e1dc6f/0_94_5615_3369/master/5615.jpg?width=1200&height=630&quality=85&auto=format&fit=crop&overlay-align=bottom%2Cleft&overlay-width=100p&overlay-base64=L2ltZy9zdGF0aWMvb3ZlcmxheXMvdGctZGVmYXVsdC5wbmc&enable=upscale&s=db270293336397a7c1031c07d97daca5'},\n",
              "  {'author': 'Daniel Cooper',\n",
              "   'content': 'Since the 1970s, the story of the television is one of conquest as it swallowed more and more space in our living rooms. Owning a set wasnt good enough, we needed a VCR, BetaMax or LaserDisc player t… [+24004 chars]',\n",
              "   'description': 'Since the 1970s, the story of the television is one of conquest as it swallowed more and more space in our living rooms. Owning a set wasn’t good enough, we needed a VCR, BetaMax or LaserDisc player to lurk on a nearby shelf. A decade later, a console or home…',\n",
              "   'publishedAt': '2021-11-12T10:30:31Z',\n",
              "   'source': {'id': 'engadget', 'name': 'Engadget'},\n",
              "   'title': 'Sky Glass is a gilded cage you pay to be locked inside',\n",
              "   'url': 'https://www.engadget.com/sky-glass-tv-review-103031952.html',\n",
              "   'urlToImage': 'https://s.yimg.com/os/creatr-uploaded-images/2021-11/72b088a0-4233-11ec-8f7b-203cccbad02a'},\n",
              "  {'author': None,\n",
              "   'content': 'An empty stage is seen at the 2021 Astroworld Festival days after a stampede killed at least eight people in Houston, Texas, U.S. November 7, 2021. Picture taken with a drone. REUTERS/Nathan Frandino… [+3625 chars]',\n",
              "   'description': \"Authorities on Monday were investigating the events leading to the deaths of eight people, including two teens, when the audience at rap star Travis Scott's performance at a Houston-area music festival last week surged toward the stage, crushing or trampling …\",\n",
              "   'publishedAt': '2021-11-08T16:59:00Z',\n",
              "   'source': {'id': 'reuters', 'name': 'Reuters'},\n",
              "   'title': 'Investigators probe Houston concert where 8 fans died, hundreds injured - Reuters',\n",
              "   'url': 'https://www.reuters.com/world/us/investigators-probe-houston-concert-where-8-fans-died-hundreds-injured-2021-11-08/',\n",
              "   'urlToImage': 'https://www.reuters.com/resizer/eGDHy8l2Ih-jVtyeAc1yriPmnac=/1200x628/smart/filters:quality(80)/cloudfront-us-east-2.images.arcpublishing.com/reuters/RHTR2TZXVBIVZECTQKJOYLYRY4.jpg'},\n",
              "  {'author': 'Jonathan Weisman',\n",
              "   'content': 'The collapse of local journalism has had serious consequences for our ability to govern, Mr. Blumenauer, a senior member of the tax-writing Ways and Means Committee, said, pointing to anti-Muslim and… [+2026 chars]',\n",
              "   'description': 'The Build Back Better Act’s marquee provisions have been the focus, but Democrats have swept dozens of obscure measures and special interest breaks into the $1.85 trillion bill.',\n",
              "   'publishedAt': '2021-11-17T10:00:24Z',\n",
              "   'source': {'id': None, 'name': 'New York Times'},\n",
              "   'title': 'From Electric Bikes to ‘Tree Equity,’ Biden’s Social Policy Bill Funds Niche Items',\n",
              "   'url': 'https://www.nytimes.com/2021/11/17/us/politics/democrats-special-interests.html',\n",
              "   'urlToImage': 'https://static01.nyt.com/images/2021/11/17/multimedia/17dc-recon-top/17dc-recon-top-facebookJumbo.jpg'},\n",
              "  {'author': \"Lisa O'Carroll\",\n",
              "   'content': 'Northern Irelands health minister is suing Van Morrison after the singer accused him of being very dangerous over his handling of Covid restrictions.\\r\\nRobin Swanns legal action relates to a well-publ… [+3203 chars]',\n",
              "   'description': 'Legal action comes after singer hit out at Robin Swann over handling of Covid restrictions<ul><li>Coronavirus – latest updates</li><li>See all our coronavirus coverage</li></ul>Northern Ireland’s health minister is suing Van Morrison after the singer accused …',\n",
              "   'publishedAt': '2021-11-07T13:31:56Z',\n",
              "   'source': {'id': None, 'name': 'The Guardian'},\n",
              "   'title': 'Northern Ireland health minister to sue Van Morrison over Covid remarks',\n",
              "   'url': 'https://amp.theguardian.com/uk-news/2021/nov/07/northern-ireland-health-minister-robin-swann-sue-van-morrison-covid',\n",
              "   'urlToImage': 'https://i.guim.co.uk/img/media/0348438a0e9a5e638dd6d0b99b589f2f1eb36ac9/0_0_3500_2101/master/3500.jpg?width=1200&height=630&quality=85&auto=format&fit=crop&overlay-align=bottom%2Cleft&overlay-width=100p&overlay-base64=L2ltZy9zdGF0aWMvb3ZlcmxheXMvdGctZGVmYXVsdC5wbmc&enable=upscale&s=18a7f86d2f800882646da389faaf8aa9'},\n",
              "  {'author': 'Michael L Hicks',\n",
              "   'content': 'On Friday, Meta (formerly Facebook) announced it had bought Within VR and its exercise game Supernatural, one of the best Oculus Quest 2 games available today. Supernatural will remain an independent… [+2090 chars]',\n",
              "   'description': 'Acquisitions and partnerships will help Facebook/Meta steal loyal customers for its future platform.\\n\\n\\n\\nWhat you need to know\\n\\n\\nMeta has acquired VR company Within and its exercise app Supernatural, one of the most popular games on the Oculus Quest 2.\\nWithin …',\n",
              "   'publishedAt': '2021-10-29T23:04:58Z',\n",
              "   'source': {'id': None, 'name': 'Android Central'},\n",
              "   'title': \"Meta's acquisition of a popular VR brand is a sign of things to come\",\n",
              "   'url': 'https://www.androidcentral.com/metas-acquisition-popular-vr-brand-sign-things-come',\n",
              "   'urlToImage': 'https://www.androidcentral.com/sites/androidcentral.com/files/styles/large/public/article_images/2020/05/supernatural-vr-logo.jpg'},\n",
              "  {'author': 'https://www.facebook.com/bbcnews',\n",
              "   'content': 'Image source, Getty Images\\r\\nImage caption, Rapper Travis Scott said he was devastated by what happened at the Astroworld festival\\r\\nRapper Travis Scott should have halted a show in Houston which saw a… [+2794 chars]',\n",
              "   'description': 'The US rapper had a responsibility to fans at his Astroworld event in which eight people were killed.',\n",
              "   'publishedAt': '2021-11-09T23:26:23Z',\n",
              "   'source': {'id': 'bbc-news', 'name': 'BBC News'},\n",
              "   'title': 'Astroworld: Travis Scott should have stopped concert earlier, says fire chief',\n",
              "   'url': 'https://www.bbc.co.uk/news/world-us-canada-59228831',\n",
              "   'urlToImage': 'https://ichef.bbci.co.uk/news/1024/branded_news/1261F/production/_121459257_travisgetty.jpg'},\n",
              "  {'author': 'Dorian Lynskey',\n",
              "   'content': 'When Nik Cohn wrote Awopbopaloobop Alopbamboom: The Golden Age of Rock in 1969, he only had 15 years of the rocknroll era to process. Five decades later, telling the story so far is such a daunting p… [+9480 chars]',\n",
              "   'description': 'The New Yorker writer’s book Major Labels examines why we tag music with a genre, be it for commerce or community. He explains why people still argue over great songs – and why they can thrive on cultural appropriationWhen Nik Cohn wrote Awopbopaloobop Alopba…',\n",
              "   'publishedAt': '2021-10-19T13:29:38Z',\n",
              "   'source': {'id': None, 'name': 'The Guardian'},\n",
              "   'title': '‘Our music charts are still kind of segregated’: critic Kelefa Sanneh on pop, fandom and race',\n",
              "   'url': 'https://amp.theguardian.com/books/2021/oct/19/our-music-charts-are-still-kind-of-segregated-critic-kelefa-sanneh-on-pop-fandom-and-race',\n",
              "   'urlToImage': 'https://i.guim.co.uk/img/media/02c7d03e4b8b58780a1b1dd0c7570e401bb6fc44/0_0_1365_818/master/1365.jpg?width=1200&height=630&quality=85&auto=format&fit=crop&overlay-align=bottom%2Cleft&overlay-width=100p&overlay-base64=L2ltZy9zdGF0aWMvb3ZlcmxheXMvdGctZGVmYXVsdC5wbmc&enable=upscale&s=e893c195d34dafc22796fa17757799f7'},\n",
              "  {'author': 'https://www.facebook.com/bbcnews',\n",
              "   'content': 'Image caption, People have been paying tribute to the victims at a makeshift memorial in Houston\\r\\nUS rapper Travis Scott is facing legal action after at least eight people were killed and hundreds in… [+5854 chars]',\n",
              "   'description': 'The rapper faces legal action after at least eight people were killed during his Astroworld festival.',\n",
              "   'publishedAt': '2021-11-08T11:48:17Z',\n",
              "   'source': {'id': 'bbc-news', 'name': 'BBC News'},\n",
              "   'title': 'Astroworld: Travis Scott and Drake sued over deadly US festival crush',\n",
              "   'url': 'https://www.bbc.co.uk/news/world-us-canada-59205570',\n",
              "   'urlToImage': 'https://ichef.bbci.co.uk/news/1024/branded_news/BCE5/production/_121475384_gettyimages-1351790689-1.jpg'},\n",
              "  {'author': None,\n",
              "   'content': 'By Jamie Lang\\r\\nLOS ANGELES (Variety.com) - APPOINTMENT\\r\\nNetflix has appointed Tara Woodbury as the company\\'s first content executive in Canada. Working from the company\\'s Toronto offices, the \"Transp… [+2515 chars]',\n",
              "   'description': \"'Transplant' Producer Tara Woodbury Appointed as Netflix's First Executive in Canada - Global Bulletin\\xa0\\xa0Reuters\",\n",
              "   'publishedAt': '2021-11-02T22:05:00Z',\n",
              "   'source': {'id': 'reuters', 'name': 'Reuters'},\n",
              "   'title': \"'Transplant' Producer Tara Woodbury Appointed as Netflix's First Executive in Canada - Global Bulletin - Reuters\",\n",
              "   'url': 'https://www.reuters.com/business/cop/transplant-producer-tara-woodbury-appointed-netflixs-first-executive-canada-2021-11-02/',\n",
              "   'urlToImage': 'https://www.reuters.com/pf/resources/images/reuters/reuters-default.png?d=55'},\n",
              "  {'author': 'Vanessa Romo',\n",
              "   'content': \"A 56-page security plan never once mentioned how to handle a dangerous crowd surge, like what took place during headliner Travis Scott's concert over the weekend.\\r\\nAmy Harris/Amy Harris/Invision/AP\\r\\n… [+5088 chars]\",\n",
              "   'description': \"Security experts say that given the track record of Travis Scott's audience at the same festival in 2019, promoter Live Nation should have anticipated some dangerous crowd behavior.\",\n",
              "   'publishedAt': '2021-11-11T00:57:11Z',\n",
              "   'source': {'id': None, 'name': 'NPR'},\n",
              "   'title': \"Astroworld's safety plan failed to say what to do in case of a crowd surge\",\n",
              "   'url': 'https://www.npr.org/2021/11/10/1054543388/astroworlds-safety-plan-failed-to-say-what-to-do-in-case-of-a-crowd-surge',\n",
              "   'urlToImage': 'https://media.npr.org/assets/img/2021/11/10/ap_21309711985999_wide-99df5f94f12a2a4835475d66aff5e8c9d4e2081b.jpg?s=1400'},\n",
              "  {'author': 'Simon Hattenstone',\n",
              "   'content': 'Helloooooh! How are you? Im good, Im good. It takes me about three seconds to warm to Melissa Etheridge. The American singer-songwriter has been through hell in the past few years, but you wont find … [+13252 chars]',\n",
              "   'description': 'Eighteen months after she lost her son to opioid addiction, the singer-songwriter has released a new album. She talks about her troubled childhood, the happiness she has found with her wife – and her refusal to grieve‘Helloooooh! How are you? I’m good, I’m go…',\n",
              "   'publishedAt': '2021-11-18T10:00:02Z',\n",
              "   'source': {'id': None, 'name': 'The Guardian'},\n",
              "   'title': '‘I considered having kids with Brad Pitt’: Melissa Etheridge on music, motherhood and coming out',\n",
              "   'url': 'https://amp.theguardian.com/music/2021/nov/18/melissa-etheridge-music-motherhood-coming-out-brad-pitt',\n",
              "   'urlToImage': 'https://i.guim.co.uk/img/media/df4c9c887ed2634466f127c6b0b7f30c84afbcfa/0_348_5902_3542/master/5902.jpg?width=1200&height=630&quality=85&auto=format&fit=crop&overlay-align=bottom%2Cleft&overlay-width=100p&overlay-base64=L2ltZy9zdGF0aWMvb3ZlcmxheXMvdGctZGVmYXVsdC5wbmc&enable=upscale&s=a4e053ba521cd6da3ff26671858ed0c9'},\n",
              "  {'author': 'insider@insider.com (Sponsor Post)',\n",
              "   'content': \"By Andrew Yanoscik, VP, creative at BASIC® (part of Dept)\\r\\nIf you've ever ordered food for a group of friends, coworkers, or your family, you know how much of a pain it can be. Guessing how much is t… [+5652 chars]\",\n",
              "   'description': 'By combining live, human interaction with the convenience of e-commerce, brands have the power to create a whole new customer experience.',\n",
              "   'publishedAt': '2021-10-28T14:00:00Z',\n",
              "   'source': {'id': 'business-insider', 'name': 'Business Insider'},\n",
              "   'title': \"How brands are using technology to amplify the customer experience - whether you're shopping or ordering fast food\",\n",
              "   'url': 'https://www.businessinsider.com/sc/how-brands-are-using-technology-to-amplify-the-customer-experience-2021-10',\n",
              "   'urlToImage': 'https://i.insider.com/61785a2de100ad00181dcd40?width=1200&format=jpeg'},\n",
              "  {'author': 'Zacks Equity Research',\n",
              "   'content': 'For Immediate Release\\r\\nChicago, IL October 21, 2021 Zacks.com announces the list of stocks featured in the Analyst Blog. Every day the Zacks Equity Research analysts discuss the latest news and event… [+6187 chars]',\n",
              "   'description': 'The Zacks Analyst Blog Highlights: Amazon, Apple and Spotify',\n",
              "   'publishedAt': '2021-10-21T13:49:00Z',\n",
              "   'source': {'id': None, 'name': 'Zacks.com'},\n",
              "   'title': 'The Zacks Analyst Blog Highlights: Amazon, Apple and Spotify',\n",
              "   'url': 'http://www.zacks.com/stock/news/1814098/the-zacks-analyst-blog-highlights-amazon-apple-and-spotify?cid=CS-ENTREPRENEUR-FT-press_releases-1814098',\n",
              "   'urlToImage': 'https://assets.entrepreneur.com/providers/zacks/hero-image-zacks-392594.jpeg'},\n",
              "  {'author': 'Lucas Shaw and Peter Pae / Blooomberg',\n",
              "   'content': 'K-pop boy band BTS is ending its distribution deal with Sony Music’s Columbia Records and will instead partner with Universal Music Group, a person familiar with the situation said.\\r\\nThe move is a co… [+1329 chars]',\n",
              "   'description': 'The move is a coup for Universal Music, which had been pursuing the tie-up for years. Sony, which owns Columbia, declined to comment.',\n",
              "   'publishedAt': '2021-10-22T02:28:16Z',\n",
              "   'source': {'id': 'time', 'name': 'Time'},\n",
              "   'title': 'K-Pop Group BTS to Leave Columbia Records for Universal Music',\n",
              "   'url': 'https://time.com/6109309/bts-columbia-universal-music/',\n",
              "   'urlToImage': 'https://api.time.com/wp-content/uploads/2021/10/GettyImages-1235381897.jpg?quality=85&w=1024&h=628&crop=1'},\n",
              "  {'author': 'Brittany Bettini',\n",
              "   'content': '\"Don\\'t let making a living prevent you from making a life.\"\\r\\nSaid John Wooden. The guy lived for almost 100 years.\\r\\nDoes his statement seem relevant to your current lifestyle? Have you ever wanted to… [+8004 chars]',\n",
              "   'description': 'Take control of your finances and have the life you want to live.',\n",
              "   'publishedAt': '2021-10-27T13:00:00Z',\n",
              "   'source': {'id': None, 'name': 'Entrepreneur'},\n",
              "   'title': '5 Ways Passive Income Can Help You Change Your Financial Future',\n",
              "   'url': 'https://www.entrepreneur.com/article/386414',\n",
              "   'urlToImage': 'https://assets.entrepreneur.com/content/3x2/2000/1634651400-shutterstock-1543076324.jpg'},\n",
              "  {'author': 'PA Media',\n",
              "   'content': 'Moody Blues frontman Justin Hayward has paid tribute to bandmate Graeme Edge, who has died at the age of 80.\\r\\nEdge was the drummer in the Birmingham-based rock band who were famous for such hits as N… [+1863 chars]',\n",
              "   'description': 'Frontman Justin Hayward pays tribute to ‘one of the great characters of the music business’Moody Blues frontman Justin Hayward has paid tribute to bandmate Graeme Edge, who has died at the age of 80.Edge was the drummer in the Birmingham-based rock band who w…',\n",
              "   'publishedAt': '2021-11-11T18:30:36Z',\n",
              "   'source': {'id': None, 'name': 'The Guardian'},\n",
              "   'title': 'Moody Blues drummer Graeme Edge dies aged 80',\n",
              "   'url': 'https://amp.theguardian.com/music/2021/nov/11/moody-blues-drummer-graeme-edge-dies-aged-80',\n",
              "   'urlToImage': 'https://i.guim.co.uk/img/media/da3cc48427cb8f11f4e3175de1d5ddc0b3bcf5eb/0_436_4680_2808/master/4680.jpg?width=1200&height=630&quality=85&auto=format&fit=crop&overlay-align=bottom%2Cleft&overlay-width=100p&overlay-base64=L2ltZy9zdGF0aWMvb3ZlcmxheXMvdGctZGVmYXVsdC5wbmc&enable=upscale&s=0b782d4525a7dd2a09ce48a225aedb39'},\n",
              "  {'author': 'Jim Waterson Media editor',\n",
              "   'content': 'When Rupert Murdoch launched Times Radio last summer, he was aiming to target the BBC and win over listeners who may have become disenchanted with the output on Radio 4 and Radio 5 live.\\r\\nNow, the st… [+3398 chars]',\n",
              "   'description': 'First figures since 2020 show boom in speech radio but public loses appetite for music breakfast showsWhen Rupert Murdoch launched Times Radio last summer, he was aiming to target the BBC and win over listeners who may have become disenchanted with the output…',\n",
              "   'publishedAt': '2021-10-27T23:01:44Z',\n",
              "   'source': {'id': None, 'name': 'The Guardian'},\n",
              "   'title': 'Latest figures reveal how pandemic shaped UK radio listening habits',\n",
              "   'url': 'https://amp.theguardian.com/tv-and-radio/2021/oct/28/latest-figures-reveal-how-pandemic-shaped-uk-radio-listening-habits',\n",
              "   'urlToImage': 'https://i.guim.co.uk/img/media/3890e5403d98ef6c78d3647b829ccf09206aceb3/0_73_3500_2101/master/3500.jpg?width=1200&height=630&quality=85&auto=format&fit=crop&overlay-align=bottom%2Cleft&overlay-width=100p&overlay-base64=L2ltZy9zdGF0aWMvb3ZlcmxheXMvdGctZGVmYXVsdC5wbmc&enable=upscale&s=34a3028abb45a6f6cdee8c41acc72a20'},\n",
              "  {'author': 'Thom Dunn',\n",
              "   'content': \"My colleague Brent Butterworth has a fantastic new piece on Wirecutter about the recent revival of music on tape cassettes and why it's so hard to make them sound good, on a very technical level.\\r\\nCD… [+1371 chars]\",\n",
              "   'description': \"My colleague Brent Butterworth has a fantastic new piece on Wirecutter about the recent revival of music on tape cassettes — and why it's so hard to make them sound good, on a very technical level.\\n\\n\\n\\nCDs can flawlessly reproduce the entire range of audio fro…\",\n",
              "   'publishedAt': '2021-11-04T13:12:47Z',\n",
              "   'source': {'id': None, 'name': 'Boing Boing'},\n",
              "   'title': \"Why it's so hard to find a good tape deck these days\",\n",
              "   'url': 'https://boingboing.net/2021/11/04/why-its-so-hard-to-find-a-good-tape-deck-these-days.html',\n",
              "   'urlToImage': 'https://i1.wp.com/boingboing.net/wp-content/uploads/2021/10/music-technology-vintage-retro-red-color-1029201-pxhere.com_.jpg?fit=1200%2C675&ssl=1'},\n",
              "  {'author': 'Benjamin Mayo',\n",
              "   'content': 'On Friday night, at least eight people died and hundreds more injured due to crowd crush at a Travis Scott festival in Texas. Apple Music was an official partner of the Astroworld event and was live-… [+765 chars]',\n",
              "   'description': 'On Friday night, at least eight people died and hundreds more injured due to crowd crush at a Travis Scott festival in Texas. Apple Music was an official partner of the Astroworld event and was live-streaming the show.\\n more…\\nThe post Apple Music commemorates…',\n",
              "   'publishedAt': '2021-11-06T19:42:13Z',\n",
              "   'source': {'id': None, 'name': '9to5Mac'},\n",
              "   'title': 'Apple Music commemorates the victims of Travis Scott festival tragedy',\n",
              "   'url': 'https://9to5mac.com/2021/11/06/apple-music-commemorates-the-victims-of-travis-scott-festival-tragedy/',\n",
              "   'urlToImage': 'https://i1.wp.com/9to5mac.com/wp-content/uploads/sites/6/2021/11/apple-music-tragedy.jpg?resize=1200%2C628&quality=82&strip=all&ssl=1'},\n",
              "  {'author': 'Juli Clover',\n",
              "   'content': 'Apple today released macOS 12 Monterey, the newest version of the operating system designed to run on the Mac. macOS Monterey comes after months of beta testing and feature refinements.\\r\\nThe new \\u200cmac… [+5690 chars]',\n",
              "   'description': 'Apple today released macOS 12 Monterey, the newest version of the operating system designed to run on the Mac. macOS Monterey comes after months of beta testing and feature refinements.\\n\\n\\n\\n\\r\\nSubscribe to the MacRumors YouTube channel for more videos.\\n\\nThe new…',\n",
              "   'publishedAt': '2021-10-25T17:02:03Z',\n",
              "   'source': {'id': None, 'name': 'MacRumors'},\n",
              "   'title': 'Apple Releases macOS Monterey With AirPlay to Mac, Live Text, Safari Updates, Shortcuts App and More',\n",
              "   'url': 'https://www.macrumors.com/2021/10/25/apple-releases-macos-monterey/',\n",
              "   'urlToImage': 'https://images.macrumors.com/t/a3GgsqL_H3h4JV8ucqgDXVzSp3U=/2500x/https://images.macrumors.com/article-new/2021/06/macOS-Monterey-on-MBP-Feature.jpg'},\n",
              "  {'author': 'Zach Vasquez',\n",
              "   'content': 'It was only a matter of time before Saturday Night Live utilized new featured player James Austin Johnsons incredible impression of Donald Trump. That moment finally came in tonights cold open, by wa… [+7212 chars]',\n",
              "   'description': 'Kieran Culkin hosted a strong episode of the show that showcased new cast member James Austin Johnson’s standout take on the former presidentIt was only a matter of time before Saturday Night Live utilized new featured player James Austin Johnson’s incredible…',\n",
              "   'publishedAt': '2021-11-07T17:15:35Z',\n",
              "   'source': {'id': None, 'name': 'The Guardian'},\n",
              "   'title': 'Saturday Night Live: Trump is back and finally it’s an impression worth laughing at',\n",
              "   'url': 'https://amp.theguardian.com/tv-and-radio/2021/nov/07/saturday-night-live-trump-james-austin-johnson-kieran-culkin',\n",
              "   'urlToImage': 'https://i.guim.co.uk/img/media/3c869db66ec6960762daa07bd71c8817056068b0/0_154_3000_1800/master/3000.jpg?width=1200&height=630&quality=85&auto=format&fit=crop&overlay-align=bottom%2Cleft&overlay-width=100p&overlay-base64=L2ltZy9zdGF0aWMvb3ZlcmxheXMvdGctZGVmYXVsdC5wbmc&enable=upscale&s=232769715944772d7c1f2ee64a67730d'},\n",
              "  {'author': 'Zach Vasquez',\n",
              "   'content': 'After a noticeable uptick in the quality of cold opens of late, Saturday Night Live is back to whiffing them. Tonights episode gets off to a poor start with Cruz Street, a conservative version of Ses… [+6741 chars]',\n",
              "   'description': 'After a strong start to the season, the show returns to underwhelming form with skits skewering Ted Cruz and QuibiAfter a noticeable uptick in the quality of cold opens of late, Saturday Night Live is back to whiffing them. Tonight’s episode gets off to a poo…',\n",
              "   'publishedAt': '2021-11-14T14:24:44Z',\n",
              "   'source': {'id': None, 'name': 'The Guardian'},\n",
              "   'title': 'Saturday Night Live: Jonathan Majors and Taylor Swift can’t save ho-hum episode',\n",
              "   'url': 'https://amp.theguardian.com/tv-and-radio/2021/nov/14/saturday-night-live-jonathan-majors-taylor-swift',\n",
              "   'urlToImage': 'https://i.guim.co.uk/img/media/251e5247f3550a1d69e1cf24838f02e2e88548ac/0_154_3000_1800/master/3000.jpg?width=1200&height=630&quality=85&auto=format&fit=crop&overlay-align=bottom%2Cleft&overlay-width=100p&overlay-base64=L2ltZy9zdGF0aWMvb3ZlcmxheXMvdGctZGVmYXVsdC5wbmc&enable=upscale&s=720817be321c6c495331ff2be3452a2b'},\n",
              "  {'author': None,\n",
              "   'content': \"Vancouver - \\r\\nBryan Adams is throwing a New Year's Eve bash in Vancouver this year that organizers say will be one for the history books.\\r\\nThe Summer of '69 singer plans to usher in 2022 with an aren… [+1321 chars]\",\n",
              "   'description': \"<ol><li>Massive New Year's Eve party coming to Vancouver with Bryan Adams, Mother Mother and 54-40\\xa0\\xa0CTV News Vancouver\\r\\n</li><li>Bryan Adams announces New Year's Eve concert at Rogers Arena | Listed\\xa0\\xa0Daily Hive\\r\\n</li><li>Bryan Adams plays a New Year's Eve par…\",\n",
              "   'publishedAt': '2021-10-26T18:10:00Z',\n",
              "   'source': {'id': None, 'name': 'Ctvnews.ca'},\n",
              "   'title': \"Massive New Year's Eve party coming to Vancouver with Bryan Adams, Mother Mother and 54-40 - CTV News Vancouver\",\n",
              "   'url': 'https://bc.ctvnews.ca/massive-new-year-s-eve-party-coming-to-vancouver-with-bryan-adams-mother-mother-and-54-40-1.5639091',\n",
              "   'urlToImage': 'https://www.ctvnews.ca/content/dam/ctvnews/en/images/2020/5/12/bryan-adams-1-4935510-1635271851729.jpg'},\n",
              "  {'author': 'Streisand Neto',\n",
              "   'content': 'Ed Sheeran has announced on his Instagram page that he has tested positive for Covid-19 and is self-isolating.\\r\\nIn the post he said: It means that Im now unable to plough ahead with any in-person com… [+1363 chars]',\n",
              "   'description': 'Singer, whose new album = is out Friday, says in Instagram post he is cancelling in-person commitments<ul><li>Coronavirus – latest updates</li><li>See all our coronavirus coverage</li></ul>Ed Sheeran has announced on his Instagram page that he has tested posi…',\n",
              "   'publishedAt': '2021-10-24T18:24:40Z',\n",
              "   'source': {'id': None, 'name': 'The Guardian'},\n",
              "   'title': 'Ed Sheeran self-isolating after testing positive for Covid-19',\n",
              "   'url': 'https://amp.theguardian.com/world/2021/oct/24/ed-sheeran-self-isolating-testing-positive-covid-19',\n",
              "   'urlToImage': 'https://i.guim.co.uk/img/media/b9947f0f05aada18bd8a41c9ff023de8c63a2708/0_238_4675_2805/master/4675.jpg?width=1200&height=630&quality=85&auto=format&fit=crop&overlay-align=bottom%2Cleft&overlay-width=100p&overlay-base64=L2ltZy9zdGF0aWMvb3ZlcmxheXMvdGctZGVmYXVsdC5wbmc&enable=upscale&s=73f8b5ecdaa36fbf7e139fd138068de7'},\n",
              "  {'author': 'Miranda Sawyer',\n",
              "   'content': 'Theres a Jeremy Deller artwork, The History of the World 1997-2004, which connects acid house with brass bands. It does so via long, looping arrows and scrawled words such as Throbbing Gristle, priva… [+4944 chars]',\n",
              "   'description': 'The music journalist’s celebration of the TV presenter turned Factory Records kingpin captures the energy and intelligence of a complex but inspiring manThere’s a Jeremy Deller artwork, The History of the World 1997-2004, which connects acid house with brass …',\n",
              "   'publishedAt': '2021-10-25T08:00:34Z',\n",
              "   'source': {'id': None, 'name': 'The Guardian'},\n",
              "   'title': 'From Manchester With Love by Paul Morley review – an epic life of Tony Wilson',\n",
              "   'url': 'https://amp.theguardian.com/books/2021/oct/25/from-manchester-with-love-by-paul-morley-review-an-epic-life-of-tony-wilson',\n",
              "   'urlToImage': 'https://i.guim.co.uk/img/media/98e1ff7003846b25a0f42c0114c55e4515d12c26/0_47_2816_1690/master/2816.jpg?width=1200&height=630&quality=85&auto=format&fit=crop&overlay-align=bottom%2Cleft&overlay-width=100p&overlay-base64=L2ltZy9zdGF0aWMvb3ZlcmxheXMvdG8tZGVmYXVsdC5wbmc&enable=upscale&s=29c2b78583722afb363a28b830567802'},\n",
              "  {'author': 'James Doubek',\n",
              "   'content': 'Actor James Michael Tyler, pictured at the Central Perk pop-up celebrating the 20th anniversary of Friends in September 2014 in New York City, has died at age 59.\\r\\nPaul Zimmerman/Getty Images\\r\\nJames … [+1667 chars]',\n",
              "   'description': 'Tyler was the most frequently recurring guest star over the 10-year run of Friends, playing the shy barista Gunther.',\n",
              "   'publishedAt': '2021-10-25T01:07:57Z',\n",
              "   'source': {'id': None, 'name': 'NPR'},\n",
              "   'title': \"James Michael Tyler, who played Gunther on 'Friends,' dies at 59\",\n",
              "   'url': 'https://www.npr.org/2021/10/24/1048880055/actor-james-michael-tyler-gunther-friends-dies',\n",
              "   'urlToImage': 'https://media.npr.org/assets/img/2021/10/24/gettyimages-455563378_wide-d331d7198c22f3281ea1aeffaf2d1e886a1f7203.jpg?s=1400'},\n",
              "  {'author': 'EditorDavid',\n",
              "   'content': '40 years ago the Rolling Stones released the song \"Start Me Up\" as part of their album Tattoo You. Then over the next four decades they built a reputation as a surprisingly tech-savvy band...In 1994 … [+1473 chars]',\n",
              "   'description': 'Long-time Slashdot reader destinyland writes: 40 years ago the Rolling Stones released the song \"Start Me Up\" as part of their album Tattoo You. Then over the next four decades they built a reputation as a surprisingly tech-savvy band... \\n\\nIn 1994 they became…',\n",
              "   'publishedAt': '2021-10-31T01:34:00Z',\n",
              "   'source': {'id': None, 'name': 'Slashdot.org'},\n",
              "   'title': \"The Rolling Stones Recreate 'Start Me Up' Video With Boston Dynamics Robot Dog 'Spot'\",\n",
              "   'url': 'https://hardware.slashdot.org/story/21/10/31/0011220/the-rolling-stones-recreate-start-me-up-video-with-boston-dynamics-robot-dog-spot',\n",
              "   'urlToImage': 'https://a.fsdn.com/sd/topics/advertising_64.png'},\n",
              "  {'author': 'by Dalya Alberge',\n",
              "   'content': 'The 1962 premiere of Benjamin Brittens War Requiem marked the consecration of the new Coventry Cathedral after the original building was destroyed in the Luftwaffe bombing raids of 1940. The monument… [+3113 chars]',\n",
              "   'description': 'Composer says his music for 60th anniversary of cathedral aims to break down cultural barriersThe 1962 premiere of Benjamin Britten’s War Requiem marked the consecration of the new Coventry Cathedral after the original building was destroyed in the Luftwaffe …',\n",
              "   'publishedAt': '2021-11-07T08:30:13Z',\n",
              "   'source': {'id': None, 'name': 'The Guardian'},\n",
              "   'title': 'In Britten’s footsteps, Nitin Sawhney’s requiem will mark Coventry’s rebirth',\n",
              "   'url': 'https://amp.theguardian.com/music/2021/nov/07/in-brittens-footsteps-nitin-sawhneys-requiem-will-mark-coventrys-rebirth',\n",
              "   'urlToImage': 'https://i.guim.co.uk/img/media/1d8e309be66e6cfabfff0950ac519675b25ffbab/0_204_5791_3476/master/5791.jpg?width=1200&height=630&quality=85&auto=format&fit=crop&overlay-align=bottom%2Cleft&overlay-width=100p&overlay-base64=L2ltZy9zdGF0aWMvb3ZlcmxheXMvdG8tZGVmYXVsdC5wbmc&enable=upscale&s=b7e9c2c8f9ab5bdbc041e910783ac693'},\n",
              "  {'author': 'Associated Press Videos',\n",
              "   'content': 'Instagram/Tarrant County Sheriffs OfficeA man charged with murdering an exotic dancer in Fort Worth, Texas, was a customer at the club where she worked, and had stalked and threatened her after claim… [+293 chars]',\n",
              "   'description': \"Cardinal Timothy Dolan kicked off the holiday season by blessing the animals that will be featured in the Radio City Music Hall's live Nativity scene. Joined...\",\n",
              "   'publishedAt': '2021-11-02T17:46:10Z',\n",
              "   'source': {'id': None, 'name': 'Yahoo Entertainment'},\n",
              "   'title': 'Cardinal Dolan blessing of the animals, Rockettes',\n",
              "   'url': 'https://news.yahoo.com/cardinal-dolan-blessing-animals-rockettes-174610567.html',\n",
              "   'urlToImage': 'https://s.yimg.com/ny/api/res/1.2/DDleoZWKV1dnYrKtemFZ8Q--/YXBwaWQ9aGlnaGxhbmRlcjt3PTEyMDA7aD02NzU-/https://s.yimg.com/hd/cp-video-transcode/prod/2021-11/02/61817a5824ffa92aa292f32d/61817a5824ffa92aa292f32e_o_U_v2.jpg'},\n",
              "  {'author': None,\n",
              "   'content': 'HOUSTON (AP) - A 9-year-old Dallas boy has become the youngest person to die from injuries sustained during a crowd surge at the Astroworld music festival in Houston.\\r\\nEzra Blount of Dallas died Sund… [+1771 chars]',\n",
              "   'description': \"<ol><li>9-year-old Dallas boy dies after Astroworld festival crush; death toll at 10\\xa0\\xa0CP24 Toronto's Breaking News\\r\\n</li><li>Nine-Year-Old Boy Becomes 10th Person to Die from Injuries Sustained at Festival\\xa0\\xa0Consequence\\r\\n</li><li>Travis Scott's History With Ca…\",\n",
              "   'publishedAt': '2021-11-15T03:16:00Z',\n",
              "   'source': {'id': None, 'name': \"CP24 Toronto's Breaking News\"},\n",
              "   'title': \"9-year-old Dallas boy dies after Astroworld festival crush; death toll at 10 - CP24 Toronto's Breaking News\",\n",
              "   'url': 'https://www.cp24.com/entertainment-news/9-year-old-dallas-boy-dies-after-astroworld-festival-crush-death-toll-at-10-1.5666073',\n",
              "   'urlToImage': 'https://www.cp24.com/polopoly_fs/1.5666074.1636945893!/httpImage/image.jpg_gen/derivatives/landscape_620/image.jpg'},\n",
              "  {'author': None,\n",
              "   'content': 'HOUSTON -- \\r\\nA 9-year-old Dallas boy has become the youngest person to die from injuries sustained during a crowd surge at the Astroworld music festival in Houston.\\r\\nEzra Blount of Dallas died Sunday… [+1775 chars]',\n",
              "   'description': '<ol><li>Astroworld: 10th person dies after festival\\xa0\\xa0CTV News\\r\\n</li><li>9-year-old Dallas boy dies after Astroworld festival crush, raising death toll to 10\\xa0\\xa0CityNews Toronto\\r\\n</li><li>Indian American student dies after being trampled at Travis Scott`s concer…',\n",
              "   'publishedAt': '2021-11-15T03:23:00Z',\n",
              "   'source': {'id': None, 'name': 'Ctvnews.ca'},\n",
              "   'title': 'Astroworld: 10th person dies after festival - CTV News',\n",
              "   'url': 'https://www.ctvnews.ca/world/9-year-old-dallas-boy-dies-after-astroworld-festival-crush-1.5666077',\n",
              "   'urlToImage': 'https://www.ctvnews.ca/polopoly_fs/1.5656437.1636378472!/httpImage/image.jpg_gen/derivatives/landscape_620/image.jpg'},\n",
              "  {'author': None,\n",
              "   'content': 'TORONTO -- \\r\\nA Canadian teen who attended the deadly Astroworld Festival in Houston is sharing his experience at the concert after he was nearly trampled.\\r\\nEvan Pond, a 16-year-old from Simcoe, Ont.,… [+1995 chars]',\n",
              "   'description': '<ol><li>Astroworld attendee describes chaos at festival\\xa0\\xa0CTV News\\r\\n</li><li>Security could have done more at Astroworld music festival, Ontario teen says\\xa0\\xa0CBC.ca\\r\\n</li><li>Drake breaks silence on Astroworld tragedy by posting statement to Instagram\\xa0\\xa0blogTO\\r\\n<…',\n",
              "   'publishedAt': '2021-11-09T22:37:00Z',\n",
              "   'source': {'id': None, 'name': 'Ctvnews.ca'},\n",
              "   'title': 'Astroworld attendee describes chaos at festival - CTV News',\n",
              "   'url': 'https://www.ctvnews.ca/entertainment/pure-fear-canadian-teen-describes-chaos-at-deadly-astroworld-festival-1.5659073',\n",
              "   'urlToImage': 'https://www.ctvnews.ca/polopoly_fs/1.5655122.1636211312!/httpImage/image.jpg_gen/derivatives/landscape_620/image.jpg'},\n",
              "  {'author': 'Sheila Ngoc Pham',\n",
              "   'content': 'In early 1960s Saigon, Nguyn Thi Tâm would appear on stage in the citys vibrant phòng trà (tearooms) and nightclubs. She embodied quintessential young womanhood, with long, straight black hair and we… [+8377 chars]',\n",
              "   'description': 'Playing raucous American pop in 1960s Vietnam, Phuong Tâm became a star – but turned her back on singing after emigrating to the US. Now she’s 76 and her incredible music can finally be heard after her daughter tracked it downIn early 1960s Saigon, Nguyễn Thi…',\n",
              "   'publishedAt': '2021-10-28T14:00:02Z',\n",
              "   'source': {'id': None, 'name': 'The Guardian'},\n",
              "   'title': 'Do the Saigon twist! Meet Phuong Tâm, Vietnam’s first rock’n’roll star',\n",
              "   'url': 'https://amp.theguardian.com/music/2021/oct/28/saigon-twist-meet-phuong-tam-vietnam-first-rocknroll-star',\n",
              "   'urlToImage': 'https://i.guim.co.uk/img/media/eb860ca801846bb84857abbd0ce00c999bb52900/104_313_680_408/master/680.jpg?width=1200&height=630&quality=85&auto=format&fit=crop&overlay-align=bottom%2Cleft&overlay-width=100p&overlay-base64=L2ltZy9zdGF0aWMvb3ZlcmxheXMvdGctZGVmYXVsdC5wbmc&enable=upscale&s=196b72a483dfe3b8bbc024803dd6ffb2'},\n",
              "  {'author': 'Josephine Harvey',\n",
              "   'content': 'Adele has revealed the most important guest at her top secret, star-studded Los Angeles concert last month: her 9-year-old son Angelo. \\r\\nIt was also the first time my son saw me perform and Ive never… [+1938 chars]',\n",
              "   'description': 'The British singer said she was feeling \"a million things at once\" about performing her new music for \"Adele: One Night Only.\"',\n",
              "   'publishedAt': '2021-11-15T01:08:25Z',\n",
              "   'source': {'id': None, 'name': 'HuffPost'},\n",
              "   'title': 'Adele Reveals Very Special Audience Member At LA Concert: ‘Never Been So Nervous’',\n",
              "   'url': 'https://www.huffpost.com/entry/adele-son-concert_n_6191a566e4b0b1aee926d143',\n",
              "   'urlToImage': 'https://img.huffingtonpost.com/asset/6191b1ea280000401d7ea557.png?cache=1rqBwtH2eZ&ops=1778_1000'},\n",
              "  {'author': 'https://www.facebook.com/bbcnews',\n",
              "   'content': \"By Annabel RackhamNewsbeat reporter\\r\\nImage source, Getty Images\\r\\nImage caption, Taylor's Red album gave her a string of huge global hits\\r\\nWhat were you up to nine years ago? That might be a bit of a … [+3741 chars]\",\n",
              "   'description': \"The American singer's first pop and country crossover album has been re-recorded nine years later.\",\n",
              "   'publishedAt': '2021-11-12T15:59:10Z',\n",
              "   'source': {'id': 'bbc-news', 'name': 'BBC News'},\n",
              "   'title': \"Taylor Swift Red re-release: 'It was the soundtrack to my own break-up'\",\n",
              "   'url': 'https://www.bbc.co.uk/news/newsbeat-59264000',\n",
              "   'urlToImage': 'https://ichef.bbci.co.uk/news/1024/branded_news/C8C1/production/_121539315_taylorred976.jpg'}],\n",
              " 'status': 'ok',\n",
              " 'totalResults': 13130}"
            ]
          },
          "metadata": {},
          "execution_count": 15
        }
      ]
    },
    {
      "cell_type": "code",
      "metadata": {
        "colab": {
          "base_uri": "https://localhost:8080/"
        },
        "id": "-bJuVJQ7oC_q",
        "outputId": "64877fb3-3983-427a-da9c-8f28edf34bdc"
      },
      "source": [
        "len(j['articles'])"
      ],
      "execution_count": 19,
      "outputs": [
        {
          "output_type": "execute_result",
          "data": {
            "text/plain": [
              "100"
            ]
          },
          "metadata": {},
          "execution_count": 19
        }
      ]
    },
    {
      "cell_type": "code",
      "metadata": {
        "colab": {
          "base_uri": "https://localhost:8080/"
        },
        "id": "nPhoUdCmn7Qs",
        "outputId": "2bad6e4c-2519-4150-892f-54b1683d733f"
      },
      "source": [
        "j.keys()"
      ],
      "execution_count": 17,
      "outputs": [
        {
          "output_type": "execute_result",
          "data": {
            "text/plain": [
              "dict_keys(['status', 'totalResults', 'articles'])"
            ]
          },
          "metadata": {},
          "execution_count": 17
        }
      ]
    },
    {
      "cell_type": "code",
      "metadata": {
        "id": "mFnqvYGHDa8a",
        "colab": {
          "base_uri": "https://localhost:8080/"
        },
        "outputId": "1875f959-77bc-4398-be93-1bf6676bf193"
      },
      "source": [
        "# conct all jsons into df\n",
        "df = pd.DataFrame()\n",
        "for t in os.listdir(data_dir):\n",
        "  with open(data_dir + t, 'r') as archive_file:\n",
        "    arch = json.load(archive_file)\n",
        "    df = df.append(pd.DataFrame(arch['articles']),ignore_index=True)\n",
        "df.shape, df.url.nunique()"
      ],
      "execution_count": 10,
      "outputs": [
        {
          "output_type": "execute_result",
          "data": {
            "text/plain": [
              "((900, 8), 399)"
            ]
          },
          "metadata": {},
          "execution_count": 10
        }
      ]
    },
    {
      "cell_type": "code",
      "metadata": {
        "colab": {
          "base_uri": "https://localhost:8080/"
        },
        "id": "DlhCh0vaYqn6",
        "outputId": "89811354-9f16-477e-f5f7-2617ce9c24df"
      },
      "source": [
        "df.columns"
      ],
      "execution_count": 12,
      "outputs": [
        {
          "output_type": "execute_result",
          "data": {
            "text/plain": [
              "Index(['source', 'author', 'title', 'description', 'url', 'urlToImage',\n",
              "       'publishedAt', 'content'],\n",
              "      dtype='object')"
            ]
          },
          "metadata": {},
          "execution_count": 12
        }
      ]
    },
    {
      "cell_type": "code",
      "metadata": {
        "id": "C2_MWoMCxHDe",
        "colab": {
          "base_uri": "https://localhost:8080/"
        },
        "outputId": "063d709e-908d-4f65-b836-63c6c6d1a7a2"
      },
      "source": [
        "# drop unusable results\n",
        "df = df[df.content.notna()]\n",
        "df.source = df.source.astype(str)\n",
        "df = df[df.content.notna()].drop_duplicates().reset_index(drop=True)\n",
        "df['content'] = df['content'].fillna('no results').map(lambda x: x[:-7])"
      ],
      "execution_count": null,
      "outputs": [
        {
          "output_type": "stream",
          "name": "stderr",
          "text": [
            "/usr/local/lib/python3.7/dist-packages/pandas/core/generic.py:5170: SettingWithCopyWarning: \n",
            "A value is trying to be set on a copy of a slice from a DataFrame.\n",
            "Try using .loc[row_indexer,col_indexer] = value instead\n",
            "\n",
            "See the caveats in the documentation: https://pandas.pydata.org/pandas-docs/stable/user_guide/indexing.html#returning-a-view-versus-a-copy\n",
            "  self[name] = value\n"
          ]
        }
      ]
    },
    {
      "cell_type": "markdown",
      "metadata": {
        "id": "pkV6O2CVPQ0e"
      },
      "source": [
        "## Get news soup"
      ]
    },
    {
      "cell_type": "code",
      "metadata": {
        "id": "zUJYvFRP7Z3z",
        "colab": {
          "base_uri": "https://localhost:8080/"
        },
        "outputId": "d639d530-56fc-42e8-cc98-6b8d74b6612a"
      },
      "source": [
        "for i in tqdm.tqdm(range(df.shape[0])):\n",
        "  # if df.loc[i,'lang']  == 'en':\n",
        "  try:\n",
        "    page = requests.get(df.loc[i].url)\n",
        "    soup = BeautifulSoup(page.content, 'html.parser')\n",
        "    content = ''\n",
        "    for p in range(len(soup.find_all('p'))):\n",
        "      content += soup.find_all('p')[p].get_text()\n",
        "    df.loc[i,'soup'] = content\n",
        "    df.loc[i,'soup_len'] = len(content)\n",
        "  except Exception as inst:\n",
        "    print(type(inst)) \n",
        "    print('error decoding entry ', i, ': ', df.loc[i].title, ' at ', df.loc[i].url)\n",
        "    pass\n",
        "  "
      ],
      "execution_count": null,
      "outputs": [
        {
          "output_type": "stream",
          "name": "stderr",
          "text": [
            " 24%|██▍       | 81/338 [00:55<01:28,  2.90it/s]"
          ]
        },
        {
          "output_type": "stream",
          "name": "stdout",
          "text": [
            "<class 'requests.exceptions.ConnectionError'>\n",
            "error decoding entry  79 :  Spotify is bringing full, live lyrics to music streaming in the US  at  https://www.androidpolice.com/2021/02/09/spotify-is-bringing-full-live-lyrics-to-music-streaming-in-the-us/\n"
          ]
        },
        {
          "output_type": "stream",
          "name": "stderr",
          "text": [
            "100%|██████████| 338/338 [04:26<00:00,  1.27it/s]\n"
          ]
        }
      ]
    },
    {
      "cell_type": "code",
      "metadata": {
        "id": "wGZ5UIBxkFmZ"
      },
      "source": [
        "# drop unusable results\n",
        "df = df[df.soup_len > 0].reset_index(drop=True)"
      ],
      "execution_count": null,
      "outputs": []
    },
    {
      "cell_type": "code",
      "metadata": {
        "id": "KD0zb0ggG8u7"
      },
      "source": [
        "# Extract all persons in text\n",
        "nlp = spacy.load(\"en_core_web_sm\")\n",
        "df['Persons'] = df.soup.apply(lambda x: (list(set([entity.text for entity in nlp(x).ents if entity.label_ == 'PERSON']))))\n",
        "df['Persons_cnt'] = df.Persons.apply(lambda x: len(x))"
      ],
      "execution_count": null,
      "outputs": []
    },
    {
      "cell_type": "code",
      "metadata": {
        "colab": {
          "base_uri": "https://localhost:8080/",
          "height": 111
        },
        "id": "dJZspOSrct4T",
        "outputId": "7ca5a649-501b-4edc-e860-ebe8ad0e06d7"
      },
      "source": [
        "df[['Persons','Persons_cnt']].head(2)"
      ],
      "execution_count": null,
      "outputs": [
        {
          "output_type": "execute_result",
          "data": {
            "text/html": [
              "<div>\n",
              "<style scoped>\n",
              "    .dataframe tbody tr th:only-of-type {\n",
              "        vertical-align: middle;\n",
              "    }\n",
              "\n",
              "    .dataframe tbody tr th {\n",
              "        vertical-align: top;\n",
              "    }\n",
              "\n",
              "    .dataframe thead th {\n",
              "        text-align: right;\n",
              "    }\n",
              "</style>\n",
              "<table border=\"1\" class=\"dataframe\">\n",
              "  <thead>\n",
              "    <tr style=\"text-align: right;\">\n",
              "      <th></th>\n",
              "      <th>Persons</th>\n",
              "      <th>Persons_cnt</th>\n",
              "    </tr>\n",
              "  </thead>\n",
              "  <tbody>\n",
              "    <tr>\n",
              "      <th>0</th>\n",
              "      <td>[Nora Brown, Vox Sambou, Sofia Rei, Holm, Adit...</td>\n",
              "      <td>20</td>\n",
              "    </tr>\n",
              "    <tr>\n",
              "      <th>1</th>\n",
              "      <td>[Musixmatch, Deezer, Genius]</td>\n",
              "      <td>3</td>\n",
              "    </tr>\n",
              "  </tbody>\n",
              "</table>\n",
              "</div>"
            ],
            "text/plain": [
              "                                             Persons  Persons_cnt\n",
              "0  [Nora Brown, Vox Sambou, Sofia Rei, Holm, Adit...           20\n",
              "1                       [Musixmatch, Deezer, Genius]            3"
            ]
          },
          "metadata": {},
          "execution_count": 14
        }
      ]
    },
    {
      "cell_type": "code",
      "metadata": {
        "id": "xLaPkCYY9k9h"
      },
      "source": [
        "def comma_tokenizer(sentence):\n",
        "    return [str.strip(t) for t in sentence[1:-1].split(',')]\n",
        "\n",
        "def plot_persons_count_histogram(all_texts):\n",
        "  vectorizer = CountVectorizer(tokenizer = comma_tokenizer, min_df=2)\n",
        "  data_vectorized = vectorizer.fit_transform(all_texts)\n",
        "  word_count = pd.DataFrame({'word': vectorizer.get_feature_names(), 'count': np.asarray(data_vectorized.sum(axis=0))[0]})\n",
        "  word_count.sort_values('count', ascending=False).set_index('word')[:20].sort_values('count', ascending=True).plot(kind='barh');\n",
        "  return vectorizer, data_vectorized"
      ],
      "execution_count": null,
      "outputs": []
    },
    {
      "cell_type": "code",
      "metadata": {
        "colab": {
          "base_uri": "https://localhost:8080/",
          "height": 265
        },
        "id": "dy6b_WxNHpHq",
        "outputId": "292e0135-f447-4aff-9f91-8d554c461996"
      },
      "source": [
        "# 2021-02-22\n",
        "plot_persons_count_histogram(df.Persons.astype(str));"
      ],
      "execution_count": null,
      "outputs": [
        {
          "output_type": "display_data",
          "data": {
            "image/png": "[encoded data removed]",
            "text/plain": [
              "<Figure size 432x288 with 1 Axes>"
            ]
          },
          "metadata": {
            "needs_background": "light"
          }
        }
      ]
    },
    {
      "cell_type": "code",
      "metadata": {
        "colab": {
          "base_uri": "https://localhost:8080/",
          "height": 265
        },
        "id": "pgH0OiBj9moz",
        "outputId": "57218629-f79d-4b25-a9ba-4207f0fed82c"
      },
      "source": [
        "# 2021-05-23\n",
        "plot_persons_count_histogram(df.Persons.astype(str));"
      ],
      "execution_count": null,
      "outputs": [
        {
          "output_type": "display_data",
          "data": {
            "image/png": "[encoded data removed]",
            "text/plain": [
              "<Figure size 432x288 with 1 Axes>"
            ]
          },
          "metadata": {
            "needs_background": "light"
          }
        }
      ]
    },
    {
      "cell_type": "code",
      "metadata": {
        "id": "uxLlaDnyVB4e"
      },
      "source": [
        "pd.set_option('max_colwidth', 300)"
      ],
      "execution_count": null,
      "outputs": []
    },
    {
      "cell_type": "code",
      "metadata": {
        "id": "OdL-YTg7VFM9",
        "colab": {
          "base_uri": "https://localhost:8080/",
          "height": 708
        },
        "outputId": "159b42ac-7711-4976-ab76-a14f98f625bb"
      },
      "source": [
        "df[['content','soup', 'soup_len']]"
      ],
      "execution_count": null,
      "outputs": [
        {
          "output_type": "execute_result",
          "data": {
            "text/html": [
              "<div>\n",
              "<style scoped>\n",
              "    .dataframe tbody tr th:only-of-type {\n",
              "        vertical-align: middle;\n",
              "    }\n",
              "\n",
              "    .dataframe tbody tr th {\n",
              "        vertical-align: top;\n",
              "    }\n",
              "\n",
              "    .dataframe thead th {\n",
              "        text-align: right;\n",
              "    }\n",
              "</style>\n",
              "<table border=\"1\" class=\"dataframe\">\n",
              "  <thead>\n",
              "    <tr style=\"text-align: right;\">\n",
              "      <th></th>\n",
              "      <th>content</th>\n",
              "      <th>soup</th>\n",
              "      <th>soup_len</th>\n",
              "    </tr>\n",
              "  </thead>\n",
              "  <tbody>\n",
              "    <tr>\n",
              "      <th>0</th>\n",
              "      <td>Minyo Crusaders set an old Japanese song, from a tradition called minyo, to a Nigerian Afrobeat groove. DakhaBrakha, from Ukraine, roved from Eastern European drones and yipping vocals to something l… [+1208</td>\n",
              "      <td>AdvertisementSupported byWith 16 bands over four nights, the festival expanded its reach at a time when live music with audiences is in short supply.Send any friend a storyAs a subscriber, you have 10 gift articles to give each month. Anyone can read what you share.By Jon ParelesMinyo Crusaders ...</td>\n",
              "      <td>5410.0</td>\n",
              "    </tr>\n",
              "    <tr>\n",
              "      <th>1</th>\n",
              "      <td>Do you miss all the time you used to spend crammed in tiny karaoke rooms, belting out showtunes until three in the morning? So do we, but Spotify might have something that will help with your impromp… [+2805</td>\n",
              "      <td>Do you miss all the time you used to spend crammed in tiny karaoke rooms, belting out showtunes until three in the morning? So do we, but Spotify might have something that will help with your impromptu singalongs. As of this morning, the company is now testing a feature that displays lyrics sync...</td>\n",
              "      <td>3043.0</td>\n",
              "    </tr>\n",
              "    <tr>\n",
              "      <th>2</th>\n",
              "      <td>Spotify this morning confirmed it’s testing a new, synced lyrics feature in the U.S. market, following a report from Engadget. Though the streaming music service today offers live lyrics in a number … [+2845</td>\n",
              "      <td>Spotify this morning confirmed it’s testing a new, synced lyrics feature in the U.S. market, following a report from Engadget. Though the streaming music service today offers live lyrics in a number of markets — 27, in fact, including its recent launch in South Korea — it has not offered lyrics ...</td>\n",
              "      <td>3098.0</td>\n",
              "    </tr>\n",
              "    <tr>\n",
              "      <th>3</th>\n",
              "      <td>About a thousand people over the age of 80 have been vaccinated at Salisbury Cathedral \\r\\non its first day of opening as a vaccination centre.The 800-year-old cathedral in south-west England has been … [+210</td>\n",
              "      <td>This video can not be playedAbout a thousand people over the age of 80 have been vaccinated at Salisbury Cathedral on its first day of opening as a vaccination centre.The 800-year-old cathedral in south-west England has been closed during lockdown, with services taking place online.Its music dir...</td>\n",
              "      <td>2134.0</td>\n",
              "    </tr>\n",
              "    <tr>\n",
              "      <th>4</th>\n",
              "      <td>TL;DR: A lifetime subscription to the Ableton Music Production Mastery Bundle is on sale for £21.32 as of Jan. 21, saving you 97% on list price.\\r\\nClaire Boucher (Grimes), the 30-year-old pop-electron… [+1884</td>\n",
              "      <td>TL;DR: A lifetime subscription to the Ableton Music Production Mastery Bundle is on sale for £21.32 as of Jan. 21, saving you 97% on list price.Claire Boucher (Grimes), the 30-year-old pop-electronic musician from Vancouver has made a name for herself as a fiercely independent artist. She record...</td>\n",
              "      <td>2014.0</td>\n",
              "    </tr>\n",
              "    <tr>\n",
              "      <th>...</th>\n",
              "      <td>...</td>\n",
              "      <td>...</td>\n",
              "      <td>...</td>\n",
              "    </tr>\n",
              "    <tr>\n",
              "      <th>326</th>\n",
              "      <td>Halloween 2021 is shaping up to be a big one as revelers seek to make up for the mid-pandemic bummer of last fall. People are vaxxed, masked, and ready to embrace jump scares instead of the very real… [+5819</td>\n",
              "      <td>Halloween 2021 is shaping up to be a big one as revelers seek to make up for the mid-pandemic bummer of last fall. People are vaxxed, masked, and ready to embrace jump scares instead of the very real terror of the past year and a half. It’s all the more reason you should create a haunted house i...</td>\n",
              "      <td>6737.0</td>\n",
              "    </tr>\n",
              "    <tr>\n",
              "      <th>327</th>\n",
              "      <td>Evolving the future of the piano industry, the historic brand unveils technology that allows a piano to play itself in time with live performances from renowned pianists\\nWhen Steinway &amp; Sons launched… [+4000</td>\n",
              "      <td>COOL HUNTING®Informing the future since 2003 \\n        window.dataLayer = window.dataLayer || [];\\n        window.dataLayer.push({\\n          'event': 'ContentDisplayed',\\n          'contentDisplayedId': '272356',\\n          'contentDisplayedPermalink': 'https://coolhunting.com/design/steinway-s...</td>\n",
              "      <td>5377.0</td>\n",
              "    </tr>\n",
              "    <tr>\n",
              "      <th>328</th>\n",
              "      <td>Swedish climate activist Greta Thunberg danced and sang in front of an audience to the 1980s song \"Never Gonna Give You Up,\" which in recent years is best known for \"Rickrolls,\" during a climate conc… [+1788</td>\n",
              "      <td>Swedish climate activist Greta Thunberg danced and sang in front of an audience to the 1980s song \"Never Gonna Give You Up,\" which in recent years is best known for \"Rickrolls,\" during a climate concert.The 18-year-old performed with other activists onstage in Stockholm during Climate Live, a yo...</td>\n",
              "      <td>5177.0</td>\n",
              "    </tr>\n",
              "    <tr>\n",
              "      <th>329</th>\n",
              "      <td>Singer Joan Jett performs with the remaining members of the band Nirvana after it was inducted during the 29th annual Rock and Roll Hall of Fame Induction Ceremony at the Barclays Center in Brooklyn,… [+2788</td>\n",
              "      <td>Singer Joan Jett performs with the remaining members of the band Nirvana after it was inducted during the 29th annual Rock and Roll Hall of Fame Induction Ceremony at the Barclays Center in Brooklyn, New York April 11, 2014.  REUTERS/Lucas Jackson The company and law firm names shown above are g...</td>\n",
              "      <td>4290.0</td>\n",
              "    </tr>\n",
              "    <tr>\n",
              "      <th>330</th>\n",
              "      <td>CNET\\r\\nMacs are about to get an upgrade. Apple is expected to announce its next generation of computers today, powered by its new M1 Pro chips. The new devices follow last year's M1-powered Macs, whic… [+6798</td>\n",
              "      <td>Apple introduced a new version of its wireless earbuds with \"spatial audio,\" a redesigned MacBook Pro and more on Monday. Here's what you missed.Apple redesigned its entry-level AirPods.Apple wants to turn it up to 11 for its AirPods and MacBook Pro laptops. During its October product event Mond...</td>\n",
              "      <td>12651.0</td>\n",
              "    </tr>\n",
              "  </tbody>\n",
              "</table>\n",
              "<p>331 rows × 3 columns</p>\n",
              "</div>"
            ],
            "text/plain": [
              "                                                                                                                                                                                                               content  ... soup_len\n",
              "0      Minyo Crusaders set an old Japanese song, from a tradition called minyo, to a Nigerian Afrobeat groove. DakhaBrakha, from Ukraine, roved from Eastern European drones and yipping vocals to something l… [+1208  ...   5410.0\n",
              "1      Do you miss all the time you used to spend crammed in tiny karaoke rooms, belting out showtunes until three in the morning? So do we, but Spotify might have something that will help with your impromp… [+2805  ...   3043.0\n",
              "2      Spotify this morning confirmed it’s testing a new, synced lyrics feature in the U.S. market, following a report from Engadget. Though the streaming music service today offers live lyrics in a number … [+2845  ...   3098.0\n",
              "3     About a thousand people over the age of 80 have been vaccinated at Salisbury Cathedral \\r\\non its first day of opening as a vaccination centre.The 800-year-old cathedral in south-west England has been … [+210  ...   2134.0\n",
              "4    TL;DR: A lifetime subscription to the Ableton Music Production Mastery Bundle is on sale for £21.32 as of Jan. 21, saving you 97% on list price.\\r\\nClaire Boucher (Grimes), the 30-year-old pop-electron… [+1884  ...   2014.0\n",
              "..                                                                                                                                                                                                                 ...  ...      ...\n",
              "326    Halloween 2021 is shaping up to be a big one as revelers seek to make up for the mid-pandemic bummer of last fall. People are vaxxed, masked, and ready to embrace jump scares instead of the very real… [+5819  ...   6737.0\n",
              "327   Evolving the future of the piano industry, the historic brand unveils technology that allows a piano to play itself in time with live performances from renowned pianists\\nWhen Steinway & Sons launched… [+4000  ...   5377.0\n",
              "328    Swedish climate activist Greta Thunberg danced and sang in front of an audience to the 1980s song \"Never Gonna Give You Up,\" which in recent years is best known for \"Rickrolls,\" during a climate conc… [+1788  ...   5177.0\n",
              "329    Singer Joan Jett performs with the remaining members of the band Nirvana after it was inducted during the 29th annual Rock and Roll Hall of Fame Induction Ceremony at the Barclays Center in Brooklyn,… [+2788  ...   4290.0\n",
              "330  CNET\\r\\nMacs are about to get an upgrade. Apple is expected to announce its next generation of computers today, powered by its new M1 Pro chips. The new devices follow last year's M1-powered Macs, whic… [+6798  ...  12651.0\n",
              "\n",
              "[331 rows x 3 columns]"
            ]
          },
          "metadata": {},
          "execution_count": 20
        }
      ]
    },
    {
      "cell_type": "markdown",
      "metadata": {
        "id": "u161sehDaiwQ"
      },
      "source": [
        "## tokenizers"
      ]
    },
    {
      "cell_type": "code",
      "metadata": {
        "id": "fobWRWBgysFT",
        "colab": {
          "base_uri": "https://localhost:8080/",
          "height": 35
        },
        "outputId": "06b5a79c-98ec-4d26-80bb-4fe7be17d4f7"
      },
      "source": [
        "nlp = spacy.load(\"en_core_web_sm\", disable=[ \"ner\"])\n",
        "\n",
        "def spellcheck_tokenizer(sentence):\n",
        "    return ' '.join([word.text \n",
        "                    for word in nlp(sentence)])\n",
        "spellcheck_tokenizer(\"Hi, what's this blurb asdfsadf?\")\n"
      ],
      "execution_count": null,
      "outputs": [
        {
          "output_type": "execute_result",
          "data": {
            "application/vnd.google.colaboratory.intrinsic+json": {
              "type": "string"
            },
            "text/plain": [
              "\"Hi , what 's this blurb asdfsadf ?\""
            ]
          },
          "metadata": {},
          "execution_count": 21
        }
      ]
    },
    {
      "cell_type": "code",
      "metadata": {
        "id": "J-ck3JtfR1iC"
      },
      "source": [
        "nlp = spacy.load(\"en_core_web_sm\", disable=[\"tagger\", \"parser\", \"ner\"])\n",
        "nlp.max_length = 2000000\n",
        "\n",
        "def spacy_tokenizer(sentence):\n",
        "    return [word.lemma_ for word in nlp(sentence) if not (word.like_num or word.is_stop or word.is_punct or word.is_space or len(word)==1)]\n"
      ],
      "execution_count": null,
      "outputs": []
    },
    {
      "cell_type": "code",
      "metadata": {
        "id": "A9FsQhpSM1Bd"
      },
      "source": [
        "ner = spacy.load(\"en_core_web_sm\", disable=[\"tagger\", \"parser\"])\n",
        "\n",
        "def ner_tokenizer(sentence):\n",
        "    return [ent.text for ent in ner(sentence).ents ]\n"
      ],
      "execution_count": null,
      "outputs": []
    },
    {
      "cell_type": "code",
      "metadata": {
        "id": "B1gRr9Ft-2dv"
      },
      "source": [
        "def plot_word_count_histogram(pd_series):\n",
        "  vectorizer = CountVectorizer(tokenizer = spacy_tokenizer, min_df=2)\n",
        "  data_vectorized = vectorizer.fit_transform(all_texts)\n",
        "  word_count = pd.DataFrame({'word': vectorizer.get_feature_names(), 'count': np.asarray(data_vectorized.sum(axis=0))[0]})\n",
        "  word_count.sort_values('count', ascending=False).set_index('word')[:20].sort_values('count', ascending=True).plot(kind='barh');\n",
        "  return vectorizer, data_vectorized"
      ],
      "execution_count": null,
      "outputs": []
    },
    {
      "cell_type": "markdown",
      "metadata": {
        "id": "C3AYhKT2qvee"
      },
      "source": [
        "## Work on headlines"
      ]
    },
    {
      "cell_type": "code",
      "metadata": {
        "colab": {
          "base_uri": "https://localhost:8080/",
          "height": 265
        },
        "id": "AUwkAYuVAGgb",
        "outputId": "4febf7d6-bece-485b-e374-d754da1cba1c"
      },
      "source": [
        "all_texts = df['content']\n",
        "plot_word_count_histogram(all_texts);"
      ],
      "execution_count": null,
      "outputs": [
        {
          "output_type": "display_data",
          "data": {
            "image/png": "[encoded data removed]",
            "text/plain": [
              "<Figure size 432x288 with 1 Axes>"
            ]
          },
          "metadata": {
            "needs_background": "light"
          }
        }
      ]
    },
    {
      "cell_type": "markdown",
      "metadata": {
        "id": "wBz-p1zAq37T"
      },
      "source": [
        "## Work on soup"
      ]
    },
    {
      "cell_type": "code",
      "metadata": {
        "id": "2_0R0RxJq27_",
        "colab": {
          "base_uri": "https://localhost:8080/",
          "height": 265
        },
        "outputId": "fd410569-fffe-4ad6-edc6-e92929ecc6f0"
      },
      "source": [
        "all_texts = df[df.soup_len > 0].soup\n",
        "vectorizer, data_vectorized = plot_word_count_histogram(all_texts)"
      ],
      "execution_count": null,
      "outputs": [
        {
          "output_type": "display_data",
          "data": {
            "image/png": "[encoded data removed]",
            "text/plain": [
              "<Figure size 432x288 with 1 Axes>"
            ]
          },
          "metadata": {
            "needs_background": "light"
          }
        }
      ]
    },
    {
      "cell_type": "markdown",
      "metadata": {
        "id": "LOLbrzPI95j3"
      },
      "source": [
        "## Run KMeans on TfIdf"
      ]
    },
    {
      "cell_type": "code",
      "metadata": {
        "id": "sOhR2uHMzU8R"
      },
      "source": [
        "from sklearn.feature_extraction.text import TfidfVectorizer\n",
        "from sklearn.decomposition import PCA\n",
        "from sklearn.cluster import KMeans\n",
        "from sklearn import metrics\n",
        "from scipy.spatial.distance import cdist\n",
        "import matplotlib.pyplot as plt\n",
        "\n",
        "def vectorize(text, maxx_features):   \n",
        "    vectorizer = TfidfVectorizer(max_features=maxx_features)\n",
        "    X = vectorizer.fit_transform(text)\n",
        "    return X, vectorizer"
      ],
      "execution_count": null,
      "outputs": []
    },
    {
      "cell_type": "code",
      "metadata": {
        "id": "Nm3wHXVP0ccU",
        "colab": {
          "base_uri": "https://localhost:8080/"
        },
        "outputId": "e099d742-4438-44d8-c336-11182c2669bc"
      },
      "source": [
        "os.listdir(data_dir)text = all_texts.values\n",
        "X, vectorizer = vectorize(text, 2 ** 12)\n",
        "X.shape"
      ],
      "execution_count": null,
      "outputs": [
        {
          "output_type": "execute_result",
          "data": {
            "text/plain": [
              "(331, 4096)"
            ]
          },
          "metadata": {},
          "execution_count": 28
        }
      ]
    },
    {
      "cell_type": "code",
      "metadata": {
        "id": "FsRxsykg04lA",
        "colab": {
          "base_uri": "https://localhost:8080/"
        },
        "outputId": "afbef2d4-3618-4ef8-df05-a4d700619019"
      },
      "source": [
        "pca = PCA(n_components=0.95, random_state=42)\n",
        "X_reduced= pca.fit_transform(X.toarray())\n",
        "X_reduced.shape"
      ],
      "execution_count": null,
      "outputs": [
        {
          "output_type": "execute_result",
          "data": {
            "text/plain": [
              "(331, 257)"
            ]
          },
          "metadata": {},
          "execution_count": 29
        }
      ]
    },
    {
      "cell_type": "code",
      "metadata": {
        "id": "9BJ7ClEo1Ni6"
      },
      "source": [
        "# run kmeans with many different k\n",
        "distortions = []\n",
        "K = range(2, 10)\n",
        "for k in K:\n",
        "    k_means = KMeans(n_clusters=k, random_state=42).fit(X_reduced)\n",
        "    k_means.fit(X_reduced)\n",
        "    distortions.append(sum(np.min(cdist(X_reduced, k_means.cluster_centers_, 'euclidean'), axis=1)) / X.shape[0])\n",
        "    #print('Found distortion for {} clusters'.format(k))"
      ],
      "execution_count": null,
      "outputs": []
    },
    {
      "cell_type": "code",
      "metadata": {
        "id": "Ite2Bh7w1qxi",
        "colab": {
          "base_uri": "https://localhost:8080/",
          "height": 295
        },
        "outputId": "c9ddc8c6-b439-4760-f3ca-88337235a524"
      },
      "source": [
        "X_line = [K[0], K[-1]]\n",
        "Y_line = [distortions[0], distortions[-1]]\n",
        "\n",
        "# Plot the elbow\n",
        "plt.plot(K, distortions, 'b-')\n",
        "plt.plot(X_line, Y_line, 'r')\n",
        "plt.xlabel('k')\n",
        "plt.ylabel('Distortion')\n",
        "plt.title('The Elbow Method showing the optimal k')\n",
        "plt.show()"
      ],
      "execution_count": null,
      "outputs": [
        {
          "output_type": "display_data",
          "data": {
            "image/png": "[encoded data removed]",
            "text/plain": [
              "<Figure size 432x288 with 1 Axes>"
            ]
          },
          "metadata": {
            "needs_background": "light"
          }
        }
      ]
    },
    {
      "cell_type": "code",
      "metadata": {
        "id": "WiaOQJzq2fs4"
      },
      "source": [
        "k_means = KMeans(n_clusters=5, random_state=42).fit(X_reduced)"
      ],
      "execution_count": null,
      "outputs": []
    },
    {
      "cell_type": "code",
      "metadata": {
        "id": "VmMvaymn2jqm"
      },
      "source": [
        "df.loc[df.soup_len > 0, 'cluster'] = k_means.labels_"
      ],
      "execution_count": null,
      "outputs": []
    },
    {
      "cell_type": "code",
      "metadata": {
        "id": "pjzygjVg2jaR",
        "colab": {
          "base_uri": "https://localhost:8080/",
          "height": 1000
        },
        "outputId": "de293e70-dc95-480d-833b-b6721a75cb66"
      },
      "source": [
        "for c in range(5):\n",
        "  all_texts = df[df.cluster==c].soup\n",
        "  vectorizer, data_vectorized = plot_word_count_histogram(all_texts);"
      ],
      "execution_count": null,
      "outputs": [
        {
          "output_type": "display_data",
          "data": {
            "image/png": "[encoded data removed]",
            "text/plain": [
              "<Figure size 432x288 with 1 Axes>"
            ]
          },
          "metadata": {
            "tags": [],
            "needs_background": "light"
          }
        },
        {
          "output_type": "display_data",
          "data": {
            "image/png": "[encoded data removed]",
            "text/plain": [
              "<Figure size 432x288 with 1 Axes>"
            ]
          },
          "metadata": {
            "tags": [],
            "needs_background": "light"
          }
        },
        {
          "output_type": "display_data",
          "data": {
            "image/png": "[encoded data removed]",
            "text/plain": [
              "<Figure size 432x288 with 1 Axes>"
            ]
          },
          "metadata": {
            "tags": [],
            "needs_background": "light"
          }
        },
        {
          "output_type": "display_data",
          "data": {
            "image/png": "[encoded data removed]",
            "text/plain": [
              "<Figure size 432x288 with 1 Axes>"
            ]
          },
          "metadata": {
            "tags": [],
            "needs_background": "light"
          }
        },
        {
          "output_type": "display_data",
          "data": {
            "image/png": "[encoded data removed]",
            "text/plain": [
              "<Figure size 432x288 with 1 Axes>"
            ]
          },
          "metadata": {
            "tags": [],
            "needs_background": "light"
          }
        }
      ]
    },
    {
      "cell_type": "code",
      "metadata": {
        "colab": {
          "base_uri": "https://localhost:8080/"
        },
        "id": "8d8Tnj1RmgUP",
        "outputId": "318a04be-fc58-4d2f-f01f-fde4349ca0fb"
      },
      "source": [
        "df.cluster.value_counts()"
      ],
      "execution_count": null,
      "outputs": [
        {
          "output_type": "execute_result",
          "data": {
            "text/plain": [
              "2    78\n",
              "3    25\n",
              "4     9\n",
              "0     9\n",
              "1     3\n",
              "Name: cluster, dtype: int64"
            ]
          },
          "metadata": {
            "tags": []
          },
          "execution_count": 95
        }
      ]
    },
    {
      "cell_type": "code",
      "metadata": {
        "colab": {
          "base_uri": "https://localhost:8080/",
          "height": 265
        },
        "id": "RdIHPvkirZx4",
        "outputId": "6e80dab9-a223-4a78-b138-55dd0f526f9f"
      },
      "source": [
        "# get rid of unusable text\n",
        "df = df[df.cluster > 1].reset_index(drop=True)\n",
        "all_texts = df.soup\n",
        "vectorizer, data_vectorized = plot_word_count_histogram(all_texts);"
      ],
      "execution_count": null,
      "outputs": [
        {
          "output_type": "display_data",
          "data": {
            "image/png": "[encoded data removed]",
            "text/plain": [
              "<Figure size 432x288 with 1 Axes>"
            ]
          },
          "metadata": {
            "tags": [],
            "needs_background": "light"
          }
        }
      ]
    },
    {
      "cell_type": "markdown",
      "metadata": {
        "id": "XnQwgFNl-KZ0"
      },
      "source": [
        "## Find topics with LDA"
      ]
    },
    {
      "cell_type": "code",
      "metadata": {
        "id": "-uNH81tf936m",
        "colab": {
          "base_uri": "https://localhost:8080/"
        },
        "outputId": "1d112ead-87af-4fd4-c86b-18f68c190840"
      },
      "source": [
        "lda = LatentDirichletAllocation(n_components=5, random_state=0)\n",
        "lda.fit(data_vectorized)"
      ],
      "execution_count": null,
      "outputs": [
        {
          "output_type": "execute_result",
          "data": {
            "text/plain": [
              "LatentDirichletAllocation(batch_size=128, doc_topic_prior=None,\n",
              "                          evaluate_every=-1, learning_decay=0.7,\n",
              "                          learning_method='batch', learning_offset=10.0,\n",
              "                          max_doc_update_iter=100, max_iter=10,\n",
              "                          mean_change_tol=0.001, n_components=5, n_jobs=None,\n",
              "                          perp_tol=0.1, random_state=0, topic_word_prior=None,\n",
              "                          total_samples=1000000.0, verbose=0)"
            ]
          },
          "metadata": {},
          "execution_count": 34
        }
      ]
    },
    {
      "cell_type": "code",
      "metadata": {
        "id": "rW8m9f8n_ulV"
      },
      "source": [
        "def print_top_words(model, vectorizer, n_top_words):\n",
        "    feature_names = vectorizer.get_feature_names()\n",
        "    for topic_idx, topic in enumerate(model.components_):\n",
        "        message = \"\\nTopic #%d: \" % topic_idx\n",
        "        message += \" \".join([feature_names[i]\n",
        "                             for i in topic.argsort()[:-n_top_words - 1:-1]])\n",
        "        print(message)\n",
        "    print()"
      ],
      "execution_count": null,
      "outputs": []
    },
    {
      "cell_type": "code",
      "metadata": {
        "id": "7OoMi4vZ_zE_",
        "colab": {
          "base_uri": "https://localhost:8080/",
          "height": 306
        },
        "outputId": "efe8aac8-42f6-4b4d-c036-fd56665b608a"
      },
      "source": [
        "print_top_words(lda, vectorizer, n_top_words=20)"
      ],
      "execution_count": null,
      "outputs": [
        {
          "output_type": "error",
          "ename": "IndexError",
          "evalue": "ignored",
          "traceback": [
            "\u001b[0;31m---------------------------------------------------------------------------\u001b[0m",
            "\u001b[0;31mIndexError\u001b[0m                                Traceback (most recent call last)",
            "\u001b[0;32m<ipython-input-36-91a59fa9712a>\u001b[0m in \u001b[0;36m<module>\u001b[0;34m()\u001b[0m\n\u001b[0;32m----> 1\u001b[0;31m \u001b[0mprint_top_words\u001b[0m\u001b[0;34m(\u001b[0m\u001b[0mlda\u001b[0m\u001b[0;34m,\u001b[0m \u001b[0mvectorizer\u001b[0m\u001b[0;34m,\u001b[0m \u001b[0mn_top_words\u001b[0m\u001b[0;34m=\u001b[0m\u001b[0;36m20\u001b[0m\u001b[0;34m)\u001b[0m\u001b[0;34m\u001b[0m\u001b[0;34m\u001b[0m\u001b[0m\n\u001b[0m",
            "\u001b[0;32m<ipython-input-35-2d14f10fe095>\u001b[0m in \u001b[0;36mprint_top_words\u001b[0;34m(model, vectorizer, n_top_words)\u001b[0m\n\u001b[1;32m      4\u001b[0m         \u001b[0mmessage\u001b[0m \u001b[0;34m=\u001b[0m \u001b[0;34m\"\\nTopic #%d: \"\u001b[0m \u001b[0;34m%\u001b[0m \u001b[0mtopic_idx\u001b[0m\u001b[0;34m\u001b[0m\u001b[0;34m\u001b[0m\u001b[0m\n\u001b[1;32m      5\u001b[0m         message += \" \".join([feature_names[i]\n\u001b[0;32m----> 6\u001b[0;31m                              for i in topic.argsort()[:-n_top_words - 1:-1]])\n\u001b[0m\u001b[1;32m      7\u001b[0m         \u001b[0mprint\u001b[0m\u001b[0;34m(\u001b[0m\u001b[0mmessage\u001b[0m\u001b[0;34m)\u001b[0m\u001b[0;34m\u001b[0m\u001b[0;34m\u001b[0m\u001b[0m\n\u001b[1;32m      8\u001b[0m     \u001b[0mprint\u001b[0m\u001b[0;34m(\u001b[0m\u001b[0;34m)\u001b[0m\u001b[0;34m\u001b[0m\u001b[0;34m\u001b[0m\u001b[0m\n",
            "\u001b[0;32m<ipython-input-35-2d14f10fe095>\u001b[0m in \u001b[0;36m<listcomp>\u001b[0;34m(.0)\u001b[0m\n\u001b[1;32m      4\u001b[0m         \u001b[0mmessage\u001b[0m \u001b[0;34m=\u001b[0m \u001b[0;34m\"\\nTopic #%d: \"\u001b[0m \u001b[0;34m%\u001b[0m \u001b[0mtopic_idx\u001b[0m\u001b[0;34m\u001b[0m\u001b[0;34m\u001b[0m\u001b[0m\n\u001b[1;32m      5\u001b[0m         message += \" \".join([feature_names[i]\n\u001b[0;32m----> 6\u001b[0;31m                              for i in topic.argsort()[:-n_top_words - 1:-1]])\n\u001b[0m\u001b[1;32m      7\u001b[0m         \u001b[0mprint\u001b[0m\u001b[0;34m(\u001b[0m\u001b[0mmessage\u001b[0m\u001b[0;34m)\u001b[0m\u001b[0;34m\u001b[0m\u001b[0;34m\u001b[0m\u001b[0m\n\u001b[1;32m      8\u001b[0m     \u001b[0mprint\u001b[0m\u001b[0;34m(\u001b[0m\u001b[0;34m)\u001b[0m\u001b[0;34m\u001b[0m\u001b[0;34m\u001b[0m\u001b[0m\n",
            "\u001b[0;31mIndexError\u001b[0m: list index out of range"
          ]
        }
      ]
    },
    {
      "cell_type": "markdown",
      "metadata": {
        "id": "wIDggewi_E_z"
      },
      "source": [
        "\n",
        "## Semantic text similarity\n",
        "\n",
        "Using WordNet\n",
        "**Path similarity**: sim(a,b) = 1/len(path(a,b)\n",
        "\n",
        "Use **LCS** (lowest common subsumer), e.g. LCS(dachshound,greyhound)=dog\n",
        "\n",
        "lin_sim(a,b)=2*log(P(LCS(u,v))/(log(P(u))+log(P(v)))\n"
      ]
    },
    {
      "cell_type": "code",
      "metadata": {
        "colab": {
          "base_uri": "https://localhost:8080/"
        },
        "id": "pw-HGG78_Ehj",
        "outputId": "bfd73a79-ea69-421a-cdbe-cbaf59952ca1"
      },
      "source": [
        "import nltk\n",
        "nltk.download('wordnet')\n",
        "from nltk.corpus import wordnet as wn\n",
        "wn.path_similarity(wn.synset('dog.n.01'), wn.synset('cat.n.01'))"
      ],
      "execution_count": null,
      "outputs": [
        {
          "output_type": "stream",
          "text": [
            "[nltk_data] Downloading package wordnet to /root/nltk_data...\n",
            "[nltk_data]   Package wordnet is already up-to-date!\n",
            "[nltk_data] Downloading package genesis to /root/nltk_data...\n",
            "[nltk_data]   Unzipping corpora/genesis.zip.\n"
          ],
          "name": "stdout"
        }
      ]
    },
    {
      "cell_type": "markdown",
      "metadata": {
        "id": "NL29hAayDKij"
      },
      "source": [
        "colocation and distributional similarity:\n",
        "\n",
        "Pointwise mutual information: PMI(w,c)=log(P(w,c)/P(w)P(c))"
      ]
    },
    {
      "cell_type": "code",
      "metadata": {
        "colab": {
          "base_uri": "https://localhost:8080/"
        },
        "id": "OdaFu_guDKS9",
        "outputId": "eb1e4ee6-82ba-488d-d214-973e747d9e96"
      },
      "source": [
        "from nltk.collocations import *\n",
        "nltk.download('genesis')\n",
        "bigram_measures = nltk.collocations.BigramAssocMeasures()\n",
        "finder = BigramCollocationFinder.from_words(nltk.corpus.genesis.words('english-web.txt'))\n",
        "finder.nbest(bigram_measures.pmi, 10)\n"
      ],
      "execution_count": null,
      "outputs": [
        {
          "output_type": "execute_result",
          "data": {
            "text/plain": [
              "[('Allon', 'Bacuth'),\n",
              " ('Ashteroth', 'Karnaim'),\n",
              " ('Ben', 'Ammi'),\n",
              " ('En', 'Mishpat'),\n",
              " ('Jegar', 'Sahadutha'),\n",
              " ('Salt', 'Sea'),\n",
              " ('Whoever', 'sheds'),\n",
              " ('appoint', 'overseers'),\n",
              " ('aromatic', 'resin'),\n",
              " ('cutting', 'instrument')]"
            ]
          },
          "metadata": {
            "tags": []
          },
          "execution_count": 119
        }
      ]
    },
    {
      "cell_type": "markdown",
      "metadata": {
        "id": "Afmh51tkJ4Pb"
      },
      "source": [
        "# Topic modeling\n",
        "\n",
        "Coarse level analysis of what's in a text collection\n",
        "\n",
        "topics are represented as word distributions: \n",
        "- sports will have high proba of ball, player, etc.\n",
        "- player can appear in economy, but less likely\n",
        "\n",
        "take a corpus, a number of topics\n",
        "find actual topics, topic distribution for each doc\n",
        "simultaneous text and words clustering\n",
        "\n",
        "LDA: generative model for a doc d:\n",
        "- choose length of d\n",
        "- choose mixture of topics\n",
        "- use topic distrib to generate d\n",
        "\n",
        "topics are word distributions.\n",
        "preprocess text and then convert docs to doc-term matrix\n",
        "\n",
        "\n",
        "\n"
      ]
    },
    {
      "cell_type": "markdown",
      "metadata": {
        "id": "Zf4Rgm3yZWxN"
      },
      "source": [
        "### Analyse Topic 0"
      ]
    },
    {
      "cell_type": "code",
      "metadata": {
        "id": "dQD57Hl9EIiv",
        "colab": {
          "base_uri": "https://localhost:8080/",
          "height": 235
        },
        "outputId": "f2e12901-2e39-4f21-9b8b-ed70f0d6d7ec"
      },
      "source": [
        "topic_spread = pd.DataFrame(lda.transform(data_vectorized))\n",
        "#pd.Series(spacy_tokenizer(df.loc[177,'soup'])))\n",
        "topic_spread[0]"
      ],
      "execution_count": null,
      "outputs": [
        {
          "output_type": "execute_result",
          "data": {
            "text/plain": [
              "0      0.001807\n",
              "1      0.001343\n",
              "2      0.001229\n",
              "3      0.001305\n",
              "4      0.000207\n",
              "         ...   \n",
              "450    0.001088\n",
              "451    0.037937\n",
              "452    0.000911\n",
              "453    0.239826\n",
              "454    0.000562\n",
              "Name: 0, Length: 455, dtype: float64"
            ]
          },
          "metadata": {
            "tags": []
          },
          "execution_count": 97
        }
      ]
    },
    {
      "cell_type": "code",
      "metadata": {
        "id": "HOMtI8oJYeR8",
        "colab": {
          "base_uri": "https://localhost:8080/",
          "height": 235
        },
        "outputId": "346b1233-e34c-4998-813d-9b27362320d2"
      },
      "source": [
        "topic_spread[0].sort_values()"
      ],
      "execution_count": null,
      "outputs": [
        {
          "output_type": "execute_result",
          "data": {
            "text/plain": [
              "238    0.000039\n",
              "147    0.000078\n",
              "78     0.000119\n",
              "447    0.000136\n",
              "105    0.000144\n",
              "         ...   \n",
              "177    0.999091\n",
              "329    0.999103\n",
              "364    0.999108\n",
              "135    0.999201\n",
              "167    0.999223\n",
              "Name: 0, Length: 455, dtype: float64"
            ]
          },
          "metadata": {
            "tags": []
          },
          "execution_count": 113
        }
      ]
    },
    {
      "cell_type": "code",
      "metadata": {
        "id": "L4p8WbgcLU9C",
        "colab": {
          "base_uri": "https://localhost:8080/",
          "height": 35
        },
        "outputId": "11266fc1-fbd5-4b83-d76c-494f43e44627"
      },
      "source": [
        "df_soup = df.loc[df.soup_len > 0].reset_index(drop=True)\n",
        "x = ' '.join(spacy_tokenizer(df_soup.loc[167,'soup']))\n",
        "np.sum([1 if w in ['var','read','function','time','new','action','rest','event','day','view','form','advertise'] else 0 for w in x.split()])"
      ],
      "execution_count": null,
      "outputs": [
        {
          "output_type": "execute_result",
          "data": {
            "text/plain": [
              "90"
            ]
          },
          "metadata": {
            "tags": []
          },
          "execution_count": 102
        }
      ]
    },
    {
      "cell_type": "code",
      "metadata": {
        "id": "vcGCpPBYCOcg"
      },
      "source": [
        "df_soup['topic0'] = topic_spread[0]"
      ],
      "execution_count": null,
      "outputs": []
    },
    {
      "cell_type": "code",
      "metadata": {
        "id": "rr-SJD51Fptn"
      },
      "source": [
        "df_soup['word0'] = all_texts.map(lambda x : np.sum([1 if w in ['var','read','function','time','new','action','rest','event','day','view','form','advertise'] else 0 for w in x.split()]))"
      ],
      "execution_count": null,
      "outputs": []
    },
    {
      "cell_type": "code",
      "metadata": {
        "id": "9pJmeXk8Nsob",
        "colab": {
          "base_uri": "https://localhost:8080/",
          "height": 201
        },
        "outputId": "165189fe-5903-4bc7-c743-b0c0ba509097"
      },
      "source": [
        "df_soup[df_soup.topic0 > .95].soup"
      ],
      "execution_count": null,
      "outputs": [
        {
          "output_type": "execute_result",
          "data": {
            "text/plain": [
              "64     \\r\\nRight after astronauts Apollo 11 astronauts Neil A. Armstrong, Edwin E. “Buzz” Aldrin, and Michael Collins splashed down in the Pacific Ocean on July 24, 1969, they were brought aboard the USS Hornet (CVS-12) and immediately entered a Mobile Quarantine Facility (MQF) along with a NASA flight...\n",
              "135    While all the downsides of stay-at-home orders and social distancing are evident, there are at least a few small silver linings to come out of all this. For many, this time spent indoors has meant a happy reintroduction to your very own kitchen.You know your kitchen. It’s usually the place that ...\n",
              "136    Do you have more leftovers that usual? We sure do. We were running out of food storage containers so I bought a 9-pack of these 16-0unce twist-lock containers. The fact that they have leak-proof lids that won't come off when you drop them is key. They're also dishwasher safe.  The problem with u...\n",
              "167    For those who have spent years lamenting the fact that they never seem to have any time for simple pleasures like putting together a home-cooked meal...we introduce you to home quarantine.Granted, this probably isn’t the way you wanted to find your way back to the kitchen, but while you’ve got t...\n",
              "177    Wow. Breakfast burritos are WAY better when working and cooking from home.Now I am hungry.So THIS is how you make a perfect breakfast burrito. The technique is not something that ever would have occurred to me, but now it seems so obvious. This looks so much more delicious than anything I've eve...\n",
              "178    I really enjoyed this episode of Coffee or Suicide with my friend Maureen Herman. She was the bassist for Babes in Toyland, and is a writer and a frequent contributor to Boing Boing. In this episode, she \"talks about the need for access to mental health care services, her experiences with addict...\n",
              "329    Until N95's are available for everyone who needs them, you gotta do what you gotta do. @tifffanycuh has collected some the of the best (note: \"best\" as it's used here is not a safety classification!) improvised covid-19 face masks.     3.8m workers signed on for the first time last week, bringin...\n",
              "364    Florida is reopening its beaches, having gotten bored of coronavirus lockdown. To make a show of caring about the Covid-19 pandemic, Governor Ron DeSantis donned a protective mask. He put it on wrong, leaving it half-dangling off his face and completely useless.And here’s Florida Governor Ron De...\n",
              "Name: soup, dtype: object"
            ]
          },
          "metadata": {
            "tags": []
          },
          "execution_count": 119
        }
      ]
    },
    {
      "cell_type": "code",
      "metadata": {
        "id": "EDMTVKUDP7Zr",
        "colab": {
          "base_uri": "https://localhost:8080/",
          "height": 145
        },
        "outputId": "53986608-2b8f-4321-930a-d72064b8391c"
      },
      "source": [
        "df['covid'] = all_texts.str.lower().str.contains('coronavirus') | all_texts.str.lower().str.contains('covid')\n",
        "df.groupby('topic')['covid'].sum()"
      ],
      "execution_count": null,
      "outputs": [
        {
          "output_type": "execute_result",
          "data": {
            "text/plain": [
              "topic\n",
              "cooking      16.0\n",
              "face-mask    43.0\n",
              "nasa          6.0\n",
              "nasdaq       31.0\n",
              "weather      25.0\n",
              "Name: covid, dtype: float64"
            ]
          },
          "metadata": {
            "tags": []
          },
          "execution_count": 24
        }
      ]
    },
    {
      "cell_type": "markdown",
      "metadata": {
        "id": "nhTjz64APkHC"
      },
      "source": [
        "## Get article language"
      ]
    },
    {
      "cell_type": "code",
      "metadata": {
        "id": "PvBrYL3wbsBs"
      },
      "source": [
        "nlp.add_pipe(nlp.create_pipe('sentencizer'))\n",
        "nlp.add_pipe(LanguageDetector(), name='language_detector', last=True)\n",
        "\n"
      ],
      "execution_count": null,
      "outputs": []
    },
    {
      "cell_type": "code",
      "metadata": {
        "id": "Fufr-Hw-c6x7"
      },
      "source": [
        "lang = all_texts.map(lambda x : nlp(x)._.language['language'])\n",
        "score = all_texts.map(lambda x : nlp(x)._.language['score'])\n",
        "langs = pd.DataFrame({'content':all_texts, 'lang':lang, 'score':score})"
      ],
      "execution_count": null,
      "outputs": []
    },
    {
      "cell_type": "code",
      "metadata": {
        "id": "GqzeRC5LdyUQ",
        "colab": {
          "base_uri": "https://localhost:8080/",
          "height": 145
        },
        "outputId": "facb9b52-d22e-48e6-9f95-05bc3d3b8a9f"
      },
      "source": [
        "langs.lang.value_counts()"
      ],
      "execution_count": null,
      "outputs": [
        {
          "output_type": "execute_result",
          "data": {
            "text/plain": [
              "en    463\n",
              "pt     31\n",
              "de      2\n",
              "es      2\n",
              "ca      1\n",
              "et      1\n",
              "Name: lang, dtype: int64"
            ]
          },
          "metadata": {
            "tags": []
          },
          "execution_count": 27
        }
      ]
    },
    {
      "cell_type": "code",
      "metadata": {
        "id": "61k0Ek8i7NjO"
      },
      "source": [
        "df['lang'] = lang"
      ],
      "execution_count": null,
      "outputs": []
    },
    {
      "cell_type": "markdown",
      "metadata": {
        "id": "1-rI5ijo4JBv"
      },
      "source": [
        "# Classify news"
      ]
    },
    {
      "cell_type": "code",
      "metadata": {
        "id": "fWEbkMtajUxf",
        "colab": {
          "base_uri": "https://localhost:8080/",
          "height": 363
        },
        "outputId": "44c3085a-aa84-45de-979b-1ae2a6e7f14f"
      },
      "source": [
        "!pip install transformers\n"
      ],
      "execution_count": null,
      "outputs": [
        {
          "output_type": "stream",
          "text": [
            "Requirement already satisfied: transformers in /usr/local/lib/python3.6/dist-packages (2.11.0)\n",
            "Requirement already satisfied: packaging in /usr/local/lib/python3.6/dist-packages (from transformers) (20.4)\n",
            "Requirement already satisfied: sentencepiece in /usr/local/lib/python3.6/dist-packages (from transformers) (0.1.91)\n",
            "Requirement already satisfied: tqdm>=4.27 in /usr/local/lib/python3.6/dist-packages (from transformers) (4.41.1)\n",
            "Requirement already satisfied: regex!=2019.12.17 in /usr/local/lib/python3.6/dist-packages (from transformers) (2019.12.20)\n",
            "Requirement already satisfied: numpy in /usr/local/lib/python3.6/dist-packages (from transformers) (1.18.5)\n",
            "Requirement already satisfied: sacremoses in /usr/local/lib/python3.6/dist-packages (from transformers) (0.0.43)\n",
            "Requirement already satisfied: requests in /usr/local/lib/python3.6/dist-packages (from transformers) (2.23.0)\n",
            "Requirement already satisfied: dataclasses; python_version < \"3.7\" in /usr/local/lib/python3.6/dist-packages (from transformers) (0.7)\n",
            "Requirement already satisfied: tokenizers==0.7.0 in /usr/local/lib/python3.6/dist-packages (from transformers) (0.7.0)\n",
            "Requirement already satisfied: filelock in /usr/local/lib/python3.6/dist-packages (from transformers) (3.0.12)\n",
            "Requirement already satisfied: six in /usr/local/lib/python3.6/dist-packages (from packaging->transformers) (1.12.0)\n",
            "Requirement already satisfied: pyparsing>=2.0.2 in /usr/local/lib/python3.6/dist-packages (from packaging->transformers) (2.4.7)\n",
            "Requirement already satisfied: joblib in /usr/local/lib/python3.6/dist-packages (from sacremoses->transformers) (0.15.1)\n",
            "Requirement already satisfied: click in /usr/local/lib/python3.6/dist-packages (from sacremoses->transformers) (7.1.2)\n",
            "Requirement already satisfied: idna<3,>=2.5 in /usr/local/lib/python3.6/dist-packages (from requests->transformers) (2.9)\n",
            "Requirement already satisfied: chardet<4,>=3.0.2 in /usr/local/lib/python3.6/dist-packages (from requests->transformers) (3.0.4)\n",
            "Requirement already satisfied: certifi>=2017.4.17 in /usr/local/lib/python3.6/dist-packages (from requests->transformers) (2020.4.5.2)\n",
            "Requirement already satisfied: urllib3!=1.25.0,!=1.25.1,<1.26,>=1.21.1 in /usr/local/lib/python3.6/dist-packages (from requests->transformers) (1.24.3)\n"
          ],
          "name": "stdout"
        }
      ]
    },
    {
      "cell_type": "code",
      "metadata": {
        "id": "hxgdJaXtjh27",
        "colab": {
          "base_uri": "https://localhost:8080/",
          "height": 35
        },
        "outputId": "44b99f9b-0a27-423f-b37a-e026e147f896"
      },
      "source": [
        "import tensorflow as tf\n",
        "import torch\n",
        "from transformers import BertTokenizer\n",
        "\n",
        "# Get the GPU device name.\n",
        "device_name = tf.test.gpu_device_name()\n",
        "\n",
        "# The device name should look like the following:\n",
        "if device_name == '/device:GPU:0':\n",
        "    print('Found GPU at: {}'.format(device_name))\n",
        "else:\n",
        "    raise SystemError('GPU device not found')"
      ],
      "execution_count": null,
      "outputs": [
        {
          "output_type": "stream",
          "text": [
            "Found GPU at: /device:GPU:0\n"
          ],
          "name": "stdout"
        }
      ]
    },
    {
      "cell_type": "code",
      "metadata": {
        "id": "bqZYmcM4jlWc",
        "colab": {
          "base_uri": "https://localhost:8080/",
          "height": 54
        },
        "outputId": "5a909ed5-e285-4b2d-b4f8-3efa5b633114"
      },
      "source": [
        "# If there's a GPU available...\n",
        "if torch.cuda.is_available():    \n",
        "\n",
        "    # Tell PyTorch to use the GPU.    \n",
        "    device = torch.device(\"cuda\")\n",
        "\n",
        "    print('There are %d GPU(s) available.' % torch.cuda.device_count())\n",
        "\n",
        "    print('We will use the GPU:', torch.cuda.get_device_name(0))\n",
        "\n",
        "# If not...\n",
        "else:\n",
        "    print('No GPU available, using the CPU instead.')\n",
        "    device = torch.device(\"cpu\")"
      ],
      "execution_count": null,
      "outputs": [
        {
          "output_type": "stream",
          "text": [
            "There are 1 GPU(s) available.\n",
            "We will use the GPU: Tesla K80\n"
          ],
          "name": "stdout"
        }
      ]
    },
    {
      "cell_type": "code",
      "metadata": {
        "id": "guzRVPdMTFN0",
        "colab": {
          "base_uri": "https://localhost:8080/",
          "height": 35
        },
        "outputId": "c6953cc1-89a7-46c2-abef-a50b50f321a0"
      },
      "source": [
        "df_clean = df[['soup','topic']].dropna().copy()\n",
        "df_clean.shape"
      ],
      "execution_count": null,
      "outputs": [
        {
          "output_type": "execute_result",
          "data": {
            "text/plain": [
              "(455, 2)"
            ]
          },
          "metadata": {
            "tags": []
          },
          "execution_count": 6
        }
      ]
    },
    {
      "cell_type": "code",
      "metadata": {
        "id": "Laa1HGeTkV_y"
      },
      "source": [
        "sentences = df_clean.soup.values\n",
        "labels = df_clean.topic.values"
      ],
      "execution_count": null,
      "outputs": []
    },
    {
      "cell_type": "code",
      "metadata": {
        "id": "j4011Uirkxc6"
      },
      "source": [
        "tokenizer = BertTokenizer.from_pretrained('bert-base-uncased', do_lower_case=True)"
      ],
      "execution_count": null,
      "outputs": []
    },
    {
      "cell_type": "code",
      "metadata": {
        "id": "l5S6esVtlFI5",
        "colab": {
          "base_uri": "https://localhost:8080/",
          "height": 92
        },
        "outputId": "c28f619b-883d-4497-df75-6714b86ff4c1"
      },
      "source": [
        "# Print the original sentence.\n",
        "print(' Original: ', sentences[0])\n",
        "\n",
        "# Print the sentence split into tokens.\n",
        "print('Tokenized: ', tokenizer.tokenize(sentences[0]))\n",
        "\n",
        "# Print the sentence mapped to token ids.\n",
        "print('Token IDs: ', tokenizer.convert_tokens_to_ids(tokenizer.tokenize(sentences[0])))"
      ],
      "execution_count": null,
      "outputs": [
        {
          "output_type": "stream",
          "text": [
            " Original:  NASA and Planet  have deemed their pilot partnership a success, and the result is that NASA will extend its contract with Planet to provide the company’s satellite imagery of Earth to all research programs funded by the agency. NASA had signed an initial contract last April with Planet to provide Planet imagery to a team of 35 researchers working on tracking what are known as “Essential Climate Variables,” or ECVs.The ECV trial showed that Planet’s imagery was useful in tracking and providing insight into a number of different Earth-based environmental events, including landslides in the Himalayan mountain range. During the study, one of the key ingredients in helping researchers detect early warning signs was the Planet satellite constellation’s high revisit rate, which means the frequency with which it photographs a specific area over time.Planet’s data covers the entire Earth at least once per day, and includes even areas of the planet not typically included in Earth observation passes by other satellites and providers, like the Arctic. Its frequency, along with its coverage and degree of detail, all combine to make it a valuable resource to anyone conducting Earth science work, which means it’s very good news that it’s now available to hundreds more scientists working on dozens more projects.\n",
            "Tokenized:  ['nasa', 'and', 'planet', 'have', 'deemed', 'their', 'pilot', 'partnership', 'a', 'success', ',', 'and', 'the', 'result', 'is', 'that', 'nasa', 'will', 'extend', 'its', 'contract', 'with', 'planet', 'to', 'provide', 'the', 'company', '’', 's', 'satellite', 'imagery', 'of', 'earth', 'to', 'all', 'research', 'programs', 'funded', 'by', 'the', 'agency', '.', 'nasa', 'had', 'signed', 'an', 'initial', 'contract', 'last', 'april', 'with', 'planet', 'to', 'provide', 'planet', 'imagery', 'to', 'a', 'team', 'of', '35', 'researchers', 'working', 'on', 'tracking', 'what', 'are', 'known', 'as', '“', 'essential', 'climate', 'variables', ',', '”', 'or', 'ec', '##vs', '.', 'the', 'ec', '##v', 'trial', 'showed', 'that', 'planet', '’', 's', 'imagery', 'was', 'useful', 'in', 'tracking', 'and', 'providing', 'insight', 'into', 'a', 'number', 'of', 'different', 'earth', '-', 'based', 'environmental', 'events', ',', 'including', 'landslide', '##s', 'in', 'the', 'himalayan', 'mountain', 'range', '.', 'during', 'the', 'study', ',', 'one', 'of', 'the', 'key', 'ingredients', 'in', 'helping', 'researchers', 'detect', 'early', 'warning', 'signs', 'was', 'the', 'planet', 'satellite', 'constellation', '’', 's', 'high', 'rev', '##isi', '##t', 'rate', ',', 'which', 'means', 'the', 'frequency', 'with', 'which', 'it', 'photographs', 'a', 'specific', 'area', 'over', 'time', '.', 'planet', '’', 's', 'data', 'covers', 'the', 'entire', 'earth', 'at', 'least', 'once', 'per', 'day', ',', 'and', 'includes', 'even', 'areas', 'of', 'the', 'planet', 'not', 'typically', 'included', 'in', 'earth', 'observation', 'passes', 'by', 'other', 'satellites', 'and', 'providers', ',', 'like', 'the', 'arctic', '.', 'its', 'frequency', ',', 'along', 'with', 'its', 'coverage', 'and', 'degree', 'of', 'detail', ',', 'all', 'combine', 'to', 'make', 'it', 'a', 'valuable', 'resource', 'to', 'anyone', 'conducting', 'earth', 'science', 'work', ',', 'which', 'means', 'it', '’', 's', 'very', 'good', 'news', 'that', 'it', '’', 's', 'now', 'available', 'to', 'hundreds', 'more', 'scientists', 'working', 'on', 'dozens', 'more', 'projects', '.']\n",
            "Token IDs:  [9274, 1998, 4774, 2031, 8357, 2037, 4405, 5386, 1037, 3112, 1010, 1998, 1996, 2765, 2003, 2008, 9274, 2097, 7949, 2049, 3206, 2007, 4774, 2000, 3073, 1996, 2194, 1521, 1055, 5871, 13425, 1997, 3011, 2000, 2035, 2470, 3454, 6787, 2011, 1996, 4034, 1012, 9274, 2018, 2772, 2019, 3988, 3206, 2197, 2258, 2007, 4774, 2000, 3073, 4774, 13425, 2000, 1037, 2136, 1997, 3486, 6950, 2551, 2006, 9651, 2054, 2024, 2124, 2004, 1523, 6827, 4785, 10857, 1010, 1524, 2030, 14925, 15088, 1012, 1996, 14925, 2615, 3979, 3662, 2008, 4774, 1521, 1055, 13425, 2001, 6179, 1999, 9651, 1998, 4346, 12369, 2046, 1037, 2193, 1997, 2367, 3011, 1011, 2241, 4483, 2824, 1010, 2164, 20148, 2015, 1999, 1996, 28333, 3137, 2846, 1012, 2076, 1996, 2817, 1010, 2028, 1997, 1996, 3145, 12760, 1999, 5094, 6950, 11487, 2220, 5432, 5751, 2001, 1996, 4774, 5871, 15300, 1521, 1055, 2152, 7065, 17417, 2102, 3446, 1010, 2029, 2965, 1996, 6075, 2007, 2029, 2009, 7008, 1037, 3563, 2181, 2058, 2051, 1012, 4774, 1521, 1055, 2951, 4472, 1996, 2972, 3011, 2012, 2560, 2320, 2566, 2154, 1010, 1998, 2950, 2130, 2752, 1997, 1996, 4774, 2025, 4050, 2443, 1999, 3011, 8089, 5235, 2011, 2060, 14549, 1998, 11670, 1010, 2066, 1996, 10162, 1012, 2049, 6075, 1010, 2247, 2007, 2049, 6325, 1998, 3014, 1997, 6987, 1010, 2035, 11506, 2000, 2191, 2009, 1037, 7070, 7692, 2000, 3087, 9283, 3011, 2671, 2147, 1010, 2029, 2965, 2009, 1521, 1055, 2200, 2204, 2739, 2008, 2009, 1521, 1055, 2085, 2800, 2000, 5606, 2062, 6529, 2551, 2006, 9877, 2062, 3934, 1012]\n"
          ],
          "name": "stdout"
        }
      ]
    },
    {
      "cell_type": "code",
      "metadata": {
        "id": "TeXtAlLJlLdw",
        "colab": {
          "base_uri": "https://localhost:8080/",
          "height": 35
        },
        "outputId": "05d59100-a1c4-4473-accd-2acf342e4691"
      },
      "source": [
        "max_len = 0\n",
        "\n",
        "# For every sentence...\n",
        "for sent in sentences:\n",
        "\n",
        "    # Tokenize the text and add `[CLS]` and `[SEP]` tokens.\n",
        "    input_ids = tokenizer.encode(sent, add_special_tokens=True, max_length=256)\n",
        "\n",
        "    # Update the maximum sentence length.\n",
        "    max_len = max(max_len, len(input_ids))\n",
        "\n",
        "print('Max sentence length: ', max_len)"
      ],
      "execution_count": null,
      "outputs": [
        {
          "output_type": "stream",
          "text": [
            "Max sentence length:  256\n"
          ],
          "name": "stdout"
        }
      ]
    },
    {
      "cell_type": "code",
      "metadata": {
        "id": "62vA9TyZwWR3",
        "colab": {
          "base_uri": "https://localhost:8080/",
          "height": 55
        },
        "outputId": "9dd882bf-0a9a-41e0-9e13-c78e3c7d0908"
      },
      "source": [
        "print(' Original: ', sentences[1])"
      ],
      "execution_count": null,
      "outputs": [
        {
          "output_type": "stream",
          "text": [
            " Original:  The huge mirror of NASA&aposs James Webb Space Telescope -- its successor to Hubble -- has been successfully tested for the first time, putting it one step closer to its eventual launch, which is slated for 2021. Like Hubble -- which has long outlived its original lifespan but is expected to remain operational for a few years yet -- the James Webb will investigate celestial bodies from our solar system and beyond.Getting the new telescope to this stage has been a challenging endeavor for NASA -- its launch was initially scheduled for 2018, but the intricacy of construction, number of parts needed and the fact that it&aposs the most complex telescope built to date meant its launch date has seen a series of delays.Now though, following the successful test, researchers are confident it&aposs on track for launch next year. The test procedure involved replicating Webb&aposs final configuration in a space-like environment. This meant replicating the zero-gravity atmosphere Webb will eventually operate in, using special gravity-offsetting equipment. The spacecraft&aposs internal systems were then used to fully extend and latch Webb&aposs 21-foot primary mirror, to appear as it will after it&aposs been launched into orbit. Because the mirror is so large, it can&apost fit inside any available rocket, so it&aposs comprised of a series of moveable parts that designed to fold in on themselves.Tests like these help safeguard both the spacecraft and telescope, but the primary mirror will only be deployed once more on the ground -- just before Webb is taken to its launch site. In a statement to Parabolic Arc, Webb&aposs optical telescope element manager, Lee Feinberg, said, \"Deploying both wings of the telescope while part of the fully assembled observatory is another significant milestone showing Webb will deploy properly in space. This is a great achievement and an inspiring image for the entire team.\"\n"
          ],
          "name": "stdout"
        }
      ]
    },
    {
      "cell_type": "code",
      "metadata": {
        "id": "LPGNtharU33q"
      },
      "source": [
        "df_clean['label'] = df_clean['topic'].factorize()[0]\n",
        "labels = df_clean.label.values"
      ],
      "execution_count": null,
      "outputs": []
    },
    {
      "cell_type": "code",
      "metadata": {
        "id": "cQcQRD0EmEjs"
      },
      "source": [
        "# Tokenize all of the sentences and map the tokens to thier word IDs.\n",
        "input_ids = []\n",
        "attention_masks = []\n",
        "\n",
        "# For every sentence...\n",
        "for sent in sentences:\n",
        "    # `encode_plus` will:\n",
        "    #   (1) Tokenize the sentence.\n",
        "    #   (2) Prepend the `[CLS]` token to the start.\n",
        "    #   (3) Append the `[SEP]` token to the end.\n",
        "    #   (4) Map tokens to their IDs.\n",
        "    #   (5) Pad or truncate the sentence to `max_length`\n",
        "    #   (6) Create attention masks for [PAD] tokens.\n",
        "    encoded_dict = tokenizer.encode_plus(\n",
        "                        sent,                      # Sentence to encode.\n",
        "                        add_special_tokens = True, # Add '[CLS]' and '[SEP]'\n",
        "                        max_length = 256,           # Pad & truncate all sentences.\n",
        "                        pad_to_max_length = True,\n",
        "                        return_attention_mask = True,   # Construct attn. masks.\n",
        "                        return_tensors = 'pt',     # Return pytorch tensors.\n",
        "                   )\n",
        "    \n",
        "    # Add the encoded sentence to the list.    \n",
        "    input_ids.append(encoded_dict['input_ids'])\n",
        "    \n",
        "    # And its attention mask (simply differentiates padding from non-padding).\n",
        "    attention_masks.append(encoded_dict['attention_mask'])\n",
        "\n",
        "# Convert the lists into tensors.\n",
        "input_ids = torch.cat(input_ids, dim=0)\n",
        "attention_masks = torch.cat(attention_masks, dim=0)\n",
        "labels = torch.tensor(labels)\n",
        "\n",
        "# Print sentence 0, now as a list of IDs.\n",
        "# print('Original: ', sentences[0])\n",
        "# print('Token IDs:', input_ids[0])"
      ],
      "execution_count": null,
      "outputs": []
    },
    {
      "cell_type": "code",
      "metadata": {
        "id": "jUQlY8LqG3b0",
        "colab": {
          "base_uri": "https://localhost:8080/",
          "height": 35
        },
        "outputId": "bade856b-bfbc-4361-ebc1-13a8466e975b"
      },
      "source": [
        "input_ids[0][0:10]"
      ],
      "execution_count": null,
      "outputs": [
        {
          "output_type": "execute_result",
          "data": {
            "text/plain": [
              "tensor([ 101, 9274, 1998, 4774, 2031, 8357, 2037, 4405, 5386, 1037])"
            ]
          },
          "metadata": {
            "tags": []
          },
          "execution_count": 69
        }
      ]
    },
    {
      "cell_type": "code",
      "metadata": {
        "id": "EW0LJ_OLGTeE",
        "colab": {
          "base_uri": "https://localhost:8080/",
          "height": 35
        },
        "outputId": "44e4b914-554d-4e43-80e5-37233307ffb9"
      },
      "source": [
        "train_dataset.indices[0:10]"
      ],
      "execution_count": null,
      "outputs": [
        {
          "output_type": "execute_result",
          "data": {
            "text/plain": [
              "[227, 222, 210, 253, 296, 270, 248, 56, 188, 342]"
            ]
          },
          "metadata": {
            "tags": []
          },
          "execution_count": 75
        }
      ]
    },
    {
      "cell_type": "code",
      "metadata": {
        "id": "DuZn-KWyH5N6",
        "colab": {
          "base_uri": "https://localhost:8080/",
          "height": 35
        },
        "outputId": "1ff56ac7-abd7-4248-9f98-2a373abd3892"
      },
      "source": [
        "tokenizer.tokenize(df_clean.loc[227]['soup'])[0:10]\n",
        "tokenizer.convert_tokens_to_ids(tokenizer.tokenize(df_clean.loc[227]['soup']))[0:10]"
      ],
      "execution_count": null,
      "outputs": [
        {
          "output_type": "execute_result",
          "data": {
            "text/plain": [
              "[1017, 8117, 3191, 1006, 26665, 1007, 1011, 2813, 2395, 18303]"
            ]
          },
          "metadata": {
            "tags": []
          },
          "execution_count": 81
        }
      ]
    },
    {
      "cell_type": "code",
      "metadata": {
        "id": "rv1BUr66O6v4",
        "colab": {
          "base_uri": "https://localhost:8080/",
          "height": 35
        },
        "outputId": "e9b228be-126a-472e-a70e-5bff01447d6e"
      },
      "source": [
        " train_dataloader"
      ],
      "execution_count": null,
      "outputs": [
        {
          "output_type": "execute_result",
          "data": {
            "text/plain": [
              "<torch.utils.data.dataloader.DataLoader at 0x7fddd0a07128>"
            ]
          },
          "metadata": {
            "tags": []
          },
          "execution_count": 83
        }
      ]
    },
    {
      "cell_type": "code",
      "metadata": {
        "id": "aqbxeSY3IxJg"
      },
      "source": [
        "for i in train_dataloader:\n",
        "  print(i[0].to(device))"
      ],
      "execution_count": null,
      "outputs": []
    },
    {
      "cell_type": "code",
      "metadata": {
        "id": "Ls0lia0GmVKb"
      },
      "source": [
        "from torch.utils.data import TensorDataset, random_split\n",
        "\n",
        "dataset = TensorDataset(input_ids, attention_masks, labels)\n",
        "\n",
        "train_size = int(0.9 * len(dataset))\n",
        "val_size = len(dataset) - train_size\n",
        "\n",
        "train_dataset, val_dataset = random_split(dataset, [train_size, val_size])\n"
      ],
      "execution_count": null,
      "outputs": []
    },
    {
      "cell_type": "code",
      "metadata": {
        "id": "JA0m01wLUTvs"
      },
      "source": [
        "from torch.utils.data import DataLoader, RandomSampler, SequentialSampler\n",
        "\n",
        "# The DataLoader needs to know our batch size for training, so we specify it \n",
        "# here. For fine-tuning BERT on a specific task, the authors recommend a batch \n",
        "# size of 16 or 32.\n",
        "batch_size = 32\n",
        "\n",
        "# Create the DataLoaders for our training and validation sets.\n",
        "# We'll take training samples in random order. \n",
        "train_dataloader = DataLoader(\n",
        "            train_dataset,  # The training samples.\n",
        "            sampler = RandomSampler(train_dataset), # Select batches randomly\n",
        "            batch_size = batch_size # Trains with this batch size.\n",
        "        )\n",
        "\n",
        "# For validation the order doesn't matter, so we'll just read them sequentially.\n",
        "# MH: why?\n",
        "validation_dataloader = DataLoader(\n",
        "            val_dataset, # The validation samples.\n",
        "            sampler = SequentialSampler(val_dataset), # Pull out batches sequentially.\n",
        "            batch_size = batch_size # Evaluate with this batch size.\n",
        "        )"
      ],
      "execution_count": null,
      "outputs": []
    },
    {
      "cell_type": "code",
      "metadata": {
        "id": "Do-PxqesUdda"
      },
      "source": [
        "from transformers import BertForSequenceClassification, AdamW, BertConfig"
      ],
      "execution_count": null,
      "outputs": []
    },
    {
      "cell_type": "code",
      "metadata": {
        "id": "DGo5HanPUjnD",
        "colab": {
          "base_uri": "https://localhost:8080/",
          "height": 126
        },
        "outputId": "052d0732-7d95-42ef-98e1-39fbb663d770"
      },
      "source": [
        "pd.Series(labels.numpy()).value_counts()"
      ],
      "execution_count": null,
      "outputs": [
        {
          "output_type": "execute_result",
          "data": {
            "text/plain": [
              "0    94\n",
              "3    92\n",
              "4    90\n",
              "2    90\n",
              "1    89\n",
              "dtype: int64"
            ]
          },
          "metadata": {
            "tags": []
          },
          "execution_count": 16
        }
      ]
    },
    {
      "cell_type": "code",
      "metadata": {
        "id": "OiM2BPJFWyWS"
      },
      "source": [
        "model = BertForSequenceClassification.from_pretrained(\"bert-base-uncased\", num_labels = 5,  output_attentions = False, output_hidden_states = False)\n",
        "model.cuda()"
      ],
      "execution_count": null,
      "outputs": []
    },
    {
      "cell_type": "markdown",
      "metadata": {
        "id": "HXbBFHvoX0YJ"
      },
      "source": [
        "# Get all of the model's parameters as a list of tuples.\n",
        "\n",
        "see https://mccormickml.com/2019/07/22/BERT-fine-tuning/\n",
        "params = list(model.named_parameters())\n",
        "\n",
        "print('The BERT model has {:} different named parameters.\\n'.format(len(params)))\n",
        "\n",
        "print('==== Embedding Layer ====\\n')\n",
        "\n",
        "for p in params[0:5]:\n",
        "    print(\"{:<55} {:>12}\".format(p[0], str(tuple(p[1].size()))))\n",
        "\n",
        "print('\\n==== First Transformer ====\\n')\n",
        "\n",
        "for p in params[5:21]:\n",
        "    print(\"{:<55} {:>12}\".format(p[0], str(tuple(p[1].size()))))\n",
        "\n",
        "print('\\n==== Output Layer ====\\n')\n",
        "\n",
        "for p in params[-4:]:\n",
        "    print(\"{:<55} {:>12}\".format(p[0], str(tuple(p[1].size()))))"
      ]
    },
    {
      "cell_type": "code",
      "metadata": {
        "id": "F5oSDzh6ZAD3"
      },
      "source": [
        "# Note: AdamW is a class from the huggingface library (as opposed to pytorch) \n",
        "optimizer = AdamW(model.parameters(),\n",
        "                  lr = 2e-5, # args.learning_rate - default is 5e-5, our notebook had 2e-5\n",
        "                  eps = 1e-8 # args.adam_epsilon  - default is 1e-8.\n",
        "                )"
      ],
      "execution_count": null,
      "outputs": []
    },
    {
      "cell_type": "code",
      "metadata": {
        "id": "IyicxruuZKaV"
      },
      "source": [
        "from transformers import get_linear_schedule_with_warmup\n",
        "epochs = 5\n",
        "total_steps = len(train_dataloader) * epochs\n",
        "scheduler = get_linear_schedule_with_warmup(optimizer, \n",
        "                                            num_warmup_steps = 0, # Default value in run_glue.py\n",
        "                                            num_training_steps = total_steps)"
      ],
      "execution_count": null,
      "outputs": []
    },
    {
      "cell_type": "code",
      "metadata": {
        "id": "BMDSe4QhZQ16"
      },
      "source": [
        "import numpy as np\n",
        "\n",
        "def flat_accuracy(preds, labels):\n",
        "    pred_flat = np.argmax(preds, axis=1).flatten()\n",
        "    labels_flat = labels.flatten()\n",
        "    return np.sum(pred_flat == labels_flat) / len(labels_flat)\n",
        "\n",
        "import time\n",
        "import datetime\n",
        "\n",
        "def format_time(elapsed):\n",
        "    elapsed_rounded = int(round((elapsed)))   \n",
        "    # Format as hh:mm:ss\n",
        "    return str(datetime.timedelta(seconds=elapsed_rounded))\n"
      ],
      "execution_count": null,
      "outputs": []
    },
    {
      "cell_type": "code",
      "metadata": {
        "id": "QL7T_4LzZWzb",
        "colab": {
          "base_uri": "https://localhost:8080/",
          "height": 163
        },
        "outputId": "4ba13498-5ea2-46f3-fe32-dbd71cbba796"
      },
      "source": [
        "import random\n",
        "import numpy as np\n",
        "\n",
        "# This training code is based on the `run_glue.py` script here:\n",
        "# https://github.com/huggingface/transformers/blob/5bfcd0485ece086ebcbed2d008813037968a9e58/examples/run_glue.py#L128\n",
        "\n",
        "seed_val = 42\n",
        "random.seed(seed_val)\n",
        "np.random.seed(seed_val)\n",
        "torch.manual_seed(seed_val)\n",
        "torch.cuda.manual_seed_all(seed_val)\n",
        "\n",
        "training_stats = []\n",
        "total_t0 = time.time()\n",
        "\n",
        "for epoch_i in range(0, epochs):\n",
        "    \n",
        "    t0 = time.time()\n",
        "    # Reset the total loss for this epoch.\n",
        "    total_train_loss = 0\n",
        "    total_train_accuracy = 0\n",
        "\n",
        "    # Put the model into training mode. Don't be mislead--the call to \n",
        "    # `train` just changes the *mode*, it doesn't *perform* the training.\n",
        "    # `dropout` and `batchnorm` layers behave differently during training\n",
        "    # vs. test (source: https://stackoverflow.com/questions/51433378/what-does-model-train-do-in-pytorch)\n",
        "    model.train()\n",
        "\n",
        "    for step, batch in enumerate(train_dataloader):\n",
        "\n",
        "        if step % 40 == 0 and not step == 0:\n",
        "            elapsed = format_time(time.time() - t0)\n",
        "            print('  Batch {:>5,}  of  {:>5,}.    Elapsed: {:}.'.format(step, len(train_dataloader), elapsed))\n",
        "\n",
        "        # Unpack this training batch from our dataloader. \n",
        "        b_input_ids = batch[0].to(device)\n",
        "        b_input_mask = batch[1].to(device)\n",
        "        b_labels = batch[2].to(device)\n",
        "\n",
        "        # Always clear any previously calculated gradients before performing a\n",
        "        # backward pass. PyTorch doesn't do this automatically because \n",
        "        # accumulating the gradients is \"convenient while training RNNs\". \n",
        "        # (source: https://stackoverflow.com/questions/48001598/why-do-we-need-to-call-zero-grad-in-pytorch)\n",
        "        model.zero_grad()        \n",
        "\n",
        "        # Perform a forward pass https://huggingface.co/transformers/v2.2.0/model_doc/bert.html#transformers.BertForSequenceClassification\n",
        "        loss, logits = model(b_input_ids, \n",
        "                             token_type_ids=None, \n",
        "                             attention_mask=b_input_mask, \n",
        "                             labels=b_labels)\n",
        "\n",
        "        # Accumulate the training loss, `loss` is a Tensor containing a single value; \n",
        "        total_train_loss += loss.item()\n",
        "        total_train_accuracy += flat_accuracy(logits.detach().cpu().numpy(),\n",
        "                                              b_labels.to('cpu').numpy())\n",
        "\n",
        "        # Perform a backward pass to calculate the gradients.\n",
        "        loss.backward()\n",
        "\n",
        "        # Clip the norm of the gradients to 1.0.\n",
        "        # This is to help prevent the \"exploding gradients\" problem.\n",
        "        torch.nn.utils.clip_grad_norm_(model.parameters(), 1.0)\n",
        "\n",
        "        # Update parameters and take a step using the computed gradient.\n",
        "        # The optimizer dictates the \"update rule\"--how the parameters are\n",
        "        # modified based on their gradients, the learning rate, etc.\n",
        "        optimizer.step()\n",
        "\n",
        "        # Update the learning rate.\n",
        "        scheduler.step()\n",
        "\n",
        "\n",
        "    # Calculate the average loss over all of the batches.\n",
        "    avg_train_loss = total_train_loss / len(train_dataloader)             \n",
        "    avg_train_accuracy = total_train_accuracy / len(train_dataloader)\n",
        "        \n",
        "    #########               Validation\n",
        "\n",
        "    t0 = time.time()\n",
        "    # Put the model in evaluation mode--the dropout layers behave differently\n",
        "    model.eval()\n",
        "\n",
        "    # Tracking variables \n",
        "    total_eval_accuracy = 0\n",
        "    total_eval_loss = 0\n",
        "    nb_eval_steps = 0\n",
        "\n",
        "    # Evaluate data for one epoch\n",
        "    for batch in validation_dataloader:\n",
        "        \n",
        "        # Unpack this training batch from our dataloader. \n",
        "        b_input_ids = batch[0].to(device)\n",
        "        b_input_mask = batch[1].to(device)\n",
        "        b_labels = batch[2].to(device)\n",
        "        \n",
        "        # Tell pytorch not to bother with constructing the compute graph during\n",
        "        # the forward pass, since this is only needed for backprop (training).\n",
        "        with torch.no_grad():        \n",
        "\n",
        "            # Forward pass, calculate logit predictions.\n",
        "            # token_type_ids is the same as the \"segment ids\", which \n",
        "            # differentiates sentence 1 and 2 in 2-sentence tasks.\n",
        "            # The documentation for this `model` function is here: \n",
        "            # https://huggingface.co/transformers/v2.2.0/model_doc/bert.html#transformers.BertForSequenceClassification\n",
        "            # Get the \"logits\" output by the model. The \"logits\" are the output\n",
        "            # values prior to applying an activation function like the softmax.\n",
        "            (loss, logits) = model(b_input_ids, \n",
        "                                   token_type_ids=None, \n",
        "                                   attention_mask=b_input_mask,\n",
        "                                   labels=b_labels)\n",
        "            \n",
        "        # Accumulate the validation loss.\n",
        "        total_eval_loss += loss.item()\n",
        "\n",
        "        # Move logits and labels to CPU\n",
        "        logits = logits.detach().cpu().numpy()\n",
        "        label_ids = b_labels.to('cpu').numpy()\n",
        "        total_eval_accuracy += flat_accuracy(logits, label_ids)\n",
        "        \n",
        "    # Report the final accuracy for this validation run.\n",
        "    avg_val_accuracy = total_eval_accuracy / len(validation_dataloader)\n",
        "    avg_val_loss = total_eval_loss / len(validation_dataloader)\n",
        "    epoch_time = format_time(time.time() - t0)\n",
        "    \n",
        "    print(\" Epoch %d\" % (int(epoch_i) + 1),\n",
        "          \" Train %.2f\" % avg_train_loss,\n",
        "          \" Accuracy %.2f\" % avg_train_accuracy, \n",
        "          \" Validation %.2f\" % avg_val_loss , \n",
        "          \" Accuracy %.2f\" % avg_val_accuracy, \n",
        "          \" took {:}\".format(epoch_time))\n",
        "\n",
        "    # Record all statistics from this epoch.\n",
        "    training_stats.append(\n",
        "        {\n",
        "            'epoch': epoch_i + 1,\n",
        "            'Training Loss': avg_train_loss,\n",
        "            'Training Accur.': avg_train_accuracy,\n",
        "            'Valid. Loss': avg_val_loss,\n",
        "            'Valid. Accur.': avg_val_accuracy,\n",
        "            'Training Time': training_time,\n",
        "            'Validation Time': validation_time\n",
        "        }\n",
        "    )\n",
        "\n",
        "print(\"\")\n",
        "print(\"Training complete!\")\n",
        "\n",
        "print(\"Total training took {:} (h:mm:ss)\".format(format_time(time.time()-total_t0)))"
      ],
      "execution_count": null,
      "outputs": [
        {
          "output_type": "stream",
          "text": [
            " Epoch 1   Train 1.15  Accuracy 0.70  Validation 1.10  Accuracy 0.70  took 0:00:01\n",
            " Epoch 2   Train 0.98  Accuracy 0.79  Validation 0.96  Accuracy 0.72  took 0:00:01\n",
            " Epoch 3   Train 0.82  Accuracy 0.86  Validation 0.86  Accuracy 0.73  took 0:00:01\n",
            " Epoch 4   Train 0.75  Accuracy 0.87  Validation 0.83  Accuracy 0.77  took 0:00:01\n",
            " Epoch 5   Train 0.73  Accuracy 0.87  Validation 0.83  Accuracy 0.77  took 0:00:01\n",
            "\n",
            "Training complete!\n",
            "Total training took 0:02:57 (h:mm:ss)\n"
          ],
          "name": "stdout"
        }
      ]
    },
    {
      "cell_type": "code",
      "metadata": {
        "id": "JgmYvLsIZfyG",
        "colab": {
          "base_uri": "https://localhost:8080/",
          "height": 228
        },
        "outputId": "17a4c7cc-9a65-4726-a4c5-264d13c30cce"
      },
      "source": [
        "import pandas as pd\n",
        "\n",
        "pd.set_option('precision', 2)\n",
        "df_stats = pd.DataFrame(data=training_stats)\n",
        "df_stats = df_stats.set_index('epoch')\n",
        "df_stats"
      ],
      "execution_count": null,
      "outputs": [
        {
          "output_type": "execute_result",
          "data": {
            "text/html": [
              "<div>\n",
              "<style scoped>\n",
              "    .dataframe tbody tr th:only-of-type {\n",
              "        vertical-align: middle;\n",
              "    }\n",
              "\n",
              "    .dataframe tbody tr th {\n",
              "        vertical-align: top;\n",
              "    }\n",
              "\n",
              "    .dataframe thead th {\n",
              "        text-align: right;\n",
              "    }\n",
              "</style>\n",
              "<table border=\"1\" class=\"dataframe\">\n",
              "  <thead>\n",
              "    <tr style=\"text-align: right;\">\n",
              "      <th></th>\n",
              "      <th>Training Loss</th>\n",
              "      <th>Training Accur.</th>\n",
              "      <th>Valid. Loss</th>\n",
              "      <th>Valid. Accur.</th>\n",
              "      <th>Training Time</th>\n",
              "      <th>Validation Time</th>\n",
              "    </tr>\n",
              "    <tr>\n",
              "      <th>epoch</th>\n",
              "      <th></th>\n",
              "      <th></th>\n",
              "      <th></th>\n",
              "      <th></th>\n",
              "      <th></th>\n",
              "      <th></th>\n",
              "    </tr>\n",
              "  </thead>\n",
              "  <tbody>\n",
              "    <tr>\n",
              "      <th>1</th>\n",
              "      <td>1.15</td>\n",
              "      <td>0.70</td>\n",
              "      <td>1.10</td>\n",
              "      <td>0.70</td>\n",
              "      <td>0:00:34</td>\n",
              "      <td>0:00:01</td>\n",
              "    </tr>\n",
              "    <tr>\n",
              "      <th>2</th>\n",
              "      <td>0.98</td>\n",
              "      <td>0.79</td>\n",
              "      <td>0.96</td>\n",
              "      <td>0.72</td>\n",
              "      <td>0:00:34</td>\n",
              "      <td>0:00:01</td>\n",
              "    </tr>\n",
              "    <tr>\n",
              "      <th>3</th>\n",
              "      <td>0.82</td>\n",
              "      <td>0.86</td>\n",
              "      <td>0.86</td>\n",
              "      <td>0.73</td>\n",
              "      <td>0:00:34</td>\n",
              "      <td>0:00:01</td>\n",
              "    </tr>\n",
              "    <tr>\n",
              "      <th>4</th>\n",
              "      <td>0.75</td>\n",
              "      <td>0.87</td>\n",
              "      <td>0.83</td>\n",
              "      <td>0.77</td>\n",
              "      <td>0:00:34</td>\n",
              "      <td>0:00:01</td>\n",
              "    </tr>\n",
              "    <tr>\n",
              "      <th>5</th>\n",
              "      <td>0.73</td>\n",
              "      <td>0.87</td>\n",
              "      <td>0.83</td>\n",
              "      <td>0.77</td>\n",
              "      <td>0:00:34</td>\n",
              "      <td>0:00:01</td>\n",
              "    </tr>\n",
              "  </tbody>\n",
              "</table>\n",
              "</div>"
            ],
            "text/plain": [
              "       Training Loss  Training Accur.  ...  Training Time  Validation Time\n",
              "epoch                                  ...                                \n",
              "1               1.15             0.70  ...        0:00:34          0:00:01\n",
              "2               0.98             0.79  ...        0:00:34          0:00:01\n",
              "3               0.82             0.86  ...        0:00:34          0:00:01\n",
              "4               0.75             0.87  ...        0:00:34          0:00:01\n",
              "5               0.73             0.87  ...        0:00:34          0:00:01\n",
              "\n",
              "[5 rows x 6 columns]"
            ]
          },
          "metadata": {
            "tags": []
          },
          "execution_count": 24
        }
      ]
    },
    {
      "cell_type": "code",
      "metadata": {
        "id": "YC9VzBNQasvL",
        "colab": {
          "base_uri": "https://localhost:8080/",
          "height": 301
        },
        "outputId": "dac53e87-37a7-4cb3-cf83-6a7d728617bf"
      },
      "source": [
        "import matplotlib.pyplot as plt\n",
        "% matplotlib inline\n",
        "import seaborn as sns\n",
        "\n",
        "sns.set(style='darkgrid')\n",
        "# sns.set(font_scale=1.5)\n",
        "#plt.rcParams[\"figure.figsize\"] = (12,6)\n",
        "plt.plot(df_stats['Training Loss'], 'b-o', label=\"Training\")\n",
        "plt.plot(df_stats['Valid. Loss'], 'g-o', label=\"Validation\")\n",
        "plt.title(\"Training & Validation Loss\")\n",
        "plt.xlabel(\"Epoch\")\n",
        "plt.ylabel(\"Loss\")\n",
        "plt.legend()\n",
        "# plt.xticks([1, 2, 3, 4])\n",
        "plt.show()"
      ],
      "execution_count": null,
      "outputs": [
        {
          "output_type": "display_data",
          "data": {
            "image/png": "[encoded data removed]",
            "text/plain": [
              "<Figure size 432x288 with 1 Axes>"
            ]
          },
          "metadata": {
            "tags": []
          }
        }
      ]
    },
    {
      "cell_type": "code",
      "metadata": {
        "id": "YKu4PfxlazYz",
        "colab": {
          "base_uri": "https://localhost:8080/",
          "height": 54
        },
        "outputId": "e6541b3b-6e0c-4203-cca0-34fac9cf1e8b"
      },
      "source": [
        "for batch in validation_dataloader:\n",
        "    \n",
        "    # Unpack this training batch from our dataloader. \n",
        "    b_input_ids = batch[0].to(device)\n",
        "    b_input_mask = batch[1].to(device)\n",
        "    b_labels = batch[2].to(device)\n",
        "    \n",
        "    with torch.no_grad():        \n",
        "        (loss, logits) = model(b_input_ids, \n",
        "                                token_type_ids=None, \n",
        "                                attention_mask=b_input_mask,\n",
        "                                labels=b_labels)\n",
        "        \n",
        "\n",
        "    # Move logits and labels to CPU\n",
        "    logits = logits.detach().cpu().numpy()\n",
        "    label_ids = b_labels.to('cpu').numpy()\n",
        "\n",
        "    print(len(label_ids))\n"
      ],
      "execution_count": null,
      "outputs": [
        {
          "output_type": "stream",
          "text": [
            "32\n",
            "14\n"
          ],
          "name": "stdout"
        }
      ]
    },
    {
      "cell_type": "code",
      "metadata": {
        "id": "YvYfIbPGzWBz",
        "colab": {
          "base_uri": "https://localhost:8080/",
          "height": 35
        },
        "outputId": "4109d01d-5234-433c-d968-d3fcc17d6d0f"
      },
      "source": [
        "np.argmax(logits, axis=1).flatten()"
      ],
      "execution_count": null,
      "outputs": [
        {
          "output_type": "execute_result",
          "data": {
            "text/plain": [
              "array([4, 3, 1, 1, 0, 2, 0, 0, 3, 1, 2, 1, 2, 3])"
            ]
          },
          "metadata": {
            "tags": []
          },
          "execution_count": 35
        }
      ]
    },
    {
      "cell_type": "code",
      "metadata": {
        "id": "0Iq7kZDg24q9",
        "colab": {
          "base_uri": "https://localhost:8080/",
          "height": 35
        },
        "outputId": "97277f51-b4aa-411f-ee9e-5f88e8df45c1"
      },
      "source": [
        "label_ids"
      ],
      "execution_count": null,
      "outputs": [
        {
          "output_type": "execute_result",
          "data": {
            "text/plain": [
              "array([4, 3, 4, 1, 0, 1, 0, 0, 1, 1, 2, 1, 2, 3])"
            ]
          },
          "metadata": {
            "tags": []
          },
          "execution_count": 51
        }
      ]
    },
    {
      "cell_type": "code",
      "metadata": {
        "id": "HHnZ7lXt8ifC",
        "colab": {
          "base_uri": "https://localhost:8080/",
          "height": 72
        },
        "outputId": "b8ca997e-777d-4a47-f101-9e4930d25d30"
      },
      "source": [
        "for p, a in zip(np.argmax(logits, axis=1).flatten(), label_ids):\n",
        "  if p != a:\n",
        "    print(p, a)"
      ],
      "execution_count": null,
      "outputs": [
        {
          "output_type": "stream",
          "text": [
            "1 4\n",
            "2 1\n",
            "3 1\n"
          ],
          "name": "stdout"
        }
      ]
    },
    {
      "cell_type": "code",
      "metadata": {
        "id": "kAuTF6Qe80pi",
        "colab": {
          "base_uri": "https://localhost:8080/",
          "height": 290
        },
        "outputId": "64c8cd0c-11bf-4cd6-aad8-883c155ba89c"
      },
      "source": [
        "batch"
      ],
      "execution_count": null,
      "outputs": [
        {
          "output_type": "execute_result",
          "data": {
            "text/plain": [
              "[tensor([[  101,  4419,  2739,  ...,     0,     0,     0],\n",
              "         [  101,  2123,  1005,  ...,  1996,  3815,   102],\n",
              "         [  101,  1045,  4687,  ...,  2013, 23885,   102],\n",
              "         ...,\n",
              "         [  101, 27166,  3388,  ...,  1997,  2712,   102],\n",
              "         [  101, 15768,  2736,  ...,  2005,  1996,   102],\n",
              "         [  101,  2215,  2000,  ...,  2027,  2071,   102]]),\n",
              " tensor([[1, 1, 1,  ..., 0, 0, 0],\n",
              "         [1, 1, 1,  ..., 1, 1, 1],\n",
              "         [1, 1, 1,  ..., 1, 1, 1],\n",
              "         ...,\n",
              "         [1, 1, 1,  ..., 1, 1, 1],\n",
              "         [1, 1, 1,  ..., 1, 1, 1],\n",
              "         [1, 1, 1,  ..., 1, 1, 1]]),\n",
              " tensor([4, 3, 4, 1, 0, 1, 0, 0, 1, 1, 2, 1, 2, 3])]"
            ]
          },
          "metadata": {
            "tags": []
          },
          "execution_count": 57
        }
      ]
    },
    {
      "cell_type": "code",
      "metadata": {
        "id": "DCKUt4Ip-WPh"
      },
      "source": [
        ""
      ],
      "execution_count": null,
      "outputs": []
    },
    {
      "cell_type": "code",
      "metadata": {
        "id": "itnlMa2arPJy"
      },
      "source": [
        ""
      ],
      "execution_count": null,
      "outputs": []
    },
    {
      "cell_type": "code",
      "metadata": {
        "id": "eTUQ9KBj-q3O"
      },
      "source": [
        ""
      ],
      "execution_count": null,
      "outputs": []
    }
  ]
}